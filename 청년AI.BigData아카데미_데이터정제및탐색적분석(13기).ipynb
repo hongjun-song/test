{
 "cells": [
  {
   "cell_type": "markdown",
   "metadata": {},
   "source": [
    "# 데이터 정제 및 탐색적분석"
   ]
  },
  {
   "cell_type": "code",
   "execution_count": 1,
   "metadata": {},
   "outputs": [],
   "source": [
    "# 한글설치 (윈도우 버전)\n",
    "import matplotlib\n",
    "import matplotlib.font_manager as fm\n",
    "\n",
    "font_location = 'C:/Windows/Fonts/malgunbd.ttf'\n",
    "font_name = fm.FontProperties(fname = font_location).get_name()\n",
    "matplotlib.rc('font', family = font_name)"
   ]
  },
  {
   "cell_type": "code",
   "execution_count": 2,
   "metadata": {},
   "outputs": [],
   "source": [
    "# 실행결과 경고메시지 출력 제외\n",
    "import warnings\n",
    "\n",
    "warnings.filterwarnings('ignore')"
   ]
  },
  {
   "cell_type": "code",
   "execution_count": 3,
   "metadata": {},
   "outputs": [],
   "source": [
    "# 음수 표시\n",
    "matplotlib.rc('axes', unicode_minus=False)"
   ]
  },
  {
   "cell_type": "markdown",
   "metadata": {},
   "source": [
    "### 데이터 정제 연습 (P 23)"
   ]
  },
  {
   "cell_type": "code",
   "execution_count": 4,
   "metadata": {},
   "outputs": [],
   "source": [
    "import pandas as pd\n",
    "import numpy as np\n",
    "from sklearn.preprocessing import scale, minmax_scale, robust_scale\n",
    "\n",
    "%matplotlib inline"
   ]
  },
  {
   "cell_type": "code",
   "execution_count": 6,
   "metadata": {},
   "outputs": [
    {
     "data": {
      "text/html": [
       "<div>\n",
       "<style scoped>\n",
       "    .dataframe tbody tr th:only-of-type {\n",
       "        vertical-align: middle;\n",
       "    }\n",
       "\n",
       "    .dataframe tbody tr th {\n",
       "        vertical-align: top;\n",
       "    }\n",
       "\n",
       "    .dataframe thead th {\n",
       "        text-align: right;\n",
       "    }\n",
       "</style>\n",
       "<table border=\"1\" class=\"dataframe\">\n",
       "  <thead>\n",
       "    <tr style=\"text-align: right;\">\n",
       "      <th></th>\n",
       "      <th>NAME</th>\n",
       "      <th>GENDER</th>\n",
       "      <th>AGE</th>\n",
       "      <th>AGEGROUP</th>\n",
       "      <th>WEIGHT</th>\n",
       "      <th>OXY</th>\n",
       "      <th>RUNTIME</th>\n",
       "      <th>RUNPULSE</th>\n",
       "      <th>RSTPULSE</th>\n",
       "      <th>MAXPULSE</th>\n",
       "    </tr>\n",
       "  </thead>\n",
       "  <tbody>\n",
       "    <tr>\n",
       "      <th>0</th>\n",
       "      <td>Donna</td>\n",
       "      <td>여성</td>\n",
       "      <td>42</td>\n",
       "      <td>40대</td>\n",
       "      <td>68.15</td>\n",
       "      <td>59.571</td>\n",
       "      <td>8.17</td>\n",
       "      <td>166</td>\n",
       "      <td>40</td>\n",
       "      <td>172</td>\n",
       "    </tr>\n",
       "    <tr>\n",
       "      <th>1</th>\n",
       "      <td>Gracie</td>\n",
       "      <td>NaN</td>\n",
       "      <td>38</td>\n",
       "      <td>30대</td>\n",
       "      <td>81.87</td>\n",
       "      <td>60.055</td>\n",
       "      <td>8.63</td>\n",
       "      <td>170</td>\n",
       "      <td>48</td>\n",
       "      <td>186</td>\n",
       "    </tr>\n",
       "    <tr>\n",
       "      <th>2</th>\n",
       "      <td>Luanne</td>\n",
       "      <td>여성</td>\n",
       "      <td>43</td>\n",
       "      <td>40대</td>\n",
       "      <td>85.84</td>\n",
       "      <td>54.297</td>\n",
       "      <td>8.65</td>\n",
       "      <td>156</td>\n",
       "      <td>45</td>\n",
       "      <td>168</td>\n",
       "    </tr>\n",
       "    <tr>\n",
       "      <th>3</th>\n",
       "      <td>Mimi</td>\n",
       "      <td>여성</td>\n",
       "      <td>50</td>\n",
       "      <td>50대</td>\n",
       "      <td>70.87</td>\n",
       "      <td>54.625</td>\n",
       "      <td>8.92</td>\n",
       "      <td>146</td>\n",
       "      <td>48</td>\n",
       "      <td>155</td>\n",
       "    </tr>\n",
       "    <tr>\n",
       "      <th>4</th>\n",
       "      <td>Chris</td>\n",
       "      <td>남성</td>\n",
       "      <td>49</td>\n",
       "      <td>40대</td>\n",
       "      <td>NaN</td>\n",
       "      <td>49.156</td>\n",
       "      <td>8.95</td>\n",
       "      <td>180</td>\n",
       "      <td>44</td>\n",
       "      <td>185</td>\n",
       "    </tr>\n",
       "  </tbody>\n",
       "</table>\n",
       "</div>"
      ],
      "text/plain": [
       "     NAME GENDER  AGE AGEGROUP  WEIGHT     OXY  RUNTIME  RUNPULSE  RSTPULSE  \\\n",
       "0   Donna     여성   42      40대   68.15  59.571     8.17       166        40   \n",
       "1  Gracie    NaN   38      30대   81.87  60.055     8.63       170        48   \n",
       "2  Luanne     여성   43      40대   85.84  54.297     8.65       156        45   \n",
       "3    Mimi     여성   50      50대   70.87  54.625     8.92       146        48   \n",
       "4   Chris     남성   49      40대     NaN  49.156     8.95       180        44   \n",
       "\n",
       "   MAXPULSE  \n",
       "0       172  \n",
       "1       186  \n",
       "2       168  \n",
       "3       155  \n",
       "4       185  "
      ]
     },
     "execution_count": 6,
     "metadata": {},
     "output_type": "execute_result"
    }
   ],
   "source": [
    "# 24 Page\n",
    "df_raw = pd.read_csv(\"C:/청년AI.BigData아카데미/data/FITNESS_결측.CSV\", encoding = \"euc-kr\")\n",
    "df_raw.head()"
   ]
  },
  {
   "cell_type": "code",
   "execution_count": 7,
   "metadata": {},
   "outputs": [
    {
     "data": {
      "text/html": [
       "<div>\n",
       "<style scoped>\n",
       "    .dataframe tbody tr th:only-of-type {\n",
       "        vertical-align: middle;\n",
       "    }\n",
       "\n",
       "    .dataframe tbody tr th {\n",
       "        vertical-align: top;\n",
       "    }\n",
       "\n",
       "    .dataframe thead th {\n",
       "        text-align: right;\n",
       "    }\n",
       "</style>\n",
       "<table border=\"1\" class=\"dataframe\">\n",
       "  <thead>\n",
       "    <tr style=\"text-align: right;\">\n",
       "      <th></th>\n",
       "      <th>NAME</th>\n",
       "      <th>GENDER</th>\n",
       "      <th>AGE</th>\n",
       "      <th>AGEGROUP</th>\n",
       "      <th>WEIGHT</th>\n",
       "      <th>OXY</th>\n",
       "      <th>RUNTIME</th>\n",
       "      <th>RUNPULSE</th>\n",
       "      <th>RSTPULSE</th>\n",
       "      <th>MAXPULSE</th>\n",
       "    </tr>\n",
       "  </thead>\n",
       "  <tbody>\n",
       "    <tr>\n",
       "      <th>0</th>\n",
       "      <td>False</td>\n",
       "      <td>False</td>\n",
       "      <td>False</td>\n",
       "      <td>False</td>\n",
       "      <td>False</td>\n",
       "      <td>False</td>\n",
       "      <td>False</td>\n",
       "      <td>False</td>\n",
       "      <td>False</td>\n",
       "      <td>False</td>\n",
       "    </tr>\n",
       "    <tr>\n",
       "      <th>1</th>\n",
       "      <td>False</td>\n",
       "      <td>True</td>\n",
       "      <td>False</td>\n",
       "      <td>False</td>\n",
       "      <td>False</td>\n",
       "      <td>False</td>\n",
       "      <td>False</td>\n",
       "      <td>False</td>\n",
       "      <td>False</td>\n",
       "      <td>False</td>\n",
       "    </tr>\n",
       "    <tr>\n",
       "      <th>2</th>\n",
       "      <td>False</td>\n",
       "      <td>False</td>\n",
       "      <td>False</td>\n",
       "      <td>False</td>\n",
       "      <td>False</td>\n",
       "      <td>False</td>\n",
       "      <td>False</td>\n",
       "      <td>False</td>\n",
       "      <td>False</td>\n",
       "      <td>False</td>\n",
       "    </tr>\n",
       "    <tr>\n",
       "      <th>3</th>\n",
       "      <td>False</td>\n",
       "      <td>False</td>\n",
       "      <td>False</td>\n",
       "      <td>False</td>\n",
       "      <td>False</td>\n",
       "      <td>False</td>\n",
       "      <td>False</td>\n",
       "      <td>False</td>\n",
       "      <td>False</td>\n",
       "      <td>False</td>\n",
       "    </tr>\n",
       "    <tr>\n",
       "      <th>4</th>\n",
       "      <td>False</td>\n",
       "      <td>False</td>\n",
       "      <td>False</td>\n",
       "      <td>False</td>\n",
       "      <td>True</td>\n",
       "      <td>False</td>\n",
       "      <td>False</td>\n",
       "      <td>False</td>\n",
       "      <td>False</td>\n",
       "      <td>False</td>\n",
       "    </tr>\n",
       "  </tbody>\n",
       "</table>\n",
       "</div>"
      ],
      "text/plain": [
       "    NAME  GENDER    AGE  AGEGROUP  WEIGHT    OXY  RUNTIME  RUNPULSE  RSTPULSE  \\\n",
       "0  False   False  False     False   False  False    False     False     False   \n",
       "1  False    True  False     False   False  False    False     False     False   \n",
       "2  False   False  False     False   False  False    False     False     False   \n",
       "3  False   False  False     False   False  False    False     False     False   \n",
       "4  False   False  False     False    True  False    False     False     False   \n",
       "\n",
       "   MAXPULSE  \n",
       "0     False  \n",
       "1     False  \n",
       "2     False  \n",
       "3     False  \n",
       "4     False  "
      ]
     },
     "execution_count": 7,
     "metadata": {},
     "output_type": "execute_result"
    }
   ],
   "source": [
    "# 25 Page\n",
    "# 결측치 확인 : pandas.DataFrame.isnull() 또는 pandas.DataFrame.isna()\n",
    "df_raw.isnull().head()  # NaN이 존재하면 True 표시"
   ]
  },
  {
   "cell_type": "code",
   "execution_count": 8,
   "metadata": {},
   "outputs": [
    {
     "data": {
      "text/html": [
       "<div>\n",
       "<style scoped>\n",
       "    .dataframe tbody tr th:only-of-type {\n",
       "        vertical-align: middle;\n",
       "    }\n",
       "\n",
       "    .dataframe tbody tr th {\n",
       "        vertical-align: top;\n",
       "    }\n",
       "\n",
       "    .dataframe thead th {\n",
       "        text-align: right;\n",
       "    }\n",
       "</style>\n",
       "<table border=\"1\" class=\"dataframe\">\n",
       "  <thead>\n",
       "    <tr style=\"text-align: right;\">\n",
       "      <th></th>\n",
       "      <th>NAME</th>\n",
       "      <th>GENDER</th>\n",
       "      <th>AGE</th>\n",
       "      <th>AGEGROUP</th>\n",
       "      <th>WEIGHT</th>\n",
       "      <th>OXY</th>\n",
       "      <th>RUNTIME</th>\n",
       "      <th>RUNPULSE</th>\n",
       "      <th>RSTPULSE</th>\n",
       "      <th>MAXPULSE</th>\n",
       "    </tr>\n",
       "  </thead>\n",
       "  <tbody>\n",
       "    <tr>\n",
       "      <th>0</th>\n",
       "      <td>False</td>\n",
       "      <td>False</td>\n",
       "      <td>False</td>\n",
       "      <td>False</td>\n",
       "      <td>False</td>\n",
       "      <td>False</td>\n",
       "      <td>False</td>\n",
       "      <td>False</td>\n",
       "      <td>False</td>\n",
       "      <td>False</td>\n",
       "    </tr>\n",
       "    <tr>\n",
       "      <th>1</th>\n",
       "      <td>False</td>\n",
       "      <td>True</td>\n",
       "      <td>False</td>\n",
       "      <td>False</td>\n",
       "      <td>False</td>\n",
       "      <td>False</td>\n",
       "      <td>False</td>\n",
       "      <td>False</td>\n",
       "      <td>False</td>\n",
       "      <td>False</td>\n",
       "    </tr>\n",
       "    <tr>\n",
       "      <th>2</th>\n",
       "      <td>False</td>\n",
       "      <td>False</td>\n",
       "      <td>False</td>\n",
       "      <td>False</td>\n",
       "      <td>False</td>\n",
       "      <td>False</td>\n",
       "      <td>False</td>\n",
       "      <td>False</td>\n",
       "      <td>False</td>\n",
       "      <td>False</td>\n",
       "    </tr>\n",
       "    <tr>\n",
       "      <th>3</th>\n",
       "      <td>False</td>\n",
       "      <td>False</td>\n",
       "      <td>False</td>\n",
       "      <td>False</td>\n",
       "      <td>False</td>\n",
       "      <td>False</td>\n",
       "      <td>False</td>\n",
       "      <td>False</td>\n",
       "      <td>False</td>\n",
       "      <td>False</td>\n",
       "    </tr>\n",
       "    <tr>\n",
       "      <th>4</th>\n",
       "      <td>False</td>\n",
       "      <td>False</td>\n",
       "      <td>False</td>\n",
       "      <td>False</td>\n",
       "      <td>True</td>\n",
       "      <td>False</td>\n",
       "      <td>False</td>\n",
       "      <td>False</td>\n",
       "      <td>False</td>\n",
       "      <td>False</td>\n",
       "    </tr>\n",
       "  </tbody>\n",
       "</table>\n",
       "</div>"
      ],
      "text/plain": [
       "    NAME  GENDER    AGE  AGEGROUP  WEIGHT    OXY  RUNTIME  RUNPULSE  RSTPULSE  \\\n",
       "0  False   False  False     False   False  False    False     False     False   \n",
       "1  False    True  False     False   False  False    False     False     False   \n",
       "2  False   False  False     False   False  False    False     False     False   \n",
       "3  False   False  False     False   False  False    False     False     False   \n",
       "4  False   False  False     False    True  False    False     False     False   \n",
       "\n",
       "   MAXPULSE  \n",
       "0     False  \n",
       "1     False  \n",
       "2     False  \n",
       "3     False  \n",
       "4     False  "
      ]
     },
     "execution_count": 8,
     "metadata": {},
     "output_type": "execute_result"
    }
   ],
   "source": [
    "df_raw.isna().head()  # isnull()과  동일"
   ]
  },
  {
   "cell_type": "code",
   "execution_count": 9,
   "metadata": {},
   "outputs": [
    {
     "data": {
      "text/html": [
       "<div>\n",
       "<style scoped>\n",
       "    .dataframe tbody tr th:only-of-type {\n",
       "        vertical-align: middle;\n",
       "    }\n",
       "\n",
       "    .dataframe tbody tr th {\n",
       "        vertical-align: top;\n",
       "    }\n",
       "\n",
       "    .dataframe thead th {\n",
       "        text-align: right;\n",
       "    }\n",
       "</style>\n",
       "<table border=\"1\" class=\"dataframe\">\n",
       "  <thead>\n",
       "    <tr style=\"text-align: right;\">\n",
       "      <th></th>\n",
       "      <th>NAME</th>\n",
       "      <th>GENDER</th>\n",
       "      <th>AGE</th>\n",
       "      <th>AGEGROUP</th>\n",
       "      <th>WEIGHT</th>\n",
       "      <th>OXY</th>\n",
       "      <th>RUNTIME</th>\n",
       "      <th>RUNPULSE</th>\n",
       "      <th>RSTPULSE</th>\n",
       "      <th>MAXPULSE</th>\n",
       "    </tr>\n",
       "  </thead>\n",
       "  <tbody>\n",
       "    <tr>\n",
       "      <th>4</th>\n",
       "      <td>Chris</td>\n",
       "      <td>남성</td>\n",
       "      <td>49</td>\n",
       "      <td>40대</td>\n",
       "      <td>NaN</td>\n",
       "      <td>49.156</td>\n",
       "      <td>8.95</td>\n",
       "      <td>180</td>\n",
       "      <td>44</td>\n",
       "      <td>185</td>\n",
       "    </tr>\n",
       "    <tr>\n",
       "      <th>18</th>\n",
       "      <td>Ralph</td>\n",
       "      <td>남성</td>\n",
       "      <td>43</td>\n",
       "      <td>40대</td>\n",
       "      <td>NaN</td>\n",
       "      <td>49.091</td>\n",
       "      <td>10.85</td>\n",
       "      <td>162</td>\n",
       "      <td>64</td>\n",
       "      <td>170</td>\n",
       "    </tr>\n",
       "  </tbody>\n",
       "</table>\n",
       "</div>"
      ],
      "text/plain": [
       "     NAME GENDER  AGE AGEGROUP  WEIGHT     OXY  RUNTIME  RUNPULSE  RSTPULSE  \\\n",
       "4   Chris     남성   49      40대     NaN  49.156     8.95       180        44   \n",
       "18  Ralph     남성   43      40대     NaN  49.091    10.85       162        64   \n",
       "\n",
       "    MAXPULSE  \n",
       "4        185  \n",
       "18       170  "
      ]
     },
     "execution_count": 9,
     "metadata": {},
     "output_type": "execute_result"
    }
   ],
   "source": [
    "# 개인코딩 \n",
    "df_raw[df_raw['WEIGHT'].isnull()]"
   ]
  },
  {
   "cell_type": "code",
   "execution_count": 10,
   "metadata": {},
   "outputs": [
    {
     "data": {
      "text/plain": [
       "NAME        0\n",
       "GENDER      1\n",
       "AGE         0\n",
       "AGEGROUP    0\n",
       "WEIGHT      2\n",
       "OXY         0\n",
       "RUNTIME     0\n",
       "RUNPULSE    0\n",
       "RSTPULSE    0\n",
       "MAXPULSE    0\n",
       "dtype: int64"
      ]
     },
     "execution_count": 10,
     "metadata": {},
     "output_type": "execute_result"
    }
   ],
   "source": [
    "# 26 Page\n",
    "# 결측치(True) 현황 요약 :sum 함수\n",
    "df_raw.isnull().sum()"
   ]
  },
  {
   "cell_type": "code",
   "execution_count": 11,
   "metadata": {},
   "outputs": [
    {
     "data": {
      "text/html": [
       "<div>\n",
       "<style scoped>\n",
       "    .dataframe tbody tr th:only-of-type {\n",
       "        vertical-align: middle;\n",
       "    }\n",
       "\n",
       "    .dataframe tbody tr th {\n",
       "        vertical-align: top;\n",
       "    }\n",
       "\n",
       "    .dataframe thead th {\n",
       "        text-align: right;\n",
       "    }\n",
       "</style>\n",
       "<table border=\"1\" class=\"dataframe\">\n",
       "  <thead>\n",
       "    <tr style=\"text-align: right;\">\n",
       "      <th></th>\n",
       "      <th>NAME</th>\n",
       "      <th>GENDER</th>\n",
       "      <th>AGE</th>\n",
       "      <th>AGEGROUP</th>\n",
       "      <th>WEIGHT</th>\n",
       "      <th>OXY</th>\n",
       "      <th>RUNTIME</th>\n",
       "      <th>RUNPULSE</th>\n",
       "      <th>RSTPULSE</th>\n",
       "      <th>MAXPULSE</th>\n",
       "    </tr>\n",
       "  </thead>\n",
       "  <tbody>\n",
       "    <tr>\n",
       "      <th>0</th>\n",
       "      <td>Donna</td>\n",
       "      <td>여성</td>\n",
       "      <td>42</td>\n",
       "      <td>40대</td>\n",
       "      <td>68.15</td>\n",
       "      <td>59.571</td>\n",
       "      <td>8.17</td>\n",
       "      <td>166</td>\n",
       "      <td>40</td>\n",
       "      <td>172</td>\n",
       "    </tr>\n",
       "    <tr>\n",
       "      <th>1</th>\n",
       "      <td>Gracie</td>\n",
       "      <td>여성</td>\n",
       "      <td>38</td>\n",
       "      <td>30대</td>\n",
       "      <td>81.87</td>\n",
       "      <td>60.055</td>\n",
       "      <td>8.63</td>\n",
       "      <td>170</td>\n",
       "      <td>48</td>\n",
       "      <td>186</td>\n",
       "    </tr>\n",
       "    <tr>\n",
       "      <th>2</th>\n",
       "      <td>Luanne</td>\n",
       "      <td>여성</td>\n",
       "      <td>43</td>\n",
       "      <td>40대</td>\n",
       "      <td>85.84</td>\n",
       "      <td>54.297</td>\n",
       "      <td>8.65</td>\n",
       "      <td>156</td>\n",
       "      <td>45</td>\n",
       "      <td>168</td>\n",
       "    </tr>\n",
       "    <tr>\n",
       "      <th>3</th>\n",
       "      <td>Mimi</td>\n",
       "      <td>여성</td>\n",
       "      <td>50</td>\n",
       "      <td>50대</td>\n",
       "      <td>70.87</td>\n",
       "      <td>54.625</td>\n",
       "      <td>8.92</td>\n",
       "      <td>146</td>\n",
       "      <td>48</td>\n",
       "      <td>155</td>\n",
       "    </tr>\n",
       "    <tr>\n",
       "      <th>4</th>\n",
       "      <td>Chris</td>\n",
       "      <td>남성</td>\n",
       "      <td>49</td>\n",
       "      <td>40대</td>\n",
       "      <td>NaN</td>\n",
       "      <td>49.156</td>\n",
       "      <td>8.95</td>\n",
       "      <td>180</td>\n",
       "      <td>44</td>\n",
       "      <td>185</td>\n",
       "    </tr>\n",
       "  </tbody>\n",
       "</table>\n",
       "</div>"
      ],
      "text/plain": [
       "     NAME GENDER  AGE AGEGROUP  WEIGHT     OXY  RUNTIME  RUNPULSE  RSTPULSE  \\\n",
       "0   Donna     여성   42      40대   68.15  59.571     8.17       166        40   \n",
       "1  Gracie     여성   38      30대   81.87  60.055     8.63       170        48   \n",
       "2  Luanne     여성   43      40대   85.84  54.297     8.65       156        45   \n",
       "3    Mimi     여성   50      50대   70.87  54.625     8.92       146        48   \n",
       "4   Chris     남성   49      40대     NaN  49.156     8.95       180        44   \n",
       "\n",
       "   MAXPULSE  \n",
       "0       172  \n",
       "1       186  \n",
       "2       168  \n",
       "3       155  \n",
       "4       185  "
      ]
     },
     "execution_count": 11,
     "metadata": {},
     "output_type": "execute_result"
    }
   ],
   "source": [
    "# 27 Page\n",
    "# 문자형 결측치 처리:pandas.DataFrame.fillna(값, inplace: 결측치 입력 후 저장 여부)\n",
    "df_raw[\"GENDER\"].fillna(\"여성\", inplace = True)\n",
    "df_raw.head()"
   ]
  },
  {
   "cell_type": "code",
   "execution_count": 12,
   "metadata": {},
   "outputs": [
    {
     "data": {
      "text/plain": [
       "GENDER\n",
       "남성    82.433077\n",
       "여성    72.908750\n",
       "Name: WEIGHT, dtype: float64"
      ]
     },
     "execution_count": 12,
     "metadata": {},
     "output_type": "execute_result"
    }
   ],
   "source": [
    "# 28 Page\n",
    "# 숫자형 결측치 처리 :groupby(범주형 변수), agg(\"집계함수\")\n",
    "df_raw.groupby(\"GENDER\")[\"WEIGHT\"].agg(\"mean\")"
   ]
  },
  {
   "cell_type": "code",
   "execution_count": 13,
   "metadata": {},
   "outputs": [
    {
     "data": {
      "text/html": [
       "<div>\n",
       "<style scoped>\n",
       "    .dataframe tbody tr th:only-of-type {\n",
       "        vertical-align: middle;\n",
       "    }\n",
       "\n",
       "    .dataframe tbody tr th {\n",
       "        vertical-align: top;\n",
       "    }\n",
       "\n",
       "    .dataframe thead th {\n",
       "        text-align: right;\n",
       "    }\n",
       "</style>\n",
       "<table border=\"1\" class=\"dataframe\">\n",
       "  <thead>\n",
       "    <tr style=\"text-align: right;\">\n",
       "      <th></th>\n",
       "      <th>NAME</th>\n",
       "      <th>GENDER</th>\n",
       "      <th>AGE</th>\n",
       "      <th>AGEGROUP</th>\n",
       "      <th>WEIGHT</th>\n",
       "      <th>OXY</th>\n",
       "      <th>RUNTIME</th>\n",
       "      <th>RUNPULSE</th>\n",
       "      <th>RSTPULSE</th>\n",
       "      <th>MAXPULSE</th>\n",
       "    </tr>\n",
       "  </thead>\n",
       "  <tbody>\n",
       "    <tr>\n",
       "      <th>0</th>\n",
       "      <td>Donna</td>\n",
       "      <td>여성</td>\n",
       "      <td>42</td>\n",
       "      <td>40대</td>\n",
       "      <td>68.150</td>\n",
       "      <td>59.571</td>\n",
       "      <td>8.17</td>\n",
       "      <td>166</td>\n",
       "      <td>40</td>\n",
       "      <td>172</td>\n",
       "    </tr>\n",
       "    <tr>\n",
       "      <th>1</th>\n",
       "      <td>Gracie</td>\n",
       "      <td>여성</td>\n",
       "      <td>38</td>\n",
       "      <td>30대</td>\n",
       "      <td>81.870</td>\n",
       "      <td>60.055</td>\n",
       "      <td>8.63</td>\n",
       "      <td>170</td>\n",
       "      <td>48</td>\n",
       "      <td>186</td>\n",
       "    </tr>\n",
       "    <tr>\n",
       "      <th>2</th>\n",
       "      <td>Luanne</td>\n",
       "      <td>여성</td>\n",
       "      <td>43</td>\n",
       "      <td>40대</td>\n",
       "      <td>85.840</td>\n",
       "      <td>54.297</td>\n",
       "      <td>8.65</td>\n",
       "      <td>156</td>\n",
       "      <td>45</td>\n",
       "      <td>168</td>\n",
       "    </tr>\n",
       "    <tr>\n",
       "      <th>3</th>\n",
       "      <td>Mimi</td>\n",
       "      <td>여성</td>\n",
       "      <td>50</td>\n",
       "      <td>50대</td>\n",
       "      <td>70.870</td>\n",
       "      <td>54.625</td>\n",
       "      <td>8.92</td>\n",
       "      <td>146</td>\n",
       "      <td>48</td>\n",
       "      <td>155</td>\n",
       "    </tr>\n",
       "    <tr>\n",
       "      <th>4</th>\n",
       "      <td>Chris</td>\n",
       "      <td>남성</td>\n",
       "      <td>49</td>\n",
       "      <td>40대</td>\n",
       "      <td>82.433</td>\n",
       "      <td>49.156</td>\n",
       "      <td>8.95</td>\n",
       "      <td>180</td>\n",
       "      <td>44</td>\n",
       "      <td>185</td>\n",
       "    </tr>\n",
       "  </tbody>\n",
       "</table>\n",
       "</div>"
      ],
      "text/plain": [
       "     NAME GENDER  AGE AGEGROUP  WEIGHT     OXY  RUNTIME  RUNPULSE  RSTPULSE  \\\n",
       "0   Donna     여성   42      40대  68.150  59.571     8.17       166        40   \n",
       "1  Gracie     여성   38      30대  81.870  60.055     8.63       170        48   \n",
       "2  Luanne     여성   43      40대  85.840  54.297     8.65       156        45   \n",
       "3    Mimi     여성   50      50대  70.870  54.625     8.92       146        48   \n",
       "4   Chris     남성   49      40대  82.433  49.156     8.95       180        44   \n",
       "\n",
       "   MAXPULSE  \n",
       "0       172  \n",
       "1       186  \n",
       "2       168  \n",
       "3       155  \n",
       "4       185  "
      ]
     },
     "execution_count": 13,
     "metadata": {},
     "output_type": "execute_result"
    }
   ],
   "source": [
    "# 29 Page\n",
    "df_raw[\"WEIGHT\"] = df_raw[\"WEIGHT\"].fillna(df_raw.groupby(\"GENDER\")[\"WEIGHT\"].transform(\"mean\")).round(3)\n",
    "df_raw.head()"
   ]
  },
  {
   "cell_type": "code",
   "execution_count": 14,
   "metadata": {},
   "outputs": [
    {
     "data": {
      "text/plain": [
       "<matplotlib.axes._subplots.AxesSubplot at 0x28641299bb0>"
      ]
     },
     "execution_count": 14,
     "metadata": {},
     "output_type": "execute_result"
    },
    {
     "data": {
      "image/png": "[encoded data removed]",
      "text/plain": [
       "<Figure size 720x288 with 1 Axes>"
      ]
     },
     "metadata": {
      "needs_background": "light"
     },
     "output_type": "display_data"
    }
   ],
   "source": [
    "# 30 Page\n",
    "# boxplot: 상자수염도, figsize: 그래프 크기(x축, y축)\n",
    "df_raw.boxplot(figsize = (10, 4))"
   ]
  },
  {
   "cell_type": "code",
   "execution_count": 15,
   "metadata": {},
   "outputs": [
    {
     "data": {
      "text/plain": [
       "0     False\n",
       "1     False\n",
       "2     False\n",
       "3     False\n",
       "4     False\n",
       "5     False\n",
       "6     False\n",
       "7     False\n",
       "8     False\n",
       "9     False\n",
       "10    False\n",
       "11    False\n",
       "12    False\n",
       "13    False\n",
       "14    False\n",
       "15    False\n",
       "16    False\n",
       "17    False\n",
       "18    False\n",
       "19    False\n",
       "20    False\n",
       "21    False\n",
       "22    False\n",
       "23    False\n",
       "24    False\n",
       "25    False\n",
       "26    False\n",
       "27    False\n",
       "28     True\n",
       "29    False\n",
       "30    False\n",
       "Name: RSTPULSE, dtype: bool"
      ]
     },
     "execution_count": 15,
     "metadata": {},
     "output_type": "execute_result"
    }
   ],
   "source": [
    "# 31 Page\n",
    "# RSTPULSE 변수에서 이상치(100보다 큰 값) 확인 : True/False로 표시\n",
    "df_raw[\"RSTPULSE\"] >= 100"
   ]
  },
  {
   "cell_type": "code",
   "execution_count": 16,
   "metadata": {},
   "outputs": [
    {
     "data": {
      "text/html": [
       "<div>\n",
       "<style scoped>\n",
       "    .dataframe tbody tr th:only-of-type {\n",
       "        vertical-align: middle;\n",
       "    }\n",
       "\n",
       "    .dataframe tbody tr th {\n",
       "        vertical-align: top;\n",
       "    }\n",
       "\n",
       "    .dataframe thead th {\n",
       "        text-align: right;\n",
       "    }\n",
       "</style>\n",
       "<table border=\"1\" class=\"dataframe\">\n",
       "  <thead>\n",
       "    <tr style=\"text-align: right;\">\n",
       "      <th></th>\n",
       "      <th>NAME</th>\n",
       "      <th>GENDER</th>\n",
       "      <th>AGE</th>\n",
       "      <th>AGEGROUP</th>\n",
       "      <th>WEIGHT</th>\n",
       "      <th>OXY</th>\n",
       "      <th>RUNTIME</th>\n",
       "      <th>RUNPULSE</th>\n",
       "      <th>RSTPULSE</th>\n",
       "      <th>MAXPULSE</th>\n",
       "    </tr>\n",
       "  </thead>\n",
       "  <tbody>\n",
       "    <tr>\n",
       "      <th>27</th>\n",
       "      <td>Mark</td>\n",
       "      <td>남성</td>\n",
       "      <td>57</td>\n",
       "      <td>50대</td>\n",
       "      <td>73.37</td>\n",
       "      <td>39.407</td>\n",
       "      <td>12.63</td>\n",
       "      <td>174</td>\n",
       "      <td>58</td>\n",
       "      <td>176</td>\n",
       "    </tr>\n",
       "    <tr>\n",
       "      <th>28</th>\n",
       "      <td>Steve</td>\n",
       "      <td>남성</td>\n",
       "      <td>54</td>\n",
       "      <td>50대</td>\n",
       "      <td>91.63</td>\n",
       "      <td>39.203</td>\n",
       "      <td>12.88</td>\n",
       "      <td>168</td>\n",
       "      <td>144</td>\n",
       "      <td>172</td>\n",
       "    </tr>\n",
       "    <tr>\n",
       "      <th>29</th>\n",
       "      <td>Vaughn</td>\n",
       "      <td>남성</td>\n",
       "      <td>44</td>\n",
       "      <td>40대</td>\n",
       "      <td>81.42</td>\n",
       "      <td>39.442</td>\n",
       "      <td>13.08</td>\n",
       "      <td>174</td>\n",
       "      <td>63</td>\n",
       "      <td>176</td>\n",
       "    </tr>\n",
       "  </tbody>\n",
       "</table>\n",
       "</div>"
      ],
      "text/plain": [
       "      NAME GENDER  AGE AGEGROUP  WEIGHT     OXY  RUNTIME  RUNPULSE  RSTPULSE  \\\n",
       "27    Mark     남성   57      50대   73.37  39.407    12.63       174        58   \n",
       "28   Steve     남성   54      50대   91.63  39.203    12.88       168       144   \n",
       "29  Vaughn     남성   44      40대   81.42  39.442    13.08       174        63   \n",
       "\n",
       "    MAXPULSE  \n",
       "27       176  \n",
       "28       172  \n",
       "29       176  "
      ]
     },
     "execution_count": 16,
     "metadata": {},
     "output_type": "execute_result"
    }
   ],
   "source": [
    "df_raw.loc[27:29]"
   ]
  },
  {
   "cell_type": "code",
   "execution_count": 17,
   "metadata": {},
   "outputs": [
    {
     "data": {
      "text/html": [
       "<div>\n",
       "<style scoped>\n",
       "    .dataframe tbody tr th:only-of-type {\n",
       "        vertical-align: middle;\n",
       "    }\n",
       "\n",
       "    .dataframe tbody tr th {\n",
       "        vertical-align: top;\n",
       "    }\n",
       "\n",
       "    .dataframe thead th {\n",
       "        text-align: right;\n",
       "    }\n",
       "</style>\n",
       "<table border=\"1\" class=\"dataframe\">\n",
       "  <thead>\n",
       "    <tr style=\"text-align: right;\">\n",
       "      <th></th>\n",
       "      <th>NAME</th>\n",
       "      <th>GENDER</th>\n",
       "      <th>AGE</th>\n",
       "      <th>AGEGROUP</th>\n",
       "      <th>WEIGHT</th>\n",
       "      <th>OXY</th>\n",
       "      <th>RUNTIME</th>\n",
       "      <th>RUNPULSE</th>\n",
       "      <th>RSTPULSE</th>\n",
       "      <th>MAXPULSE</th>\n",
       "    </tr>\n",
       "  </thead>\n",
       "  <tbody>\n",
       "    <tr>\n",
       "      <th>28</th>\n",
       "      <td>Steve</td>\n",
       "      <td>남성</td>\n",
       "      <td>54</td>\n",
       "      <td>50대</td>\n",
       "      <td>91.63</td>\n",
       "      <td>39.203</td>\n",
       "      <td>12.88</td>\n",
       "      <td>168</td>\n",
       "      <td>144</td>\n",
       "      <td>172</td>\n",
       "    </tr>\n",
       "  </tbody>\n",
       "</table>\n",
       "</div>"
      ],
      "text/plain": [
       "     NAME GENDER  AGE AGEGROUP  WEIGHT     OXY  RUNTIME  RUNPULSE  RSTPULSE  \\\n",
       "28  Steve     남성   54      50대   91.63  39.203    12.88       168       144   \n",
       "\n",
       "    MAXPULSE  \n",
       "28       172  "
      ]
     },
     "execution_count": 17,
     "metadata": {},
     "output_type": "execute_result"
    }
   ],
   "source": [
    "# 조건 해당 자료 직접 확인\n",
    "df_raw [(df_raw[\"RSTPULSE\"] >= 100) ]"
   ]
  },
  {
   "cell_type": "code",
   "execution_count": 18,
   "metadata": {},
   "outputs": [
    {
     "data": {
      "text/html": [
       "<div>\n",
       "<style scoped>\n",
       "    .dataframe tbody tr th:only-of-type {\n",
       "        vertical-align: middle;\n",
       "    }\n",
       "\n",
       "    .dataframe tbody tr th {\n",
       "        vertical-align: top;\n",
       "    }\n",
       "\n",
       "    .dataframe thead th {\n",
       "        text-align: right;\n",
       "    }\n",
       "</style>\n",
       "<table border=\"1\" class=\"dataframe\">\n",
       "  <thead>\n",
       "    <tr style=\"text-align: right;\">\n",
       "      <th></th>\n",
       "      <th>NAME</th>\n",
       "      <th>GENDER</th>\n",
       "      <th>AGE</th>\n",
       "      <th>AGEGROUP</th>\n",
       "      <th>WEIGHT</th>\n",
       "      <th>OXY</th>\n",
       "      <th>RUNTIME</th>\n",
       "      <th>RUNPULSE</th>\n",
       "      <th>RSTPULSE</th>\n",
       "      <th>MAXPULSE</th>\n",
       "    </tr>\n",
       "  </thead>\n",
       "  <tbody>\n",
       "    <tr>\n",
       "      <th>0</th>\n",
       "      <td>Donna</td>\n",
       "      <td>여성</td>\n",
       "      <td>42</td>\n",
       "      <td>40대</td>\n",
       "      <td>68.150</td>\n",
       "      <td>59.571</td>\n",
       "      <td>8.17</td>\n",
       "      <td>166</td>\n",
       "      <td>40</td>\n",
       "      <td>172</td>\n",
       "    </tr>\n",
       "    <tr>\n",
       "      <th>1</th>\n",
       "      <td>Gracie</td>\n",
       "      <td>여성</td>\n",
       "      <td>38</td>\n",
       "      <td>30대</td>\n",
       "      <td>81.870</td>\n",
       "      <td>60.055</td>\n",
       "      <td>8.63</td>\n",
       "      <td>170</td>\n",
       "      <td>48</td>\n",
       "      <td>186</td>\n",
       "    </tr>\n",
       "    <tr>\n",
       "      <th>2</th>\n",
       "      <td>Luanne</td>\n",
       "      <td>여성</td>\n",
       "      <td>43</td>\n",
       "      <td>40대</td>\n",
       "      <td>85.840</td>\n",
       "      <td>54.297</td>\n",
       "      <td>8.65</td>\n",
       "      <td>156</td>\n",
       "      <td>45</td>\n",
       "      <td>168</td>\n",
       "    </tr>\n",
       "    <tr>\n",
       "      <th>3</th>\n",
       "      <td>Mimi</td>\n",
       "      <td>여성</td>\n",
       "      <td>50</td>\n",
       "      <td>50대</td>\n",
       "      <td>70.870</td>\n",
       "      <td>54.625</td>\n",
       "      <td>8.92</td>\n",
       "      <td>146</td>\n",
       "      <td>48</td>\n",
       "      <td>155</td>\n",
       "    </tr>\n",
       "    <tr>\n",
       "      <th>4</th>\n",
       "      <td>Chris</td>\n",
       "      <td>남성</td>\n",
       "      <td>49</td>\n",
       "      <td>40대</td>\n",
       "      <td>82.433</td>\n",
       "      <td>49.156</td>\n",
       "      <td>8.95</td>\n",
       "      <td>180</td>\n",
       "      <td>44</td>\n",
       "      <td>185</td>\n",
       "    </tr>\n",
       "    <tr>\n",
       "      <th>5</th>\n",
       "      <td>Allen</td>\n",
       "      <td>남성</td>\n",
       "      <td>38</td>\n",
       "      <td>30대</td>\n",
       "      <td>89.020</td>\n",
       "      <td>49.874</td>\n",
       "      <td>9.22</td>\n",
       "      <td>178</td>\n",
       "      <td>55</td>\n",
       "      <td>180</td>\n",
       "    </tr>\n",
       "    <tr>\n",
       "      <th>6</th>\n",
       "      <td>Nancy</td>\n",
       "      <td>여성</td>\n",
       "      <td>49</td>\n",
       "      <td>40대</td>\n",
       "      <td>76.320</td>\n",
       "      <td>48.673</td>\n",
       "      <td>9.40</td>\n",
       "      <td>186</td>\n",
       "      <td>56</td>\n",
       "      <td>188</td>\n",
       "    </tr>\n",
       "    <tr>\n",
       "      <th>7</th>\n",
       "      <td>Patty</td>\n",
       "      <td>여성</td>\n",
       "      <td>52</td>\n",
       "      <td>50대</td>\n",
       "      <td>76.320</td>\n",
       "      <td>45.441</td>\n",
       "      <td>9.63</td>\n",
       "      <td>164</td>\n",
       "      <td>48</td>\n",
       "      <td>166</td>\n",
       "    </tr>\n",
       "    <tr>\n",
       "      <th>8</th>\n",
       "      <td>Suzanne</td>\n",
       "      <td>여성</td>\n",
       "      <td>57</td>\n",
       "      <td>50대</td>\n",
       "      <td>59.080</td>\n",
       "      <td>50.545</td>\n",
       "      <td>9.93</td>\n",
       "      <td>148</td>\n",
       "      <td>49</td>\n",
       "      <td>155</td>\n",
       "    </tr>\n",
       "    <tr>\n",
       "      <th>9</th>\n",
       "      <td>Teresa</td>\n",
       "      <td>여성</td>\n",
       "      <td>51</td>\n",
       "      <td>50대</td>\n",
       "      <td>77.910</td>\n",
       "      <td>46.672</td>\n",
       "      <td>10.00</td>\n",
       "      <td>162</td>\n",
       "      <td>48</td>\n",
       "      <td>168</td>\n",
       "    </tr>\n",
       "    <tr>\n",
       "      <th>10</th>\n",
       "      <td>Bob</td>\n",
       "      <td>남성</td>\n",
       "      <td>39</td>\n",
       "      <td>30대</td>\n",
       "      <td>75.070</td>\n",
       "      <td>45.313</td>\n",
       "      <td>10.07</td>\n",
       "      <td>185</td>\n",
       "      <td>62</td>\n",
       "      <td>185</td>\n",
       "    </tr>\n",
       "    <tr>\n",
       "      <th>11</th>\n",
       "      <td>Harriett</td>\n",
       "      <td>여성</td>\n",
       "      <td>49</td>\n",
       "      <td>40대</td>\n",
       "      <td>73.370</td>\n",
       "      <td>50.388</td>\n",
       "      <td>10.08</td>\n",
       "      <td>168</td>\n",
       "      <td>67</td>\n",
       "      <td>168</td>\n",
       "    </tr>\n",
       "    <tr>\n",
       "      <th>12</th>\n",
       "      <td>Jane</td>\n",
       "      <td>여성</td>\n",
       "      <td>44</td>\n",
       "      <td>40대</td>\n",
       "      <td>73.030</td>\n",
       "      <td>50.541</td>\n",
       "      <td>10.13</td>\n",
       "      <td>168</td>\n",
       "      <td>45</td>\n",
       "      <td>168</td>\n",
       "    </tr>\n",
       "    <tr>\n",
       "      <th>13</th>\n",
       "      <td>Harold</td>\n",
       "      <td>남성</td>\n",
       "      <td>48</td>\n",
       "      <td>40대</td>\n",
       "      <td>91.630</td>\n",
       "      <td>46.774</td>\n",
       "      <td>10.25</td>\n",
       "      <td>162</td>\n",
       "      <td>48</td>\n",
       "      <td>164</td>\n",
       "    </tr>\n",
       "    <tr>\n",
       "      <th>14</th>\n",
       "      <td>Sammy</td>\n",
       "      <td>남성</td>\n",
       "      <td>54</td>\n",
       "      <td>50대</td>\n",
       "      <td>83.120</td>\n",
       "      <td>51.855</td>\n",
       "      <td>10.33</td>\n",
       "      <td>166</td>\n",
       "      <td>50</td>\n",
       "      <td>170</td>\n",
       "    </tr>\n",
       "    <tr>\n",
       "      <th>15</th>\n",
       "      <td>Buffy</td>\n",
       "      <td>여성</td>\n",
       "      <td>52</td>\n",
       "      <td>50대</td>\n",
       "      <td>73.710</td>\n",
       "      <td>45.790</td>\n",
       "      <td>10.47</td>\n",
       "      <td>186</td>\n",
       "      <td>59</td>\n",
       "      <td>188</td>\n",
       "    </tr>\n",
       "    <tr>\n",
       "      <th>16</th>\n",
       "      <td>Trent</td>\n",
       "      <td>남성</td>\n",
       "      <td>38</td>\n",
       "      <td>30대</td>\n",
       "      <td>82.780</td>\n",
       "      <td>47.467</td>\n",
       "      <td>10.50</td>\n",
       "      <td>170</td>\n",
       "      <td>53</td>\n",
       "      <td>172</td>\n",
       "    </tr>\n",
       "    <tr>\n",
       "      <th>17</th>\n",
       "      <td>Jackie</td>\n",
       "      <td>여성</td>\n",
       "      <td>47</td>\n",
       "      <td>40대</td>\n",
       "      <td>79.150</td>\n",
       "      <td>47.273</td>\n",
       "      <td>10.60</td>\n",
       "      <td>162</td>\n",
       "      <td>47</td>\n",
       "      <td>164</td>\n",
       "    </tr>\n",
       "    <tr>\n",
       "      <th>18</th>\n",
       "      <td>Ralph</td>\n",
       "      <td>남성</td>\n",
       "      <td>43</td>\n",
       "      <td>40대</td>\n",
       "      <td>82.433</td>\n",
       "      <td>49.091</td>\n",
       "      <td>10.85</td>\n",
       "      <td>162</td>\n",
       "      <td>64</td>\n",
       "      <td>170</td>\n",
       "    </tr>\n",
       "    <tr>\n",
       "      <th>19</th>\n",
       "      <td>Jack</td>\n",
       "      <td>남성</td>\n",
       "      <td>51</td>\n",
       "      <td>50대</td>\n",
       "      <td>69.630</td>\n",
       "      <td>40.836</td>\n",
       "      <td>10.95</td>\n",
       "      <td>168</td>\n",
       "      <td>57</td>\n",
       "      <td>172</td>\n",
       "    </tr>\n",
       "    <tr>\n",
       "      <th>20</th>\n",
       "      <td>Annie</td>\n",
       "      <td>여성</td>\n",
       "      <td>51</td>\n",
       "      <td>50대</td>\n",
       "      <td>67.250</td>\n",
       "      <td>45.118</td>\n",
       "      <td>11.08</td>\n",
       "      <td>172</td>\n",
       "      <td>48</td>\n",
       "      <td>172</td>\n",
       "    </tr>\n",
       "    <tr>\n",
       "      <th>21</th>\n",
       "      <td>Kate</td>\n",
       "      <td>여성</td>\n",
       "      <td>45</td>\n",
       "      <td>40대</td>\n",
       "      <td>66.450</td>\n",
       "      <td>44.754</td>\n",
       "      <td>11.12</td>\n",
       "      <td>176</td>\n",
       "      <td>51</td>\n",
       "      <td>176</td>\n",
       "    </tr>\n",
       "    <tr>\n",
       "      <th>22</th>\n",
       "      <td>Carl</td>\n",
       "      <td>남성</td>\n",
       "      <td>54</td>\n",
       "      <td>50대</td>\n",
       "      <td>79.380</td>\n",
       "      <td>46.080</td>\n",
       "      <td>11.17</td>\n",
       "      <td>156</td>\n",
       "      <td>62</td>\n",
       "      <td>165</td>\n",
       "    </tr>\n",
       "    <tr>\n",
       "      <th>23</th>\n",
       "      <td>Don</td>\n",
       "      <td>남성</td>\n",
       "      <td>44</td>\n",
       "      <td>40대</td>\n",
       "      <td>89.470</td>\n",
       "      <td>44.609</td>\n",
       "      <td>11.37</td>\n",
       "      <td>178</td>\n",
       "      <td>62</td>\n",
       "      <td>182</td>\n",
       "    </tr>\n",
       "    <tr>\n",
       "      <th>24</th>\n",
       "      <td>Effie</td>\n",
       "      <td>여성</td>\n",
       "      <td>48</td>\n",
       "      <td>40대</td>\n",
       "      <td>61.240</td>\n",
       "      <td>47.920</td>\n",
       "      <td>11.50</td>\n",
       "      <td>170</td>\n",
       "      <td>52</td>\n",
       "      <td>176</td>\n",
       "    </tr>\n",
       "    <tr>\n",
       "      <th>25</th>\n",
       "      <td>George</td>\n",
       "      <td>남성</td>\n",
       "      <td>37</td>\n",
       "      <td>30대</td>\n",
       "      <td>77.450</td>\n",
       "      <td>44.811</td>\n",
       "      <td>11.63</td>\n",
       "      <td>176</td>\n",
       "      <td>58</td>\n",
       "      <td>176</td>\n",
       "    </tr>\n",
       "    <tr>\n",
       "      <th>26</th>\n",
       "      <td>Iris</td>\n",
       "      <td>여성</td>\n",
       "      <td>39</td>\n",
       "      <td>30대</td>\n",
       "      <td>75.980</td>\n",
       "      <td>45.681</td>\n",
       "      <td>11.95</td>\n",
       "      <td>176</td>\n",
       "      <td>70</td>\n",
       "      <td>180</td>\n",
       "    </tr>\n",
       "    <tr>\n",
       "      <th>27</th>\n",
       "      <td>Mark</td>\n",
       "      <td>남성</td>\n",
       "      <td>57</td>\n",
       "      <td>50대</td>\n",
       "      <td>73.370</td>\n",
       "      <td>39.407</td>\n",
       "      <td>12.63</td>\n",
       "      <td>174</td>\n",
       "      <td>58</td>\n",
       "      <td>176</td>\n",
       "    </tr>\n",
       "    <tr>\n",
       "      <th>29</th>\n",
       "      <td>Vaughn</td>\n",
       "      <td>남성</td>\n",
       "      <td>44</td>\n",
       "      <td>40대</td>\n",
       "      <td>81.420</td>\n",
       "      <td>39.442</td>\n",
       "      <td>13.08</td>\n",
       "      <td>174</td>\n",
       "      <td>63</td>\n",
       "      <td>176</td>\n",
       "    </tr>\n",
       "    <tr>\n",
       "      <th>30</th>\n",
       "      <td>William</td>\n",
       "      <td>남성</td>\n",
       "      <td>45</td>\n",
       "      <td>40대</td>\n",
       "      <td>87.660</td>\n",
       "      <td>37.388</td>\n",
       "      <td>14.03</td>\n",
       "      <td>186</td>\n",
       "      <td>56</td>\n",
       "      <td>192</td>\n",
       "    </tr>\n",
       "  </tbody>\n",
       "</table>\n",
       "</div>"
      ],
      "text/plain": [
       "        NAME GENDER  AGE AGEGROUP  WEIGHT     OXY  RUNTIME  RUNPULSE  \\\n",
       "0      Donna     여성   42      40대  68.150  59.571     8.17       166   \n",
       "1     Gracie     여성   38      30대  81.870  60.055     8.63       170   \n",
       "2     Luanne     여성   43      40대  85.840  54.297     8.65       156   \n",
       "3       Mimi     여성   50      50대  70.870  54.625     8.92       146   \n",
       "4      Chris     남성   49      40대  82.433  49.156     8.95       180   \n",
       "5      Allen     남성   38      30대  89.020  49.874     9.22       178   \n",
       "6      Nancy     여성   49      40대  76.320  48.673     9.40       186   \n",
       "7      Patty     여성   52      50대  76.320  45.441     9.63       164   \n",
       "8    Suzanne     여성   57      50대  59.080  50.545     9.93       148   \n",
       "9     Teresa     여성   51      50대  77.910  46.672    10.00       162   \n",
       "10       Bob     남성   39      30대  75.070  45.313    10.07       185   \n",
       "11  Harriett     여성   49      40대  73.370  50.388    10.08       168   \n",
       "12      Jane     여성   44      40대  73.030  50.541    10.13       168   \n",
       "13    Harold     남성   48      40대  91.630  46.774    10.25       162   \n",
       "14     Sammy     남성   54      50대  83.120  51.855    10.33       166   \n",
       "15     Buffy     여성   52      50대  73.710  45.790    10.47       186   \n",
       "16     Trent     남성   38      30대  82.780  47.467    10.50       170   \n",
       "17    Jackie     여성   47      40대  79.150  47.273    10.60       162   \n",
       "18     Ralph     남성   43      40대  82.433  49.091    10.85       162   \n",
       "19      Jack     남성   51      50대  69.630  40.836    10.95       168   \n",
       "20     Annie     여성   51      50대  67.250  45.118    11.08       172   \n",
       "21      Kate     여성   45      40대  66.450  44.754    11.12       176   \n",
       "22      Carl     남성   54      50대  79.380  46.080    11.17       156   \n",
       "23       Don     남성   44      40대  89.470  44.609    11.37       178   \n",
       "24     Effie     여성   48      40대  61.240  47.920    11.50       170   \n",
       "25    George     남성   37      30대  77.450  44.811    11.63       176   \n",
       "26      Iris     여성   39      30대  75.980  45.681    11.95       176   \n",
       "27      Mark     남성   57      50대  73.370  39.407    12.63       174   \n",
       "29    Vaughn     남성   44      40대  81.420  39.442    13.08       174   \n",
       "30   William     남성   45      40대  87.660  37.388    14.03       186   \n",
       "\n",
       "    RSTPULSE  MAXPULSE  \n",
       "0         40       172  \n",
       "1         48       186  \n",
       "2         45       168  \n",
       "3         48       155  \n",
       "4         44       185  \n",
       "5         55       180  \n",
       "6         56       188  \n",
       "7         48       166  \n",
       "8         49       155  \n",
       "9         48       168  \n",
       "10        62       185  \n",
       "11        67       168  \n",
       "12        45       168  \n",
       "13        48       164  \n",
       "14        50       170  \n",
       "15        59       188  \n",
       "16        53       172  \n",
       "17        47       164  \n",
       "18        64       170  \n",
       "19        57       172  \n",
       "20        48       172  \n",
       "21        51       176  \n",
       "22        62       165  \n",
       "23        62       182  \n",
       "24        52       176  \n",
       "25        58       176  \n",
       "26        70       180  \n",
       "27        58       176  \n",
       "29        63       176  \n",
       "30        56       192  "
      ]
     },
     "execution_count": 18,
     "metadata": {},
     "output_type": "execute_result"
    }
   ],
   "source": [
    "# 32 Page\n",
    "# RSTPULSE 변수에서 이상치 제외(100 이하)\n",
    "df_fitness = df_raw[df_raw[\"RSTPULSE\"] < 100]\n",
    "df_fitness    # 자료 수가 줄어듬"
   ]
  },
  {
   "cell_type": "code",
   "execution_count": 19,
   "metadata": {},
   "outputs": [
    {
     "data": {
      "text/html": [
       "<div>\n",
       "<style scoped>\n",
       "    .dataframe tbody tr th:only-of-type {\n",
       "        vertical-align: middle;\n",
       "    }\n",
       "\n",
       "    .dataframe tbody tr th {\n",
       "        vertical-align: top;\n",
       "    }\n",
       "\n",
       "    .dataframe thead th {\n",
       "        text-align: right;\n",
       "    }\n",
       "</style>\n",
       "<table border=\"1\" class=\"dataframe\">\n",
       "  <thead>\n",
       "    <tr style=\"text-align: right;\">\n",
       "      <th></th>\n",
       "      <th>NAME</th>\n",
       "      <th>GENDER</th>\n",
       "      <th>AGE</th>\n",
       "      <th>AGEGROUP</th>\n",
       "      <th>WEIGHT</th>\n",
       "      <th>OXY</th>\n",
       "      <th>RUNTIME</th>\n",
       "      <th>RUNPULSE</th>\n",
       "      <th>RSTPULSE</th>\n",
       "      <th>MAXPULSE</th>\n",
       "    </tr>\n",
       "  </thead>\n",
       "  <tbody>\n",
       "    <tr>\n",
       "      <th>0</th>\n",
       "      <td>Donna</td>\n",
       "      <td>여성</td>\n",
       "      <td>42</td>\n",
       "      <td>40대</td>\n",
       "      <td>68.150</td>\n",
       "      <td>59.571</td>\n",
       "      <td>8.17</td>\n",
       "      <td>166</td>\n",
       "      <td>40</td>\n",
       "      <td>172</td>\n",
       "    </tr>\n",
       "    <tr>\n",
       "      <th>1</th>\n",
       "      <td>Gracie</td>\n",
       "      <td>여성</td>\n",
       "      <td>38</td>\n",
       "      <td>30대</td>\n",
       "      <td>81.870</td>\n",
       "      <td>60.055</td>\n",
       "      <td>8.63</td>\n",
       "      <td>170</td>\n",
       "      <td>48</td>\n",
       "      <td>186</td>\n",
       "    </tr>\n",
       "    <tr>\n",
       "      <th>2</th>\n",
       "      <td>Luanne</td>\n",
       "      <td>여성</td>\n",
       "      <td>43</td>\n",
       "      <td>40대</td>\n",
       "      <td>85.840</td>\n",
       "      <td>54.297</td>\n",
       "      <td>8.65</td>\n",
       "      <td>156</td>\n",
       "      <td>45</td>\n",
       "      <td>168</td>\n",
       "    </tr>\n",
       "    <tr>\n",
       "      <th>3</th>\n",
       "      <td>Mimi</td>\n",
       "      <td>여성</td>\n",
       "      <td>50</td>\n",
       "      <td>50대</td>\n",
       "      <td>70.870</td>\n",
       "      <td>54.625</td>\n",
       "      <td>8.92</td>\n",
       "      <td>146</td>\n",
       "      <td>48</td>\n",
       "      <td>155</td>\n",
       "    </tr>\n",
       "    <tr>\n",
       "      <th>4</th>\n",
       "      <td>Chris</td>\n",
       "      <td>남성</td>\n",
       "      <td>49</td>\n",
       "      <td>40대</td>\n",
       "      <td>82.433</td>\n",
       "      <td>49.156</td>\n",
       "      <td>8.95</td>\n",
       "      <td>180</td>\n",
       "      <td>44</td>\n",
       "      <td>185</td>\n",
       "    </tr>\n",
       "    <tr>\n",
       "      <th>5</th>\n",
       "      <td>Allen</td>\n",
       "      <td>남성</td>\n",
       "      <td>38</td>\n",
       "      <td>30대</td>\n",
       "      <td>89.020</td>\n",
       "      <td>49.874</td>\n",
       "      <td>9.22</td>\n",
       "      <td>178</td>\n",
       "      <td>55</td>\n",
       "      <td>180</td>\n",
       "    </tr>\n",
       "    <tr>\n",
       "      <th>6</th>\n",
       "      <td>Nancy</td>\n",
       "      <td>여성</td>\n",
       "      <td>49</td>\n",
       "      <td>40대</td>\n",
       "      <td>76.320</td>\n",
       "      <td>48.673</td>\n",
       "      <td>9.40</td>\n",
       "      <td>186</td>\n",
       "      <td>56</td>\n",
       "      <td>188</td>\n",
       "    </tr>\n",
       "    <tr>\n",
       "      <th>7</th>\n",
       "      <td>Patty</td>\n",
       "      <td>여성</td>\n",
       "      <td>52</td>\n",
       "      <td>50대</td>\n",
       "      <td>76.320</td>\n",
       "      <td>45.441</td>\n",
       "      <td>9.63</td>\n",
       "      <td>164</td>\n",
       "      <td>48</td>\n",
       "      <td>166</td>\n",
       "    </tr>\n",
       "    <tr>\n",
       "      <th>8</th>\n",
       "      <td>Suzanne</td>\n",
       "      <td>여성</td>\n",
       "      <td>57</td>\n",
       "      <td>50대</td>\n",
       "      <td>59.080</td>\n",
       "      <td>50.545</td>\n",
       "      <td>9.93</td>\n",
       "      <td>148</td>\n",
       "      <td>49</td>\n",
       "      <td>155</td>\n",
       "    </tr>\n",
       "    <tr>\n",
       "      <th>9</th>\n",
       "      <td>Teresa</td>\n",
       "      <td>여성</td>\n",
       "      <td>51</td>\n",
       "      <td>50대</td>\n",
       "      <td>77.910</td>\n",
       "      <td>46.672</td>\n",
       "      <td>10.00</td>\n",
       "      <td>162</td>\n",
       "      <td>48</td>\n",
       "      <td>168</td>\n",
       "    </tr>\n",
       "    <tr>\n",
       "      <th>10</th>\n",
       "      <td>Bob</td>\n",
       "      <td>남성</td>\n",
       "      <td>39</td>\n",
       "      <td>30대</td>\n",
       "      <td>75.070</td>\n",
       "      <td>45.313</td>\n",
       "      <td>10.07</td>\n",
       "      <td>185</td>\n",
       "      <td>62</td>\n",
       "      <td>185</td>\n",
       "    </tr>\n",
       "    <tr>\n",
       "      <th>11</th>\n",
       "      <td>Harriett</td>\n",
       "      <td>여성</td>\n",
       "      <td>49</td>\n",
       "      <td>40대</td>\n",
       "      <td>73.370</td>\n",
       "      <td>50.388</td>\n",
       "      <td>10.08</td>\n",
       "      <td>168</td>\n",
       "      <td>67</td>\n",
       "      <td>168</td>\n",
       "    </tr>\n",
       "    <tr>\n",
       "      <th>12</th>\n",
       "      <td>Jane</td>\n",
       "      <td>여성</td>\n",
       "      <td>44</td>\n",
       "      <td>40대</td>\n",
       "      <td>73.030</td>\n",
       "      <td>50.541</td>\n",
       "      <td>10.13</td>\n",
       "      <td>168</td>\n",
       "      <td>45</td>\n",
       "      <td>168</td>\n",
       "    </tr>\n",
       "    <tr>\n",
       "      <th>13</th>\n",
       "      <td>Harold</td>\n",
       "      <td>남성</td>\n",
       "      <td>48</td>\n",
       "      <td>40대</td>\n",
       "      <td>91.630</td>\n",
       "      <td>46.774</td>\n",
       "      <td>10.25</td>\n",
       "      <td>162</td>\n",
       "      <td>48</td>\n",
       "      <td>164</td>\n",
       "    </tr>\n",
       "    <tr>\n",
       "      <th>14</th>\n",
       "      <td>Sammy</td>\n",
       "      <td>남성</td>\n",
       "      <td>54</td>\n",
       "      <td>50대</td>\n",
       "      <td>83.120</td>\n",
       "      <td>51.855</td>\n",
       "      <td>10.33</td>\n",
       "      <td>166</td>\n",
       "      <td>50</td>\n",
       "      <td>170</td>\n",
       "    </tr>\n",
       "    <tr>\n",
       "      <th>15</th>\n",
       "      <td>Buffy</td>\n",
       "      <td>여성</td>\n",
       "      <td>52</td>\n",
       "      <td>50대</td>\n",
       "      <td>73.710</td>\n",
       "      <td>45.790</td>\n",
       "      <td>10.47</td>\n",
       "      <td>186</td>\n",
       "      <td>59</td>\n",
       "      <td>188</td>\n",
       "    </tr>\n",
       "    <tr>\n",
       "      <th>16</th>\n",
       "      <td>Trent</td>\n",
       "      <td>남성</td>\n",
       "      <td>38</td>\n",
       "      <td>30대</td>\n",
       "      <td>82.780</td>\n",
       "      <td>47.467</td>\n",
       "      <td>10.50</td>\n",
       "      <td>170</td>\n",
       "      <td>53</td>\n",
       "      <td>172</td>\n",
       "    </tr>\n",
       "    <tr>\n",
       "      <th>17</th>\n",
       "      <td>Jackie</td>\n",
       "      <td>여성</td>\n",
       "      <td>47</td>\n",
       "      <td>40대</td>\n",
       "      <td>79.150</td>\n",
       "      <td>47.273</td>\n",
       "      <td>10.60</td>\n",
       "      <td>162</td>\n",
       "      <td>47</td>\n",
       "      <td>164</td>\n",
       "    </tr>\n",
       "    <tr>\n",
       "      <th>18</th>\n",
       "      <td>Ralph</td>\n",
       "      <td>남성</td>\n",
       "      <td>43</td>\n",
       "      <td>40대</td>\n",
       "      <td>82.433</td>\n",
       "      <td>49.091</td>\n",
       "      <td>10.85</td>\n",
       "      <td>162</td>\n",
       "      <td>64</td>\n",
       "      <td>170</td>\n",
       "    </tr>\n",
       "    <tr>\n",
       "      <th>19</th>\n",
       "      <td>Jack</td>\n",
       "      <td>남성</td>\n",
       "      <td>51</td>\n",
       "      <td>50대</td>\n",
       "      <td>69.630</td>\n",
       "      <td>40.836</td>\n",
       "      <td>10.95</td>\n",
       "      <td>168</td>\n",
       "      <td>57</td>\n",
       "      <td>172</td>\n",
       "    </tr>\n",
       "    <tr>\n",
       "      <th>20</th>\n",
       "      <td>Annie</td>\n",
       "      <td>여성</td>\n",
       "      <td>51</td>\n",
       "      <td>50대</td>\n",
       "      <td>67.250</td>\n",
       "      <td>45.118</td>\n",
       "      <td>11.08</td>\n",
       "      <td>172</td>\n",
       "      <td>48</td>\n",
       "      <td>172</td>\n",
       "    </tr>\n",
       "    <tr>\n",
       "      <th>21</th>\n",
       "      <td>Kate</td>\n",
       "      <td>여성</td>\n",
       "      <td>45</td>\n",
       "      <td>40대</td>\n",
       "      <td>66.450</td>\n",
       "      <td>44.754</td>\n",
       "      <td>11.12</td>\n",
       "      <td>176</td>\n",
       "      <td>51</td>\n",
       "      <td>176</td>\n",
       "    </tr>\n",
       "    <tr>\n",
       "      <th>22</th>\n",
       "      <td>Carl</td>\n",
       "      <td>남성</td>\n",
       "      <td>54</td>\n",
       "      <td>50대</td>\n",
       "      <td>79.380</td>\n",
       "      <td>46.080</td>\n",
       "      <td>11.17</td>\n",
       "      <td>156</td>\n",
       "      <td>62</td>\n",
       "      <td>165</td>\n",
       "    </tr>\n",
       "    <tr>\n",
       "      <th>23</th>\n",
       "      <td>Don</td>\n",
       "      <td>남성</td>\n",
       "      <td>44</td>\n",
       "      <td>40대</td>\n",
       "      <td>89.470</td>\n",
       "      <td>44.609</td>\n",
       "      <td>11.37</td>\n",
       "      <td>178</td>\n",
       "      <td>62</td>\n",
       "      <td>182</td>\n",
       "    </tr>\n",
       "    <tr>\n",
       "      <th>24</th>\n",
       "      <td>Effie</td>\n",
       "      <td>여성</td>\n",
       "      <td>48</td>\n",
       "      <td>40대</td>\n",
       "      <td>61.240</td>\n",
       "      <td>47.920</td>\n",
       "      <td>11.50</td>\n",
       "      <td>170</td>\n",
       "      <td>52</td>\n",
       "      <td>176</td>\n",
       "    </tr>\n",
       "    <tr>\n",
       "      <th>25</th>\n",
       "      <td>George</td>\n",
       "      <td>남성</td>\n",
       "      <td>37</td>\n",
       "      <td>30대</td>\n",
       "      <td>77.450</td>\n",
       "      <td>44.811</td>\n",
       "      <td>11.63</td>\n",
       "      <td>176</td>\n",
       "      <td>58</td>\n",
       "      <td>176</td>\n",
       "    </tr>\n",
       "    <tr>\n",
       "      <th>26</th>\n",
       "      <td>Iris</td>\n",
       "      <td>여성</td>\n",
       "      <td>39</td>\n",
       "      <td>30대</td>\n",
       "      <td>75.980</td>\n",
       "      <td>45.681</td>\n",
       "      <td>11.95</td>\n",
       "      <td>176</td>\n",
       "      <td>70</td>\n",
       "      <td>180</td>\n",
       "    </tr>\n",
       "    <tr>\n",
       "      <th>27</th>\n",
       "      <td>Mark</td>\n",
       "      <td>남성</td>\n",
       "      <td>57</td>\n",
       "      <td>50대</td>\n",
       "      <td>73.370</td>\n",
       "      <td>39.407</td>\n",
       "      <td>12.63</td>\n",
       "      <td>174</td>\n",
       "      <td>58</td>\n",
       "      <td>176</td>\n",
       "    </tr>\n",
       "    <tr>\n",
       "      <th>28</th>\n",
       "      <td>Vaughn</td>\n",
       "      <td>남성</td>\n",
       "      <td>44</td>\n",
       "      <td>40대</td>\n",
       "      <td>81.420</td>\n",
       "      <td>39.442</td>\n",
       "      <td>13.08</td>\n",
       "      <td>174</td>\n",
       "      <td>63</td>\n",
       "      <td>176</td>\n",
       "    </tr>\n",
       "    <tr>\n",
       "      <th>29</th>\n",
       "      <td>William</td>\n",
       "      <td>남성</td>\n",
       "      <td>45</td>\n",
       "      <td>40대</td>\n",
       "      <td>87.660</td>\n",
       "      <td>37.388</td>\n",
       "      <td>14.03</td>\n",
       "      <td>186</td>\n",
       "      <td>56</td>\n",
       "      <td>192</td>\n",
       "    </tr>\n",
       "  </tbody>\n",
       "</table>\n",
       "</div>"
      ],
      "text/plain": [
       "        NAME GENDER  AGE AGEGROUP  WEIGHT     OXY  RUNTIME  RUNPULSE  \\\n",
       "0      Donna     여성   42      40대  68.150  59.571     8.17       166   \n",
       "1     Gracie     여성   38      30대  81.870  60.055     8.63       170   \n",
       "2     Luanne     여성   43      40대  85.840  54.297     8.65       156   \n",
       "3       Mimi     여성   50      50대  70.870  54.625     8.92       146   \n",
       "4      Chris     남성   49      40대  82.433  49.156     8.95       180   \n",
       "5      Allen     남성   38      30대  89.020  49.874     9.22       178   \n",
       "6      Nancy     여성   49      40대  76.320  48.673     9.40       186   \n",
       "7      Patty     여성   52      50대  76.320  45.441     9.63       164   \n",
       "8    Suzanne     여성   57      50대  59.080  50.545     9.93       148   \n",
       "9     Teresa     여성   51      50대  77.910  46.672    10.00       162   \n",
       "10       Bob     남성   39      30대  75.070  45.313    10.07       185   \n",
       "11  Harriett     여성   49      40대  73.370  50.388    10.08       168   \n",
       "12      Jane     여성   44      40대  73.030  50.541    10.13       168   \n",
       "13    Harold     남성   48      40대  91.630  46.774    10.25       162   \n",
       "14     Sammy     남성   54      50대  83.120  51.855    10.33       166   \n",
       "15     Buffy     여성   52      50대  73.710  45.790    10.47       186   \n",
       "16     Trent     남성   38      30대  82.780  47.467    10.50       170   \n",
       "17    Jackie     여성   47      40대  79.150  47.273    10.60       162   \n",
       "18     Ralph     남성   43      40대  82.433  49.091    10.85       162   \n",
       "19      Jack     남성   51      50대  69.630  40.836    10.95       168   \n",
       "20     Annie     여성   51      50대  67.250  45.118    11.08       172   \n",
       "21      Kate     여성   45      40대  66.450  44.754    11.12       176   \n",
       "22      Carl     남성   54      50대  79.380  46.080    11.17       156   \n",
       "23       Don     남성   44      40대  89.470  44.609    11.37       178   \n",
       "24     Effie     여성   48      40대  61.240  47.920    11.50       170   \n",
       "25    George     남성   37      30대  77.450  44.811    11.63       176   \n",
       "26      Iris     여성   39      30대  75.980  45.681    11.95       176   \n",
       "27      Mark     남성   57      50대  73.370  39.407    12.63       174   \n",
       "28    Vaughn     남성   44      40대  81.420  39.442    13.08       174   \n",
       "29   William     남성   45      40대  87.660  37.388    14.03       186   \n",
       "\n",
       "    RSTPULSE  MAXPULSE  \n",
       "0         40       172  \n",
       "1         48       186  \n",
       "2         45       168  \n",
       "3         48       155  \n",
       "4         44       185  \n",
       "5         55       180  \n",
       "6         56       188  \n",
       "7         48       166  \n",
       "8         49       155  \n",
       "9         48       168  \n",
       "10        62       185  \n",
       "11        67       168  \n",
       "12        45       168  \n",
       "13        48       164  \n",
       "14        50       170  \n",
       "15        59       188  \n",
       "16        53       172  \n",
       "17        47       164  \n",
       "18        64       170  \n",
       "19        57       172  \n",
       "20        48       172  \n",
       "21        51       176  \n",
       "22        62       165  \n",
       "23        62       182  \n",
       "24        52       176  \n",
       "25        58       176  \n",
       "26        70       180  \n",
       "27        58       176  \n",
       "28        63       176  \n",
       "29        56       192  "
      ]
     },
     "execution_count": 19,
     "metadata": {},
     "output_type": "execute_result"
    }
   ],
   "source": [
    "# 자료 index reset :DafaFrame.reset_index\n",
    "df_fitness.reset_index(drop = True, inplace=True)\n",
    "df_fitness"
   ]
  },
  {
   "cell_type": "code",
   "execution_count": 20,
   "metadata": {},
   "outputs": [
    {
     "data": {
      "text/html": [
       "<div>\n",
       "<style scoped>\n",
       "    .dataframe tbody tr th:only-of-type {\n",
       "        vertical-align: middle;\n",
       "    }\n",
       "\n",
       "    .dataframe tbody tr th {\n",
       "        vertical-align: top;\n",
       "    }\n",
       "\n",
       "    .dataframe thead th {\n",
       "        text-align: right;\n",
       "    }\n",
       "</style>\n",
       "<table border=\"1\" class=\"dataframe\">\n",
       "  <thead>\n",
       "    <tr style=\"text-align: right;\">\n",
       "      <th></th>\n",
       "      <th>AGE</th>\n",
       "      <th>WEIGHT</th>\n",
       "      <th>OXY</th>\n",
       "      <th>RUNTIME</th>\n",
       "      <th>RUNPULSE</th>\n",
       "      <th>RSTPULSE</th>\n",
       "      <th>MAXPULSE</th>\n",
       "    </tr>\n",
       "  </thead>\n",
       "  <tbody>\n",
       "    <tr>\n",
       "      <th>0</th>\n",
       "      <td>42</td>\n",
       "      <td>68.150</td>\n",
       "      <td>59.571</td>\n",
       "      <td>8.17</td>\n",
       "      <td>166</td>\n",
       "      <td>40</td>\n",
       "      <td>172</td>\n",
       "    </tr>\n",
       "    <tr>\n",
       "      <th>1</th>\n",
       "      <td>38</td>\n",
       "      <td>81.870</td>\n",
       "      <td>60.055</td>\n",
       "      <td>8.63</td>\n",
       "      <td>170</td>\n",
       "      <td>48</td>\n",
       "      <td>186</td>\n",
       "    </tr>\n",
       "    <tr>\n",
       "      <th>2</th>\n",
       "      <td>43</td>\n",
       "      <td>85.840</td>\n",
       "      <td>54.297</td>\n",
       "      <td>8.65</td>\n",
       "      <td>156</td>\n",
       "      <td>45</td>\n",
       "      <td>168</td>\n",
       "    </tr>\n",
       "    <tr>\n",
       "      <th>3</th>\n",
       "      <td>50</td>\n",
       "      <td>70.870</td>\n",
       "      <td>54.625</td>\n",
       "      <td>8.92</td>\n",
       "      <td>146</td>\n",
       "      <td>48</td>\n",
       "      <td>155</td>\n",
       "    </tr>\n",
       "    <tr>\n",
       "      <th>4</th>\n",
       "      <td>49</td>\n",
       "      <td>82.433</td>\n",
       "      <td>49.156</td>\n",
       "      <td>8.95</td>\n",
       "      <td>180</td>\n",
       "      <td>44</td>\n",
       "      <td>185</td>\n",
       "    </tr>\n",
       "  </tbody>\n",
       "</table>\n",
       "</div>"
      ],
      "text/plain": [
       "   AGE  WEIGHT     OXY  RUNTIME  RUNPULSE  RSTPULSE  MAXPULSE\n",
       "0   42  68.150  59.571     8.17       166        40       172\n",
       "1   38  81.870  60.055     8.63       170        48       186\n",
       "2   43  85.840  54.297     8.65       156        45       168\n",
       "3   50  70.870  54.625     8.92       146        48       155\n",
       "4   49  82.433  49.156     8.95       180        44       185"
      ]
     },
     "execution_count": 20,
     "metadata": {},
     "output_type": "execute_result"
    }
   ],
   "source": [
    "# 33 Page\n",
    "# select_dtypes 조건으로 변수 유형 선택 :select_dtypes=\"object\"-문자형 변수\n",
    "# 숫자형 변수 선택 : select_dtypes=\"object\" 제외\n",
    "df_fitness_num = df_fitness.select_dtypes(exclude = \"object\")\n",
    "df_fitness_num.head()"
   ]
  },
  {
   "cell_type": "code",
   "execution_count": 21,
   "metadata": {},
   "outputs": [
    {
     "data": {
      "text/html": [
       "<div>\n",
       "<style scoped>\n",
       "    .dataframe tbody tr th:only-of-type {\n",
       "        vertical-align: middle;\n",
       "    }\n",
       "\n",
       "    .dataframe tbody tr th {\n",
       "        vertical-align: top;\n",
       "    }\n",
       "\n",
       "    .dataframe thead th {\n",
       "        text-align: right;\n",
       "    }\n",
       "</style>\n",
       "<table border=\"1\" class=\"dataframe\">\n",
       "  <thead>\n",
       "    <tr style=\"text-align: right;\">\n",
       "      <th></th>\n",
       "      <th>NAME</th>\n",
       "      <th>GENDER</th>\n",
       "      <th>AGEGROUP</th>\n",
       "    </tr>\n",
       "  </thead>\n",
       "  <tbody>\n",
       "    <tr>\n",
       "      <th>0</th>\n",
       "      <td>Donna</td>\n",
       "      <td>여성</td>\n",
       "      <td>40대</td>\n",
       "    </tr>\n",
       "    <tr>\n",
       "      <th>1</th>\n",
       "      <td>Gracie</td>\n",
       "      <td>여성</td>\n",
       "      <td>30대</td>\n",
       "    </tr>\n",
       "    <tr>\n",
       "      <th>2</th>\n",
       "      <td>Luanne</td>\n",
       "      <td>여성</td>\n",
       "      <td>40대</td>\n",
       "    </tr>\n",
       "    <tr>\n",
       "      <th>3</th>\n",
       "      <td>Mimi</td>\n",
       "      <td>여성</td>\n",
       "      <td>50대</td>\n",
       "    </tr>\n",
       "    <tr>\n",
       "      <th>4</th>\n",
       "      <td>Chris</td>\n",
       "      <td>남성</td>\n",
       "      <td>40대</td>\n",
       "    </tr>\n",
       "  </tbody>\n",
       "</table>\n",
       "</div>"
      ],
      "text/plain": [
       "     NAME GENDER AGEGROUP\n",
       "0   Donna     여성      40대\n",
       "1  Gracie     여성      30대\n",
       "2  Luanne     여성      40대\n",
       "3    Mimi     여성      50대\n",
       "4   Chris     남성      40대"
      ]
     },
     "execution_count": 21,
     "metadata": {},
     "output_type": "execute_result"
    }
   ],
   "source": [
    "# 문자형 변수 선택 : select_dtypes=\"object\" 선택\n",
    "df_fitness_char = df_fitness.select_dtypes(include = \"object\")\n",
    "df_fitness_char.head()"
   ]
  },
  {
   "cell_type": "code",
   "execution_count": 22,
   "metadata": {},
   "outputs": [
    {
     "data": {
      "text/html": [
       "<div>\n",
       "<style scoped>\n",
       "    .dataframe tbody tr th:only-of-type {\n",
       "        vertical-align: middle;\n",
       "    }\n",
       "\n",
       "    .dataframe tbody tr th {\n",
       "        vertical-align: top;\n",
       "    }\n",
       "\n",
       "    .dataframe thead th {\n",
       "        text-align: right;\n",
       "    }\n",
       "</style>\n",
       "<table border=\"1\" class=\"dataframe\">\n",
       "  <thead>\n",
       "    <tr style=\"text-align: right;\">\n",
       "      <th></th>\n",
       "      <th>AGE</th>\n",
       "      <th>WEIGHT</th>\n",
       "      <th>OXY</th>\n",
       "      <th>RUNTIME</th>\n",
       "      <th>RUNPULSE</th>\n",
       "      <th>RSTPULSE</th>\n",
       "      <th>MAXPULSE</th>\n",
       "    </tr>\n",
       "  </thead>\n",
       "  <tbody>\n",
       "    <tr>\n",
       "      <th>0</th>\n",
       "      <td>-0.805985</td>\n",
       "      <td>-1.119445</td>\n",
       "      <td>2.334717</td>\n",
       "      <td>-1.771826</td>\n",
       "      <td>-0.361066</td>\n",
       "      <td>-1.856653</td>\n",
       "      <td>-0.200185</td>\n",
       "    </tr>\n",
       "    <tr>\n",
       "      <th>1</th>\n",
       "      <td>-1.506841</td>\n",
       "      <td>0.606869</td>\n",
       "      <td>2.429494</td>\n",
       "      <td>-1.423469</td>\n",
       "      <td>0.029276</td>\n",
       "      <td>-0.777726</td>\n",
       "      <td>1.328503</td>\n",
       "    </tr>\n",
       "    <tr>\n",
       "      <th>2</th>\n",
       "      <td>-0.630771</td>\n",
       "      <td>1.106393</td>\n",
       "      <td>1.301962</td>\n",
       "      <td>-1.408323</td>\n",
       "      <td>-1.336919</td>\n",
       "      <td>-1.182324</td>\n",
       "      <td>-0.636953</td>\n",
       "    </tr>\n",
       "    <tr>\n",
       "      <th>3</th>\n",
       "      <td>0.595728</td>\n",
       "      <td>-0.777202</td>\n",
       "      <td>1.366191</td>\n",
       "      <td>-1.203852</td>\n",
       "      <td>-2.312773</td>\n",
       "      <td>-0.777726</td>\n",
       "      <td>-2.056450</td>\n",
       "    </tr>\n",
       "    <tr>\n",
       "      <th>4</th>\n",
       "      <td>0.420514</td>\n",
       "      <td>0.677708</td>\n",
       "      <td>0.295251</td>\n",
       "      <td>-1.181133</td>\n",
       "      <td>1.005129</td>\n",
       "      <td>-1.317190</td>\n",
       "      <td>1.219311</td>\n",
       "    </tr>\n",
       "  </tbody>\n",
       "</table>\n",
       "</div>"
      ],
      "text/plain": [
       "        AGE    WEIGHT       OXY   RUNTIME  RUNPULSE  RSTPULSE  MAXPULSE\n",
       "0 -0.805985 -1.119445  2.334717 -1.771826 -0.361066 -1.856653 -0.200185\n",
       "1 -1.506841  0.606869  2.429494 -1.423469  0.029276 -0.777726  1.328503\n",
       "2 -0.630771  1.106393  1.301962 -1.408323 -1.336919 -1.182324 -0.636953\n",
       "3  0.595728 -0.777202  1.366191 -1.203852 -2.312773 -0.777726 -2.056450\n",
       "4  0.420514  0.677708  0.295251 -1.181133  1.005129 -1.317190  1.219311"
      ]
     },
     "execution_count": 22,
     "metadata": {},
     "output_type": "execute_result"
    }
   ],
   "source": [
    "# 34 Page\n",
    "# scale변환: 평균,표준편차 기준\n",
    "df_scale_std = scale(df_fitness_num)  \n",
    "# scale 적용/변환하면 numpy의 ndarray 형태로 저장 -> DataFrame으로 변환\n",
    "df_scale_std = pd.DataFrame(df_scale_std, columns = df_fitness_num.columns)\n",
    "df_scale_std.head()"
   ]
  },
  {
   "cell_type": "code",
   "execution_count": 23,
   "metadata": {},
   "outputs": [
    {
     "data": {
      "text/html": [
       "<div>\n",
       "<style scoped>\n",
       "    .dataframe tbody tr th:only-of-type {\n",
       "        vertical-align: middle;\n",
       "    }\n",
       "\n",
       "    .dataframe tbody tr th {\n",
       "        vertical-align: top;\n",
       "    }\n",
       "\n",
       "    .dataframe thead th {\n",
       "        text-align: right;\n",
       "    }\n",
       "</style>\n",
       "<table border=\"1\" class=\"dataframe\">\n",
       "  <thead>\n",
       "    <tr style=\"text-align: right;\">\n",
       "      <th></th>\n",
       "      <th>AGE</th>\n",
       "      <th>WEIGHT</th>\n",
       "      <th>OXY</th>\n",
       "      <th>RUNTIME</th>\n",
       "      <th>RUNPULSE</th>\n",
       "      <th>RSTPULSE</th>\n",
       "      <th>MAXPULSE</th>\n",
       "    </tr>\n",
       "  </thead>\n",
       "  <tbody>\n",
       "    <tr>\n",
       "      <th>count</th>\n",
       "      <td>30.000</td>\n",
       "      <td>30.000</td>\n",
       "      <td>30.000</td>\n",
       "      <td>30.000</td>\n",
       "      <td>30.000</td>\n",
       "      <td>30.000</td>\n",
       "      <td>30.000</td>\n",
       "    </tr>\n",
       "    <tr>\n",
       "      <th>mean</th>\n",
       "      <td>-0.000</td>\n",
       "      <td>0.000</td>\n",
       "      <td>0.000</td>\n",
       "      <td>0.000</td>\n",
       "      <td>0.000</td>\n",
       "      <td>0.000</td>\n",
       "      <td>-0.000</td>\n",
       "    </tr>\n",
       "    <tr>\n",
       "      <th>std</th>\n",
       "      <td>1.017</td>\n",
       "      <td>1.017</td>\n",
       "      <td>1.017</td>\n",
       "      <td>1.017</td>\n",
       "      <td>1.017</td>\n",
       "      <td>1.017</td>\n",
       "      <td>1.017</td>\n",
       "    </tr>\n",
       "    <tr>\n",
       "      <th>min</th>\n",
       "      <td>-1.682</td>\n",
       "      <td>-2.261</td>\n",
       "      <td>-2.009</td>\n",
       "      <td>-1.772</td>\n",
       "      <td>-2.313</td>\n",
       "      <td>-1.857</td>\n",
       "      <td>-2.056</td>\n",
       "    </tr>\n",
       "    <tr>\n",
       "      <th>25%</th>\n",
       "      <td>-0.631</td>\n",
       "      <td>-0.495</td>\n",
       "      <td>-0.486</td>\n",
       "      <td>-0.609</td>\n",
       "      <td>-0.703</td>\n",
       "      <td>-0.778</td>\n",
       "      <td>-0.637</td>\n",
       "    </tr>\n",
       "    <tr>\n",
       "      <th>50%</th>\n",
       "      <td>0.158</td>\n",
       "      <td>-0.020</td>\n",
       "      <td>-0.122</td>\n",
       "      <td>-0.083</td>\n",
       "      <td>0.029</td>\n",
       "      <td>-0.171</td>\n",
       "      <td>-0.200</td>\n",
       "    </tr>\n",
       "    <tr>\n",
       "      <th>75%</th>\n",
       "      <td>0.771</td>\n",
       "      <td>0.678</td>\n",
       "      <td>0.511</td>\n",
       "      <td>0.491</td>\n",
       "      <td>0.615</td>\n",
       "      <td>0.672</td>\n",
       "      <td>0.673</td>\n",
       "    </tr>\n",
       "    <tr>\n",
       "      <th>max</th>\n",
       "      <td>1.822</td>\n",
       "      <td>1.835</td>\n",
       "      <td>2.429</td>\n",
       "      <td>2.666</td>\n",
       "      <td>1.591</td>\n",
       "      <td>2.189</td>\n",
       "      <td>1.984</td>\n",
       "    </tr>\n",
       "  </tbody>\n",
       "</table>\n",
       "</div>"
      ],
      "text/plain": [
       "          AGE  WEIGHT     OXY  RUNTIME  RUNPULSE  RSTPULSE  MAXPULSE\n",
       "count  30.000  30.000  30.000   30.000    30.000    30.000    30.000\n",
       "mean   -0.000   0.000   0.000    0.000     0.000     0.000    -0.000\n",
       "std     1.017   1.017   1.017    1.017     1.017     1.017     1.017\n",
       "min    -1.682  -2.261  -2.009   -1.772    -2.313    -1.857    -2.056\n",
       "25%    -0.631  -0.495  -0.486   -0.609    -0.703    -0.778    -0.637\n",
       "50%     0.158  -0.020  -0.122   -0.083     0.029    -0.171    -0.200\n",
       "75%     0.771   0.678   0.511    0.491     0.615     0.672     0.673\n",
       "max     1.822   1.835   2.429    2.666     1.591     2.189     1.984"
      ]
     },
     "execution_count": 23,
     "metadata": {},
     "output_type": "execute_result"
    }
   ],
   "source": [
    "# scale 변환 결과 확인: 요약통계량 : pandas.DataFrame.describe()\n",
    "df_scale_desc = df_scale_std.describe()\n",
    "df_scale_desc.round(3)"
   ]
  },
  {
   "cell_type": "code",
   "execution_count": 24,
   "metadata": {},
   "outputs": [
    {
     "data": {
      "text/html": [
       "<div>\n",
       "<style scoped>\n",
       "    .dataframe tbody tr th:only-of-type {\n",
       "        vertical-align: middle;\n",
       "    }\n",
       "\n",
       "    .dataframe tbody tr th {\n",
       "        vertical-align: top;\n",
       "    }\n",
       "\n",
       "    .dataframe thead th {\n",
       "        text-align: right;\n",
       "    }\n",
       "</style>\n",
       "<table border=\"1\" class=\"dataframe\">\n",
       "  <thead>\n",
       "    <tr style=\"text-align: right;\">\n",
       "      <th></th>\n",
       "      <th>AGE</th>\n",
       "      <th>WEIGHT</th>\n",
       "      <th>OXY</th>\n",
       "      <th>RUNTIME</th>\n",
       "      <th>RUNPULSE</th>\n",
       "      <th>RSTPULSE</th>\n",
       "      <th>MAXPULSE</th>\n",
       "    </tr>\n",
       "  </thead>\n",
       "  <tbody>\n",
       "    <tr>\n",
       "      <th>count</th>\n",
       "      <td>30.000</td>\n",
       "      <td>30.000</td>\n",
       "      <td>30.000</td>\n",
       "      <td>30.000</td>\n",
       "      <td>30.000</td>\n",
       "      <td>30.000</td>\n",
       "      <td>30.000</td>\n",
       "    </tr>\n",
       "    <tr>\n",
       "      <th>mean</th>\n",
       "      <td>-0.000</td>\n",
       "      <td>0.000</td>\n",
       "      <td>0.000</td>\n",
       "      <td>0.000</td>\n",
       "      <td>0.000</td>\n",
       "      <td>0.000</td>\n",
       "      <td>-0.000</td>\n",
       "    </tr>\n",
       "    <tr>\n",
       "      <th>std</th>\n",
       "      <td>1.017</td>\n",
       "      <td>1.017</td>\n",
       "      <td>1.017</td>\n",
       "      <td>1.017</td>\n",
       "      <td>1.017</td>\n",
       "      <td>1.017</td>\n",
       "      <td>1.017</td>\n",
       "    </tr>\n",
       "    <tr>\n",
       "      <th>min</th>\n",
       "      <td>-1.682</td>\n",
       "      <td>-2.261</td>\n",
       "      <td>-2.009</td>\n",
       "      <td>-1.772</td>\n",
       "      <td>-2.313</td>\n",
       "      <td>-1.857</td>\n",
       "      <td>-2.056</td>\n",
       "    </tr>\n",
       "    <tr>\n",
       "      <th>25%</th>\n",
       "      <td>-0.631</td>\n",
       "      <td>-0.495</td>\n",
       "      <td>-0.486</td>\n",
       "      <td>-0.609</td>\n",
       "      <td>-0.703</td>\n",
       "      <td>-0.778</td>\n",
       "      <td>-0.637</td>\n",
       "    </tr>\n",
       "    <tr>\n",
       "      <th>50%</th>\n",
       "      <td>0.158</td>\n",
       "      <td>-0.020</td>\n",
       "      <td>-0.122</td>\n",
       "      <td>-0.083</td>\n",
       "      <td>0.029</td>\n",
       "      <td>-0.171</td>\n",
       "      <td>-0.200</td>\n",
       "    </tr>\n",
       "    <tr>\n",
       "      <th>75%</th>\n",
       "      <td>0.771</td>\n",
       "      <td>0.678</td>\n",
       "      <td>0.511</td>\n",
       "      <td>0.491</td>\n",
       "      <td>0.615</td>\n",
       "      <td>0.672</td>\n",
       "      <td>0.673</td>\n",
       "    </tr>\n",
       "    <tr>\n",
       "      <th>max</th>\n",
       "      <td>1.822</td>\n",
       "      <td>1.835</td>\n",
       "      <td>2.429</td>\n",
       "      <td>2.666</td>\n",
       "      <td>1.591</td>\n",
       "      <td>2.189</td>\n",
       "      <td>1.984</td>\n",
       "    </tr>\n",
       "  </tbody>\n",
       "</table>\n",
       "</div>"
      ],
      "text/plain": [
       "          AGE  WEIGHT     OXY  RUNTIME  RUNPULSE  RSTPULSE  MAXPULSE\n",
       "count  30.000  30.000  30.000   30.000    30.000    30.000    30.000\n",
       "mean   -0.000   0.000   0.000    0.000     0.000     0.000    -0.000\n",
       "std     1.017   1.017   1.017    1.017     1.017     1.017     1.017\n",
       "min    -1.682  -2.261  -2.009   -1.772    -2.313    -1.857    -2.056\n",
       "25%    -0.631  -0.495  -0.486   -0.609    -0.703    -0.778    -0.637\n",
       "50%     0.158  -0.020  -0.122   -0.083     0.029    -0.171    -0.200\n",
       "75%     0.771   0.678   0.511    0.491     0.615     0.672     0.673\n",
       "max     1.822   1.835   2.429    2.666     1.591     2.189     1.984"
      ]
     },
     "execution_count": 24,
     "metadata": {},
     "output_type": "execute_result"
    }
   ],
   "source": [
    "# 개인코딩\n",
    "df_scale_std.describe().round(3)"
   ]
  },
  {
   "cell_type": "code",
   "execution_count": 25,
   "metadata": {},
   "outputs": [
    {
     "data": {
      "text/html": [
       "<div>\n",
       "<style scoped>\n",
       "    .dataframe tbody tr th:only-of-type {\n",
       "        vertical-align: middle;\n",
       "    }\n",
       "\n",
       "    .dataframe tbody tr th {\n",
       "        vertical-align: top;\n",
       "    }\n",
       "\n",
       "    .dataframe thead th {\n",
       "        text-align: right;\n",
       "    }\n",
       "</style>\n",
       "<table border=\"1\" class=\"dataframe\">\n",
       "  <thead>\n",
       "    <tr style=\"text-align: right;\">\n",
       "      <th></th>\n",
       "      <th>AGE</th>\n",
       "      <th>WEIGHT</th>\n",
       "      <th>OXY</th>\n",
       "      <th>RUNTIME</th>\n",
       "      <th>RUNPULSE</th>\n",
       "      <th>RSTPULSE</th>\n",
       "      <th>MAXPULSE</th>\n",
       "    </tr>\n",
       "  </thead>\n",
       "  <tbody>\n",
       "    <tr>\n",
       "      <th>0</th>\n",
       "      <td>0.25</td>\n",
       "      <td>0.278648</td>\n",
       "      <td>0.978647</td>\n",
       "      <td>0.000000</td>\n",
       "      <td>0.50</td>\n",
       "      <td>0.000000</td>\n",
       "      <td>0.459459</td>\n",
       "    </tr>\n",
       "    <tr>\n",
       "      <th>1</th>\n",
       "      <td>0.05</td>\n",
       "      <td>0.700154</td>\n",
       "      <td>1.000000</td>\n",
       "      <td>0.078498</td>\n",
       "      <td>0.60</td>\n",
       "      <td>0.266667</td>\n",
       "      <td>0.837838</td>\n",
       "    </tr>\n",
       "    <tr>\n",
       "      <th>2</th>\n",
       "      <td>0.30</td>\n",
       "      <td>0.822120</td>\n",
       "      <td>0.745974</td>\n",
       "      <td>0.081911</td>\n",
       "      <td>0.25</td>\n",
       "      <td>0.166667</td>\n",
       "      <td>0.351351</td>\n",
       "    </tr>\n",
       "    <tr>\n",
       "      <th>3</th>\n",
       "      <td>0.65</td>\n",
       "      <td>0.362212</td>\n",
       "      <td>0.760445</td>\n",
       "      <td>0.127986</td>\n",
       "      <td>0.00</td>\n",
       "      <td>0.266667</td>\n",
       "      <td>0.000000</td>\n",
       "    </tr>\n",
       "    <tr>\n",
       "      <th>4</th>\n",
       "      <td>0.60</td>\n",
       "      <td>0.717450</td>\n",
       "      <td>0.519169</td>\n",
       "      <td>0.133106</td>\n",
       "      <td>0.85</td>\n",
       "      <td>0.133333</td>\n",
       "      <td>0.810811</td>\n",
       "    </tr>\n",
       "  </tbody>\n",
       "</table>\n",
       "</div>"
      ],
      "text/plain": [
       "    AGE    WEIGHT       OXY   RUNTIME  RUNPULSE  RSTPULSE  MAXPULSE\n",
       "0  0.25  0.278648  0.978647  0.000000      0.50  0.000000  0.459459\n",
       "1  0.05  0.700154  1.000000  0.078498      0.60  0.266667  0.837838\n",
       "2  0.30  0.822120  0.745974  0.081911      0.25  0.166667  0.351351\n",
       "3  0.65  0.362212  0.760445  0.127986      0.00  0.266667  0.000000\n",
       "4  0.60  0.717450  0.519169  0.133106      0.85  0.133333  0.810811"
      ]
     },
     "execution_count": 25,
     "metadata": {},
     "output_type": "execute_result"
    }
   ],
   "source": [
    "# 35 Page\n",
    "# scale변환: 최소, 최대값 기준\n",
    "df_scale_minmax = minmax_scale(df_fitness_num)\n",
    "# scale 적용/변환하면 numpy의 ndarray 형태로 저장 -> DataFrame으로 변환\n",
    "df_scale_minmax = pd.DataFrame(df_scale_minmax, columns = df_fitness_num.columns)\n",
    "df_scale_minmax.head()"
   ]
  },
  {
   "cell_type": "code",
   "execution_count": 26,
   "metadata": {},
   "outputs": [
    {
     "data": {
      "text/html": [
       "<div>\n",
       "<style scoped>\n",
       "    .dataframe tbody tr th:only-of-type {\n",
       "        vertical-align: middle;\n",
       "    }\n",
       "\n",
       "    .dataframe tbody tr th {\n",
       "        vertical-align: top;\n",
       "    }\n",
       "\n",
       "    .dataframe thead th {\n",
       "        text-align: right;\n",
       "    }\n",
       "</style>\n",
       "<table border=\"1\" class=\"dataframe\">\n",
       "  <thead>\n",
       "    <tr style=\"text-align: right;\">\n",
       "      <th></th>\n",
       "      <th>AGE</th>\n",
       "      <th>WEIGHT</th>\n",
       "      <th>OXY</th>\n",
       "      <th>RUNTIME</th>\n",
       "      <th>RUNPULSE</th>\n",
       "      <th>RSTPULSE</th>\n",
       "      <th>MAXPULSE</th>\n",
       "    </tr>\n",
       "  </thead>\n",
       "  <tbody>\n",
       "    <tr>\n",
       "      <th>count</th>\n",
       "      <td>30.000</td>\n",
       "      <td>30.000</td>\n",
       "      <td>30.000</td>\n",
       "      <td>30.000</td>\n",
       "      <td>30.000</td>\n",
       "      <td>30.000</td>\n",
       "      <td>30.000</td>\n",
       "    </tr>\n",
       "    <tr>\n",
       "      <th>mean</th>\n",
       "      <td>0.480</td>\n",
       "      <td>0.552</td>\n",
       "      <td>0.453</td>\n",
       "      <td>0.399</td>\n",
       "      <td>0.592</td>\n",
       "      <td>0.459</td>\n",
       "      <td>0.509</td>\n",
       "    </tr>\n",
       "    <tr>\n",
       "      <th>std</th>\n",
       "      <td>0.290</td>\n",
       "      <td>0.248</td>\n",
       "      <td>0.229</td>\n",
       "      <td>0.229</td>\n",
       "      <td>0.261</td>\n",
       "      <td>0.251</td>\n",
       "      <td>0.252</td>\n",
       "    </tr>\n",
       "    <tr>\n",
       "      <th>min</th>\n",
       "      <td>0.000</td>\n",
       "      <td>0.000</td>\n",
       "      <td>0.000</td>\n",
       "      <td>0.000</td>\n",
       "      <td>0.000</td>\n",
       "      <td>0.000</td>\n",
       "      <td>0.000</td>\n",
       "    </tr>\n",
       "    <tr>\n",
       "      <th>25%</th>\n",
       "      <td>0.300</td>\n",
       "      <td>0.431</td>\n",
       "      <td>0.343</td>\n",
       "      <td>0.262</td>\n",
       "      <td>0.412</td>\n",
       "      <td>0.267</td>\n",
       "      <td>0.351</td>\n",
       "    </tr>\n",
       "    <tr>\n",
       "      <th>50%</th>\n",
       "      <td>0.525</td>\n",
       "      <td>0.547</td>\n",
       "      <td>0.425</td>\n",
       "      <td>0.381</td>\n",
       "      <td>0.600</td>\n",
       "      <td>0.417</td>\n",
       "      <td>0.459</td>\n",
       "    </tr>\n",
       "    <tr>\n",
       "      <th>75%</th>\n",
       "      <td>0.700</td>\n",
       "      <td>0.717</td>\n",
       "      <td>0.568</td>\n",
       "      <td>0.510</td>\n",
       "      <td>0.750</td>\n",
       "      <td>0.625</td>\n",
       "      <td>0.676</td>\n",
       "    </tr>\n",
       "    <tr>\n",
       "      <th>max</th>\n",
       "      <td>1.000</td>\n",
       "      <td>1.000</td>\n",
       "      <td>1.000</td>\n",
       "      <td>1.000</td>\n",
       "      <td>1.000</td>\n",
       "      <td>1.000</td>\n",
       "      <td>1.000</td>\n",
       "    </tr>\n",
       "  </tbody>\n",
       "</table>\n",
       "</div>"
      ],
      "text/plain": [
       "          AGE  WEIGHT     OXY  RUNTIME  RUNPULSE  RSTPULSE  MAXPULSE\n",
       "count  30.000  30.000  30.000   30.000    30.000    30.000    30.000\n",
       "mean    0.480   0.552   0.453    0.399     0.592     0.459     0.509\n",
       "std     0.290   0.248   0.229    0.229     0.261     0.251     0.252\n",
       "min     0.000   0.000   0.000    0.000     0.000     0.000     0.000\n",
       "25%     0.300   0.431   0.343    0.262     0.412     0.267     0.351\n",
       "50%     0.525   0.547   0.425    0.381     0.600     0.417     0.459\n",
       "75%     0.700   0.717   0.568    0.510     0.750     0.625     0.676\n",
       "max     1.000   1.000   1.000    1.000     1.000     1.000     1.000"
      ]
     },
     "execution_count": 26,
     "metadata": {},
     "output_type": "execute_result"
    }
   ],
   "source": [
    "# scale 변환 결과 확인: 요약통계량 : pandas.DataFrame.describe()\n",
    "df_scale_desc = df_scale_minmax.describe()\n",
    "df_scale_desc.round(3)"
   ]
  },
  {
   "cell_type": "code",
   "execution_count": 27,
   "metadata": {},
   "outputs": [
    {
     "data": {
      "text/html": [
       "<div>\n",
       "<style scoped>\n",
       "    .dataframe tbody tr th:only-of-type {\n",
       "        vertical-align: middle;\n",
       "    }\n",
       "\n",
       "    .dataframe tbody tr th {\n",
       "        vertical-align: top;\n",
       "    }\n",
       "\n",
       "    .dataframe thead th {\n",
       "        text-align: right;\n",
       "    }\n",
       "</style>\n",
       "<table border=\"1\" class=\"dataframe\">\n",
       "  <thead>\n",
       "    <tr style=\"text-align: right;\">\n",
       "      <th></th>\n",
       "      <th>AGE</th>\n",
       "      <th>WEIGHT</th>\n",
       "      <th>OXY</th>\n",
       "      <th>RUNTIME</th>\n",
       "      <th>RUNPULSE</th>\n",
       "      <th>RSTPULSE</th>\n",
       "      <th>MAXPULSE</th>\n",
       "    </tr>\n",
       "  </thead>\n",
       "  <tbody>\n",
       "    <tr>\n",
       "      <th>0</th>\n",
       "      <td>-0.6875</td>\n",
       "      <td>-0.937433</td>\n",
       "      <td>2.463797</td>\n",
       "      <td>-1.535284</td>\n",
       "      <td>-0.296296</td>\n",
       "      <td>-1.162791</td>\n",
       "      <td>0.000000</td>\n",
       "    </tr>\n",
       "    <tr>\n",
       "      <th>1</th>\n",
       "      <td>-1.1875</td>\n",
       "      <td>0.534986</td>\n",
       "      <td>2.558834</td>\n",
       "      <td>-1.218589</td>\n",
       "      <td>0.000000</td>\n",
       "      <td>-0.418605</td>\n",
       "      <td>1.166667</td>\n",
       "    </tr>\n",
       "    <tr>\n",
       "      <th>2</th>\n",
       "      <td>-0.5625</td>\n",
       "      <td>0.961043</td>\n",
       "      <td>1.428207</td>\n",
       "      <td>-1.204819</td>\n",
       "      <td>-1.037037</td>\n",
       "      <td>-0.697674</td>\n",
       "      <td>-0.333333</td>\n",
       "    </tr>\n",
       "    <tr>\n",
       "      <th>3</th>\n",
       "      <td>0.3125</td>\n",
       "      <td>-0.645525</td>\n",
       "      <td>1.492612</td>\n",
       "      <td>-1.018933</td>\n",
       "      <td>-1.777778</td>\n",
       "      <td>-0.418605</td>\n",
       "      <td>-1.416667</td>\n",
       "    </tr>\n",
       "    <tr>\n",
       "      <th>4</th>\n",
       "      <td>0.1875</td>\n",
       "      <td>0.595407</td>\n",
       "      <td>0.418733</td>\n",
       "      <td>-0.998279</td>\n",
       "      <td>0.740741</td>\n",
       "      <td>-0.790698</td>\n",
       "      <td>1.083333</td>\n",
       "    </tr>\n",
       "  </tbody>\n",
       "</table>\n",
       "</div>"
      ],
      "text/plain": [
       "      AGE    WEIGHT       OXY   RUNTIME  RUNPULSE  RSTPULSE  MAXPULSE\n",
       "0 -0.6875 -0.937433  2.463797 -1.535284 -0.296296 -1.162791  0.000000\n",
       "1 -1.1875  0.534986  2.558834 -1.218589  0.000000 -0.418605  1.166667\n",
       "2 -0.5625  0.961043  1.428207 -1.204819 -1.037037 -0.697674 -0.333333\n",
       "3  0.3125 -0.645525  1.492612 -1.018933 -1.777778 -0.418605 -1.416667\n",
       "4  0.1875  0.595407  0.418733 -0.998279  0.740741 -0.790698  1.083333"
      ]
     },
     "execution_count": 27,
     "metadata": {},
     "output_type": "execute_result"
    }
   ],
   "source": [
    "# 36 Page\n",
    "# scale변환: 로버스트 기준\n",
    "df_scale_robust = robust_scale(df_fitness_num)\n",
    "# scale 적용/변환하면 numpy의 ndarray 형태로 저장 -> DataFrame으로 변환\n",
    "df_scale_robust = pd.DataFrame(df_scale_robust, columns = df_fitness_num.columns)\n",
    "df_scale_robust.head()"
   ]
  },
  {
   "cell_type": "code",
   "execution_count": 28,
   "metadata": {},
   "outputs": [
    {
     "data": {
      "text/html": [
       "<div>\n",
       "<style scoped>\n",
       "    .dataframe tbody tr th:only-of-type {\n",
       "        vertical-align: middle;\n",
       "    }\n",
       "\n",
       "    .dataframe tbody tr th {\n",
       "        vertical-align: top;\n",
       "    }\n",
       "\n",
       "    .dataframe thead th {\n",
       "        text-align: right;\n",
       "    }\n",
       "</style>\n",
       "<table border=\"1\" class=\"dataframe\">\n",
       "  <thead>\n",
       "    <tr style=\"text-align: right;\">\n",
       "      <th></th>\n",
       "      <th>AGE</th>\n",
       "      <th>WEIGHT</th>\n",
       "      <th>OXY</th>\n",
       "      <th>RUNTIME</th>\n",
       "      <th>RUNPULSE</th>\n",
       "      <th>RSTPULSE</th>\n",
       "      <th>MAXPULSE</th>\n",
       "    </tr>\n",
       "  </thead>\n",
       "  <tbody>\n",
       "    <tr>\n",
       "      <th>count</th>\n",
       "      <td>30.000</td>\n",
       "      <td>30.000</td>\n",
       "      <td>30.000</td>\n",
       "      <td>30.000</td>\n",
       "      <td>30.000</td>\n",
       "      <td>30.000</td>\n",
       "      <td>30.000</td>\n",
       "    </tr>\n",
       "    <tr>\n",
       "      <th>mean</th>\n",
       "      <td>-0.112</td>\n",
       "      <td>0.017</td>\n",
       "      <td>0.123</td>\n",
       "      <td>0.076</td>\n",
       "      <td>-0.022</td>\n",
       "      <td>0.118</td>\n",
       "      <td>0.153</td>\n",
       "    </tr>\n",
       "    <tr>\n",
       "      <th>std</th>\n",
       "      <td>0.726</td>\n",
       "      <td>0.868</td>\n",
       "      <td>1.020</td>\n",
       "      <td>0.925</td>\n",
       "      <td>0.772</td>\n",
       "      <td>0.702</td>\n",
       "      <td>0.776</td>\n",
       "    </tr>\n",
       "    <tr>\n",
       "      <th>min</th>\n",
       "      <td>-1.312</td>\n",
       "      <td>-1.911</td>\n",
       "      <td>-1.892</td>\n",
       "      <td>-1.535</td>\n",
       "      <td>-1.778</td>\n",
       "      <td>-1.163</td>\n",
       "      <td>-1.417</td>\n",
       "    </tr>\n",
       "    <tr>\n",
       "      <th>25%</th>\n",
       "      <td>-0.562</td>\n",
       "      <td>-0.405</td>\n",
       "      <td>-0.365</td>\n",
       "      <td>-0.478</td>\n",
       "      <td>-0.556</td>\n",
       "      <td>-0.419</td>\n",
       "      <td>-0.333</td>\n",
       "    </tr>\n",
       "    <tr>\n",
       "      <th>50%</th>\n",
       "      <td>0.000</td>\n",
       "      <td>0.000</td>\n",
       "      <td>0.000</td>\n",
       "      <td>0.000</td>\n",
       "      <td>0.000</td>\n",
       "      <td>0.000</td>\n",
       "      <td>0.000</td>\n",
       "    </tr>\n",
       "    <tr>\n",
       "      <th>75%</th>\n",
       "      <td>0.438</td>\n",
       "      <td>0.595</td>\n",
       "      <td>0.635</td>\n",
       "      <td>0.522</td>\n",
       "      <td>0.444</td>\n",
       "      <td>0.581</td>\n",
       "      <td>0.667</td>\n",
       "    </tr>\n",
       "    <tr>\n",
       "      <th>max</th>\n",
       "      <td>1.188</td>\n",
       "      <td>1.582</td>\n",
       "      <td>2.559</td>\n",
       "      <td>2.499</td>\n",
       "      <td>1.185</td>\n",
       "      <td>1.628</td>\n",
       "      <td>1.667</td>\n",
       "    </tr>\n",
       "  </tbody>\n",
       "</table>\n",
       "</div>"
      ],
      "text/plain": [
       "          AGE  WEIGHT     OXY  RUNTIME  RUNPULSE  RSTPULSE  MAXPULSE\n",
       "count  30.000  30.000  30.000   30.000    30.000    30.000    30.000\n",
       "mean   -0.112   0.017   0.123    0.076    -0.022     0.118     0.153\n",
       "std     0.726   0.868   1.020    0.925     0.772     0.702     0.776\n",
       "min    -1.312  -1.911  -1.892   -1.535    -1.778    -1.163    -1.417\n",
       "25%    -0.562  -0.405  -0.365   -0.478    -0.556    -0.419    -0.333\n",
       "50%     0.000   0.000   0.000    0.000     0.000     0.000     0.000\n",
       "75%     0.438   0.595   0.635    0.522     0.444     0.581     0.667\n",
       "max     1.188   1.582   2.559    2.499     1.185     1.628     1.667"
      ]
     },
     "execution_count": 28,
     "metadata": {},
     "output_type": "execute_result"
    }
   ],
   "source": [
    "# scale 변환 결과 확인: 요약통계량 : pandas.DataFrame.describe()\n",
    "df_scale_desc = df_scale_robust.describe()\n",
    "df_scale_desc.round(3)"
   ]
  },
  {
   "cell_type": "code",
   "execution_count": 29,
   "metadata": {},
   "outputs": [
    {
     "data": {
      "text/html": [
       "<div>\n",
       "<style scoped>\n",
       "    .dataframe tbody tr th:only-of-type {\n",
       "        vertical-align: middle;\n",
       "    }\n",
       "\n",
       "    .dataframe tbody tr th {\n",
       "        vertical-align: top;\n",
       "    }\n",
       "\n",
       "    .dataframe thead th {\n",
       "        text-align: right;\n",
       "    }\n",
       "</style>\n",
       "<table border=\"1\" class=\"dataframe\">\n",
       "  <thead>\n",
       "    <tr style=\"text-align: right;\">\n",
       "      <th></th>\n",
       "      <th>Raw</th>\n",
       "      <th>Standard</th>\n",
       "      <th>MinMax</th>\n",
       "      <th>Robust</th>\n",
       "    </tr>\n",
       "  </thead>\n",
       "  <tbody>\n",
       "    <tr>\n",
       "      <th>0</th>\n",
       "      <td>40</td>\n",
       "      <td>-1.857</td>\n",
       "      <td>0.000</td>\n",
       "      <td>-1.163</td>\n",
       "    </tr>\n",
       "    <tr>\n",
       "      <th>1</th>\n",
       "      <td>48</td>\n",
       "      <td>-0.778</td>\n",
       "      <td>0.267</td>\n",
       "      <td>-0.419</td>\n",
       "    </tr>\n",
       "    <tr>\n",
       "      <th>2</th>\n",
       "      <td>45</td>\n",
       "      <td>-1.182</td>\n",
       "      <td>0.167</td>\n",
       "      <td>-0.698</td>\n",
       "    </tr>\n",
       "    <tr>\n",
       "      <th>3</th>\n",
       "      <td>48</td>\n",
       "      <td>-0.778</td>\n",
       "      <td>0.267</td>\n",
       "      <td>-0.419</td>\n",
       "    </tr>\n",
       "    <tr>\n",
       "      <th>4</th>\n",
       "      <td>44</td>\n",
       "      <td>-1.317</td>\n",
       "      <td>0.133</td>\n",
       "      <td>-0.791</td>\n",
       "    </tr>\n",
       "  </tbody>\n",
       "</table>\n",
       "</div>"
      ],
      "text/plain": [
       "   Raw  Standard  MinMax  Robust\n",
       "0   40    -1.857   0.000  -1.163\n",
       "1   48    -0.778   0.267  -0.419\n",
       "2   45    -1.182   0.167  -0.698\n",
       "3   48    -0.778   0.267  -0.419\n",
       "4   44    -1.317   0.133  -0.791"
      ]
     },
     "execution_count": 29,
     "metadata": {},
     "output_type": "execute_result"
    }
   ],
   "source": [
    "# 37 Page\n",
    "df_rstpulse = pd.DataFrame()\n",
    "df_rstpulse[\"Raw\"] = df_fitness_num[\"RSTPULSE\"]  #df_fitness 사용 가능(동일)\n",
    "df_rstpulse[\"Standard\"] = df_scale_std[\"RSTPULSE\"]\n",
    "df_rstpulse[\"MinMax\"] = df_scale_minmax[\"RSTPULSE\"]\n",
    "df_rstpulse[\"Robust\"] = df_scale_robust[\"RSTPULSE\"]\n",
    "df_rstpulse.head().round(3)"
   ]
  },
  {
   "cell_type": "code",
   "execution_count": 30,
   "metadata": {},
   "outputs": [
    {
     "data": {
      "text/html": [
       "<div>\n",
       "<style scoped>\n",
       "    .dataframe tbody tr th:only-of-type {\n",
       "        vertical-align: middle;\n",
       "    }\n",
       "\n",
       "    .dataframe tbody tr th {\n",
       "        vertical-align: top;\n",
       "    }\n",
       "\n",
       "    .dataframe thead th {\n",
       "        text-align: right;\n",
       "    }\n",
       "</style>\n",
       "<table border=\"1\" class=\"dataframe\">\n",
       "  <thead>\n",
       "    <tr style=\"text-align: right;\">\n",
       "      <th></th>\n",
       "      <th>Raw</th>\n",
       "      <th>Standard</th>\n",
       "      <th>MinMax</th>\n",
       "      <th>Robust</th>\n",
       "    </tr>\n",
       "  </thead>\n",
       "  <tbody>\n",
       "    <tr>\n",
       "      <th>count</th>\n",
       "      <td>30.000</td>\n",
       "      <td>30.000</td>\n",
       "      <td>30.000</td>\n",
       "      <td>30.000</td>\n",
       "    </tr>\n",
       "    <tr>\n",
       "      <th>mean</th>\n",
       "      <td>53.767</td>\n",
       "      <td>0.000</td>\n",
       "      <td>0.459</td>\n",
       "      <td>0.118</td>\n",
       "    </tr>\n",
       "    <tr>\n",
       "      <th>std</th>\n",
       "      <td>7.542</td>\n",
       "      <td>1.017</td>\n",
       "      <td>0.251</td>\n",
       "      <td>0.702</td>\n",
       "    </tr>\n",
       "    <tr>\n",
       "      <th>min</th>\n",
       "      <td>40.000</td>\n",
       "      <td>-1.857</td>\n",
       "      <td>0.000</td>\n",
       "      <td>-1.163</td>\n",
       "    </tr>\n",
       "    <tr>\n",
       "      <th>25%</th>\n",
       "      <td>48.000</td>\n",
       "      <td>-0.778</td>\n",
       "      <td>0.267</td>\n",
       "      <td>-0.419</td>\n",
       "    </tr>\n",
       "    <tr>\n",
       "      <th>50%</th>\n",
       "      <td>52.500</td>\n",
       "      <td>-0.171</td>\n",
       "      <td>0.417</td>\n",
       "      <td>0.000</td>\n",
       "    </tr>\n",
       "    <tr>\n",
       "      <th>75%</th>\n",
       "      <td>58.750</td>\n",
       "      <td>0.672</td>\n",
       "      <td>0.625</td>\n",
       "      <td>0.581</td>\n",
       "    </tr>\n",
       "    <tr>\n",
       "      <th>max</th>\n",
       "      <td>70.000</td>\n",
       "      <td>2.189</td>\n",
       "      <td>1.000</td>\n",
       "      <td>1.628</td>\n",
       "    </tr>\n",
       "  </tbody>\n",
       "</table>\n",
       "</div>"
      ],
      "text/plain": [
       "          Raw  Standard  MinMax  Robust\n",
       "count  30.000    30.000  30.000  30.000\n",
       "mean   53.767     0.000   0.459   0.118\n",
       "std     7.542     1.017   0.251   0.702\n",
       "min    40.000    -1.857   0.000  -1.163\n",
       "25%    48.000    -0.778   0.267  -0.419\n",
       "50%    52.500    -0.171   0.417   0.000\n",
       "75%    58.750     0.672   0.625   0.581\n",
       "max    70.000     2.189   1.000   1.628"
      ]
     },
     "execution_count": 30,
     "metadata": {},
     "output_type": "execute_result"
    }
   ],
   "source": [
    "df_rstpulse.describe().round(3)"
   ]
  },
  {
   "cell_type": "code",
   "execution_count": 31,
   "metadata": {},
   "outputs": [
    {
     "data": {
      "text/plain": [
       "array([[<matplotlib.axes._subplots.AxesSubplot object at 0x0000028641ADCBE0>,\n",
       "        <matplotlib.axes._subplots.AxesSubplot object at 0x0000028641B3A0A0>],\n",
       "       [<matplotlib.axes._subplots.AxesSubplot object at 0x0000028641B6D490>,\n",
       "        <matplotlib.axes._subplots.AxesSubplot object at 0x0000028641B988E0>]],\n",
       "      dtype=object)"
      ]
     },
     "execution_count": 31,
     "metadata": {},
     "output_type": "execute_result"
    },
    {
     "data": {
      "image/png": "[encoded data removed]",
      "text/plain": [
       "<Figure size 720x360 with 4 Axes>"
      ]
     },
     "metadata": {
      "needs_background": "light"
     },
     "output_type": "display_data"
    }
   ],
   "source": [
    "# pandas의 DataFrame.hist 이용(figsize = (x축 크기, y축 크기)\n",
    "df_rstpulse[[\"Raw\",\"Standard\",\"MinMax\",\"Robust\"]].hist(figsize = (10,5))"
   ]
  },
  {
   "cell_type": "markdown",
   "metadata": {},
   "source": [
    "### 탐색적분석 연습 (P 49)"
   ]
  },
  {
   "cell_type": "code",
   "execution_count": 32,
   "metadata": {},
   "outputs": [],
   "source": [
    "import pandas as pd\n",
    "import numpy as np\n",
    "import matplotlib\n",
    "import matplotlib.pyplot as plt\n",
    "import seaborn as sns"
   ]
  },
  {
   "cell_type": "code",
   "execution_count": 33,
   "metadata": {},
   "outputs": [],
   "source": [
    "# 한글 폰트(맑은 고딕) 적용\n",
    "matplotlib.rc('font', family='Malgun Gothic')"
   ]
  },
  {
   "cell_type": "code",
   "execution_count": 34,
   "metadata": {},
   "outputs": [
    {
     "data": {
      "text/html": [
       "<div>\n",
       "<style scoped>\n",
       "    .dataframe tbody tr th:only-of-type {\n",
       "        vertical-align: middle;\n",
       "    }\n",
       "\n",
       "    .dataframe tbody tr th {\n",
       "        vertical-align: top;\n",
       "    }\n",
       "\n",
       "    .dataframe thead th {\n",
       "        text-align: right;\n",
       "    }\n",
       "</style>\n",
       "<table border=\"1\" class=\"dataframe\">\n",
       "  <thead>\n",
       "    <tr style=\"text-align: right;\">\n",
       "      <th></th>\n",
       "      <th>NAME</th>\n",
       "      <th>GENDER</th>\n",
       "      <th>AGE</th>\n",
       "      <th>AGEGROUP</th>\n",
       "      <th>WEIGHT</th>\n",
       "      <th>OXY</th>\n",
       "      <th>RUNTIME</th>\n",
       "      <th>RUNPULSE</th>\n",
       "      <th>RSTPULSE</th>\n",
       "      <th>MAXPULSE</th>\n",
       "    </tr>\n",
       "  </thead>\n",
       "  <tbody>\n",
       "    <tr>\n",
       "      <th>0</th>\n",
       "      <td>Donna</td>\n",
       "      <td>여성</td>\n",
       "      <td>42</td>\n",
       "      <td>40대</td>\n",
       "      <td>68.15</td>\n",
       "      <td>59.571</td>\n",
       "      <td>8.17</td>\n",
       "      <td>166</td>\n",
       "      <td>40</td>\n",
       "      <td>172</td>\n",
       "    </tr>\n",
       "    <tr>\n",
       "      <th>1</th>\n",
       "      <td>Gracie</td>\n",
       "      <td>여성</td>\n",
       "      <td>38</td>\n",
       "      <td>30대</td>\n",
       "      <td>81.87</td>\n",
       "      <td>60.055</td>\n",
       "      <td>8.63</td>\n",
       "      <td>170</td>\n",
       "      <td>48</td>\n",
       "      <td>186</td>\n",
       "    </tr>\n",
       "    <tr>\n",
       "      <th>2</th>\n",
       "      <td>Luanne</td>\n",
       "      <td>여성</td>\n",
       "      <td>43</td>\n",
       "      <td>40대</td>\n",
       "      <td>85.84</td>\n",
       "      <td>54.297</td>\n",
       "      <td>8.65</td>\n",
       "      <td>156</td>\n",
       "      <td>45</td>\n",
       "      <td>168</td>\n",
       "    </tr>\n",
       "    <tr>\n",
       "      <th>3</th>\n",
       "      <td>Mimi</td>\n",
       "      <td>여성</td>\n",
       "      <td>50</td>\n",
       "      <td>50대</td>\n",
       "      <td>70.87</td>\n",
       "      <td>54.625</td>\n",
       "      <td>8.92</td>\n",
       "      <td>146</td>\n",
       "      <td>48</td>\n",
       "      <td>155</td>\n",
       "    </tr>\n",
       "    <tr>\n",
       "      <th>4</th>\n",
       "      <td>Chris</td>\n",
       "      <td>남성</td>\n",
       "      <td>49</td>\n",
       "      <td>40대</td>\n",
       "      <td>81.42</td>\n",
       "      <td>49.156</td>\n",
       "      <td>8.95</td>\n",
       "      <td>180</td>\n",
       "      <td>44</td>\n",
       "      <td>185</td>\n",
       "    </tr>\n",
       "  </tbody>\n",
       "</table>\n",
       "</div>"
      ],
      "text/plain": [
       "     NAME GENDER  AGE AGEGROUP  WEIGHT     OXY  RUNTIME  RUNPULSE  RSTPULSE  \\\n",
       "0   Donna     여성   42      40대   68.15  59.571     8.17       166        40   \n",
       "1  Gracie     여성   38      30대   81.87  60.055     8.63       170        48   \n",
       "2  Luanne     여성   43      40대   85.84  54.297     8.65       156        45   \n",
       "3    Mimi     여성   50      50대   70.87  54.625     8.92       146        48   \n",
       "4   Chris     남성   49      40대   81.42  49.156     8.95       180        44   \n",
       "\n",
       "   MAXPULSE  \n",
       "0       172  \n",
       "1       186  \n",
       "2       168  \n",
       "3       155  \n",
       "4       185  "
      ]
     },
     "execution_count": 34,
     "metadata": {},
     "output_type": "execute_result"
    }
   ],
   "source": [
    "# 50 Page\n",
    "df_fitness = pd.read_csv(\"C:/청년AI.BigData아카데미/data/FITNESS.CSV\", encoding =\"euc-kr\")\n",
    "df_fitness.head()"
   ]
  },
  {
   "cell_type": "code",
   "execution_count": 35,
   "metadata": {},
   "outputs": [
    {
     "data": {
      "text/html": [
       "<div>\n",
       "<style scoped>\n",
       "    .dataframe tbody tr th:only-of-type {\n",
       "        vertical-align: middle;\n",
       "    }\n",
       "\n",
       "    .dataframe tbody tr th {\n",
       "        vertical-align: top;\n",
       "    }\n",
       "\n",
       "    .dataframe thead th {\n",
       "        text-align: right;\n",
       "    }\n",
       "</style>\n",
       "<table border=\"1\" class=\"dataframe\">\n",
       "  <thead>\n",
       "    <tr style=\"text-align: right;\">\n",
       "      <th></th>\n",
       "      <th>CURRENCY</th>\n",
       "      <th>APPL_DATE</th>\n",
       "      <th>STD_RATE</th>\n",
       "      <th>USD_CONV_DATE</th>\n",
       "    </tr>\n",
       "  </thead>\n",
       "  <tbody>\n",
       "    <tr>\n",
       "      <th>0</th>\n",
       "      <td>CNY</td>\n",
       "      <td>2016-01-01</td>\n",
       "      <td>181.48</td>\n",
       "      <td>0.1541</td>\n",
       "    </tr>\n",
       "    <tr>\n",
       "      <th>1</th>\n",
       "      <td>JPY</td>\n",
       "      <td>2016-01-01</td>\n",
       "      <td>976.99</td>\n",
       "      <td>0.8294</td>\n",
       "    </tr>\n",
       "    <tr>\n",
       "      <th>2</th>\n",
       "      <td>USD</td>\n",
       "      <td>2016-01-01</td>\n",
       "      <td>1178.00</td>\n",
       "      <td>1.0000</td>\n",
       "    </tr>\n",
       "    <tr>\n",
       "      <th>3</th>\n",
       "      <td>CNY</td>\n",
       "      <td>2016-01-02</td>\n",
       "      <td>181.48</td>\n",
       "      <td>0.1541</td>\n",
       "    </tr>\n",
       "    <tr>\n",
       "      <th>4</th>\n",
       "      <td>JPY</td>\n",
       "      <td>2016-01-02</td>\n",
       "      <td>976.99</td>\n",
       "      <td>0.8294</td>\n",
       "    </tr>\n",
       "  </tbody>\n",
       "</table>\n",
       "</div>"
      ],
      "text/plain": [
       "  CURRENCY  APPL_DATE  STD_RATE  USD_CONV_DATE\n",
       "0      CNY 2016-01-01    181.48         0.1541\n",
       "1      JPY 2016-01-01    976.99         0.8294\n",
       "2      USD 2016-01-01   1178.00         1.0000\n",
       "3      CNY 2016-01-02    181.48         0.1541\n",
       "4      JPY 2016-01-02    976.99         0.8294"
      ]
     },
     "execution_count": 35,
     "metadata": {},
     "output_type": "execute_result"
    }
   ],
   "source": [
    "# 환율.CSV 데이터 가져오기. 파일 이름에 한글 포함되어 있는 경우\n",
    "# engine = \"python\" 지정, parse_dates:날짜 변수 지정\n",
    "df_currency = pd.read_csv(\"C:/청년AI.BigData아카데미/data/환율.CSV\", engine =\"python\",parse_dates = [\"APPL_DATE\"])\n",
    "df_currency.head()"
   ]
  },
  {
   "cell_type": "markdown",
   "metadata": {},
   "source": [
    "### 그래프분석_Bar Chart 연습 (P 53)"
   ]
  },
  {
   "cell_type": "code",
   "execution_count": 36,
   "metadata": {},
   "outputs": [
    {
     "data": {
      "text/plain": [
       "<matplotlib.axes._subplots.AxesSubplot at 0x28641f16e80>"
      ]
     },
     "execution_count": 36,
     "metadata": {},
     "output_type": "execute_result"
    },
    {
     "data": {
      "image/png": "[encoded data removed]",
      "text/plain": [
       "<Figure size 432x288 with 1 Axes>"
      ]
     },
     "metadata": {
      "needs_background": "light"
     },
     "output_type": "display_data"
    }
   ],
   "source": [
    "# DataFrame[\"변수\"].value_counts() : 개별(1개) 범주형 변수의 자료 수 계산 \n",
    "# 성별 Bar Chart\n",
    "df_count =  df_fitness[\"GENDER\"].value_counts()\n",
    "df_count.plot.bar()"
   ]
  },
  {
   "cell_type": "code",
   "execution_count": 37,
   "metadata": {},
   "outputs": [
    {
     "data": {
      "text/plain": [
       "<matplotlib.axes._subplots.AxesSubplot at 0x28641f77f40>"
      ]
     },
     "execution_count": 37,
     "metadata": {},
     "output_type": "execute_result"
    },
    {
     "data": {
      "image/png": "[encoded data removed]",
      "text/plain": [
       "<Figure size 432x288 with 1 Axes>"
      ]
     },
     "metadata": {
      "needs_background": "light"
     },
     "output_type": "display_data"
    }
   ],
   "source": [
    "# 연령대 Bar Chart\n",
    "df_count =  df_fitness[\"AGEGROUP\"].value_counts()\n",
    "# sort_index(inplace = True) : 정렬 결과를 저장 \n",
    "df_count.sort_index(inplace = True);\n",
    "df_count.plot.bar()"
   ]
  },
  {
   "cell_type": "code",
   "execution_count": 38,
   "metadata": {},
   "outputs": [
    {
     "data": {
      "text/plain": [
       "GENDER  AGEGROUP\n",
       "남성      30대         4\n",
       "        40대         6\n",
       "        50대         5\n",
       "여성      30대         2\n",
       "        40대         8\n",
       "        50대         6\n",
       "dtype: int64"
      ]
     },
     "execution_count": 38,
     "metadata": {},
     "output_type": "execute_result"
    }
   ],
   "source": [
    "# 성별+연령대 Bar Chart\n",
    "# groupby(column):column기준 자료 요약,  as_index: groupby 변수의 index로 사용 여부 \n",
    "df_groupby_total = df_fitness.groupby([\"GENDER\", \"AGEGROUP\"]).size()\n",
    "df_groupby_total"
   ]
  },
  {
   "cell_type": "code",
   "execution_count": 39,
   "metadata": {},
   "outputs": [
    {
     "data": {
      "text/plain": [
       "<matplotlib.axes._subplots.AxesSubplot at 0x28641fcbbe0>"
      ]
     },
     "execution_count": 39,
     "metadata": {},
     "output_type": "execute_result"
    },
    {
     "data": {
      "image/png": "[encoded data removed]",
      "text/plain": [
       "<Figure size 432x288 with 1 Axes>"
      ]
     },
     "metadata": {
      "needs_background": "light"
     },
     "output_type": "display_data"
    }
   ],
   "source": [
    "#df_groupby_total = df_fitness.groupby([\"GENDER\", \"AGEGROUP\"],as_index = False).agg(\"count\") 위와 동일\n",
    "df_groupby_total.plot.bar()"
   ]
  },
  {
   "cell_type": "markdown",
   "metadata": {},
   "source": [
    "### 그래프분석_히스토그램 연습 (P 57)"
   ]
  },
  {
   "cell_type": "code",
   "execution_count": 40,
   "metadata": {},
   "outputs": [
    {
     "data": {
      "text/plain": [
       "<matplotlib.axes._subplots.AxesSubplot at 0x28642035fd0>"
      ]
     },
     "execution_count": 40,
     "metadata": {},
     "output_type": "execute_result"
    },
    {
     "data": {
      "image/png": "[encoded data removed]",
      "text/plain": [
       "<Figure size 432x288 with 1 Axes>"
      ]
     },
     "metadata": {
      "needs_background": "light"
     },
     "output_type": "display_data"
    }
   ],
   "source": [
    "# pandas의 DataFrame.hist method 이용 : OXY에 대한 히스토그램 생성  \n",
    "df_fitness[\"OXY\"].hist()"
   ]
  },
  {
   "cell_type": "code",
   "execution_count": 41,
   "metadata": {},
   "outputs": [
    {
     "data": {
      "text/plain": [
       "array([[<matplotlib.axes._subplots.AxesSubplot object at 0x00000286420A3B50>,\n",
       "        <matplotlib.axes._subplots.AxesSubplot object at 0x00000286420CE3D0>,\n",
       "        <matplotlib.axes._subplots.AxesSubplot object at 0x00000286420F9820>],\n",
       "       [<matplotlib.axes._subplots.AxesSubplot object at 0x0000028642125C70>,\n",
       "        <matplotlib.axes._subplots.AxesSubplot object at 0x0000028642151160>,\n",
       "        <matplotlib.axes._subplots.AxesSubplot object at 0x000002864218C490>],\n",
       "       [<matplotlib.axes._subplots.AxesSubplot object at 0x0000028641F2BBB0>,\n",
       "        <matplotlib.axes._subplots.AxesSubplot object at 0x0000028641FA83A0>,\n",
       "        <matplotlib.axes._subplots.AxesSubplot object at 0x0000028642160A30>]],\n",
       "      dtype=object)"
      ]
     },
     "execution_count": 41,
     "metadata": {},
     "output_type": "execute_result"
    },
    {
     "data": {
      "image/png": "[encoded data removed]",
      "text/plain": [
       "<Figure size 720x504 with 9 Axes>"
      ]
     },
     "metadata": {
      "needs_background": "light"
     },
     "output_type": "display_data"
    }
   ],
   "source": [
    "# 58 Page\n",
    "# hist(figsiz) : figsize = (x축 크기, y축 크기)-그래프 영역별 중첩 처리\n",
    "df_fitness.hist(figsize = (10,7))"
   ]
  },
  {
   "cell_type": "code",
   "execution_count": 42,
   "metadata": {},
   "outputs": [
    {
     "data": {
      "text/plain": [
       "array([<matplotlib.axes._subplots.AxesSubplot object at 0x0000028642367C40>,\n",
       "       <matplotlib.axes._subplots.AxesSubplot object at 0x000002864253FFD0>],\n",
       "      dtype=object)"
      ]
     },
     "execution_count": 42,
     "metadata": {},
     "output_type": "execute_result"
    },
    {
     "data": {
      "image/png": "[encoded data removed]",
      "text/plain": [
       "<Figure size 432x288 with 2 Axes>"
      ]
     },
     "metadata": {
      "needs_background": "light"
     },
     "output_type": "display_data"
    }
   ],
   "source": [
    "# 59 Page\n",
    "# hist(column = 변수, by = 그룹변수, range=(최소값, 최대값))-X축 범위 통일\n",
    "df_fitness.hist( column=\"OXY\" , by = \"GENDER\" , range=(35,65))"
   ]
  },
  {
   "cell_type": "code",
   "execution_count": 43,
   "metadata": {},
   "outputs": [
    {
     "data": {
      "text/plain": [
       "<seaborn.axisgrid.FacetGrid at 0x286425be820>"
      ]
     },
     "execution_count": 43,
     "metadata": {},
     "output_type": "execute_result"
    },
    {
     "data": {
      "image/png": "[encoded data removed]",
      "text/plain": [
       "<Figure size 432x216 with 2 Axes>"
      ]
     },
     "metadata": {
      "needs_background": "light"
     },
     "output_type": "display_data"
    }
   ],
   "source": [
    "# seaborn사용. FacetGrid(데이터 지정, col=컬럼 지정):지정된 컬럼의 범주별 그리드 영역 생성. Y축 범위 동일\n",
    "grid = sns.FacetGrid(df_fitness, col =\"GENDER\")\n",
    "# map(함수, 문자형 컬럼명):범주별 히스토그램 생성\n",
    "grid.map(plt.hist, \"OXY\")"
   ]
  },
  {
   "cell_type": "code",
   "execution_count": 44,
   "metadata": {},
   "outputs": [
    {
     "data": {
      "text/plain": [
       "<matplotlib.legend.Legend at 0x286426aa880>"
      ]
     },
     "execution_count": 44,
     "metadata": {},
     "output_type": "execute_result"
    },
    {
     "data": {
      "image/png": "[encoded data removed]",
      "text/plain": [
       "<Figure size 432x288 with 1 Axes>"
      ]
     },
     "metadata": {
      "needs_background": "light"
     },
     "output_type": "display_data"
    }
   ],
   "source": [
    "# 60 Page\n",
    "# matplotlib.pyplot,hist method 이용하여 중첩 histogram 생성 \n",
    "# hist(변수,label=\"표시 값\" , alpha = 투명도(0~1 지정) )\n",
    "plt.hist(df_fitness[df_fitness[\"GENDER\"] == \"남성\"][\"OXY\"],label = \"남성\", alpha = 0.5)\n",
    "plt.hist(df_fitness[df_fitness[\"GENDER\"] == \"여성\"][\"OXY\"],label = \"여성\", alpha = 0.5)\n",
    "plt.legend()"
   ]
  },
  {
   "cell_type": "code",
   "execution_count": 45,
   "metadata": {},
   "outputs": [
    {
     "data": {
      "text/plain": [
       "(array([4., 1., 0., 9., 6., 6., 1., 2., 0., 2.]),\n",
       " array([37.388 , 39.6547, 41.9214, 44.1881, 46.4548, 48.7215, 50.9882,\n",
       "        53.2549, 55.5216, 57.7883, 60.055 ]),\n",
       " <a list of 10 Patch objects>)"
      ]
     },
     "execution_count": 45,
     "metadata": {},
     "output_type": "execute_result"
    },
    {
     "data": {
      "image/png": "[encoded data removed]",
      "text/plain": [
       "<Figure size 432x288 with 1 Axes>"
      ]
     },
     "metadata": {
      "needs_background": "light"
     },
     "output_type": "display_data"
    }
   ],
   "source": [
    "# 61 Page\n",
    "# hist(변수,data)  \n",
    "plt.hist(x = \"OXY\", data = df_fitness)"
   ]
  },
  {
   "cell_type": "code",
   "execution_count": 46,
   "metadata": {},
   "outputs": [
    {
     "data": {
      "text/plain": [
       "(array([1., 3., 0., 1., 0., 0., 5., 4., 4., 2., 2., 4., 1., 0., 1., 1., 0.,\n",
       "        0., 0., 2.]),\n",
       " array([37.388  , 38.52135, 39.6547 , 40.78805, 41.9214 , 43.05475,\n",
       "        44.1881 , 45.32145, 46.4548 , 47.58815, 48.7215 , 49.85485,\n",
       "        50.9882 , 52.12155, 53.2549 , 54.38825, 55.5216 , 56.65495,\n",
       "        57.7883 , 58.92165, 60.055  ]),\n",
       " <a list of 20 Patch objects>)"
      ]
     },
     "execution_count": 46,
     "metadata": {},
     "output_type": "execute_result"
    },
    {
     "data": {
      "image/png": "[encoded data removed]",
      "text/plain": [
       "<Figure size 432x288 with 1 Axes>"
      ]
     },
     "metadata": {
      "needs_background": "light"
     },
     "output_type": "display_data"
    }
   ],
   "source": [
    "# x축 구간(bin) 조정(상세 분포 확인)\n",
    "plt.hist(x = \"OXY\", data = df_fitness, bins = 20)"
   ]
  },
  {
   "cell_type": "markdown",
   "metadata": {},
   "source": [
    "### 그래프분석_BoxPlot 연습 (P 64)"
   ]
  },
  {
   "cell_type": "code",
   "execution_count": 47,
   "metadata": {},
   "outputs": [
    {
     "data": {
      "text/plain": [
       "<matplotlib.axes._subplots.AxesSubplot at 0x28642838040>"
      ]
     },
     "execution_count": 47,
     "metadata": {},
     "output_type": "execute_result"
    },
    {
     "data": {
      "image/png": "[encoded data removed]",
      "text/plain": [
       "<Figure size 432x288 with 1 Axes>"
      ]
     },
     "metadata": {
      "needs_background": "light"
     },
     "output_type": "display_data"
    }
   ],
   "source": [
    "# boxplot(column= 변수, by=  그룹 변수) \n",
    "df_fitness.boxplot(column=\"OXY\", by = [\"GENDER\", \"AGEGROUP\"])"
   ]
  },
  {
   "cell_type": "markdown",
   "metadata": {},
   "source": [
    "### 그래프분석_Pie Chart (P 67)"
   ]
  },
  {
   "cell_type": "code",
   "execution_count": 48,
   "metadata": {},
   "outputs": [
    {
     "data": {
      "text/plain": [
       "<matplotlib.axes._subplots.AxesSubplot at 0x286438b9f70>"
      ]
     },
     "execution_count": 48,
     "metadata": {},
     "output_type": "execute_result"
    },
    {
     "data": {
      "image/png": "[encoded data removed]",
      "text/plain": [
       "<Figure size 432x288 with 1 Axes>"
      ]
     },
     "metadata": {},
     "output_type": "display_data"
    }
   ],
   "source": [
    "# 성별 Pie Chart\n",
    "# groupby(column):column기준 자료 요약.(size : group별 자료 수)\n",
    "df_count = df_fitness.groupby([\"GENDER\"] ).size()\n",
    "# pie(데이터,labels=레이블  변수 지정,autopct=비율 %로 표시(%.1f%%: 소수점 1자리 적용)\n",
    "df_count.plot.pie(y = \"OXY\", autopct=\"%.1f%%\")"
   ]
  },
  {
   "cell_type": "code",
   "execution_count": 49,
   "metadata": {},
   "outputs": [
    {
     "data": {
      "text/plain": [
       "GENDER\n",
       "남성    15\n",
       "여성    16\n",
       "dtype: int64"
      ]
     },
     "execution_count": 49,
     "metadata": {},
     "output_type": "execute_result"
    }
   ],
   "source": [
    "df_count"
   ]
  },
  {
   "cell_type": "code",
   "execution_count": 50,
   "metadata": {},
   "outputs": [
    {
     "data": {
      "text/plain": [
       "<matplotlib.axes._subplots.AxesSubplot at 0x28643905a60>"
      ]
     },
     "execution_count": 50,
     "metadata": {},
     "output_type": "execute_result"
    },
    {
     "data": {
      "image/png": "[encoded data removed]",
      "text/plain": [
       "<Figure size 432x288 with 1 Axes>"
      ]
     },
     "metadata": {},
     "output_type": "display_data"
    }
   ],
   "source": [
    "# 성별+연령대 Pie Chart\n",
    "# groupby(column):column기준 자료 요약.(size : group별 자료 수)\n",
    "df_count = df_fitness.groupby([\"GENDER\", \"AGEGROUP\"] ).size()\n",
    "# pie(데이터,labels=레이블  변수 지정,autopct=비율 %로 표시(%.1f%%: 소수점 1자리 적용)\n",
    "df_count.plot.pie(y = \"OXY\", autopct=\"%.1f%%\")"
   ]
  },
  {
   "cell_type": "markdown",
   "metadata": {},
   "source": [
    "### 그래프분석_Scatter Plot (P 71)"
   ]
  },
  {
   "cell_type": "code",
   "execution_count": 51,
   "metadata": {},
   "outputs": [
    {
     "data": {
      "text/plain": [
       "<matplotlib.axes._subplots.AxesSubplot at 0x28642505a60>"
      ]
     },
     "execution_count": 51,
     "metadata": {},
     "output_type": "execute_result"
    },
    {
     "data": {
      "image/png": "[encoded data removed]",
      "text/plain": [
       "<Figure size 432x288 with 1 Axes>"
      ]
     },
     "metadata": {
      "needs_background": "light"
     },
     "output_type": "display_data"
    }
   ],
   "source": [
    "# seaborn.scatterplot method 이용 \n",
    "# scatterplot( x, y, hue: 그룹 변수, style : 그룹별 marker 구분 ,  data )\n",
    "sns.scatterplot(x = \"RUNTIME\", y = \"OXY\", hue = \"GENDER\", style= \"GENDER\", data = df_fitness)"
   ]
  },
  {
   "cell_type": "markdown",
   "metadata": {},
   "source": [
    "### 그래프분석_Scatter Matrix (P 74)"
   ]
  },
  {
   "cell_type": "code",
   "execution_count": 52,
   "metadata": {},
   "outputs": [
    {
     "data": {
      "text/plain": [
       "<seaborn.axisgrid.PairGrid at 0x286428007f0>"
      ]
     },
     "execution_count": 52,
     "metadata": {},
     "output_type": "execute_result"
    },
    {
     "data": {
      "image/png": "[encoded data removed]",
      "text/plain": [
       "<Figure size 1260x1260 with 56 Axes>"
      ]
     },
     "metadata": {
      "needs_background": "light"
     },
     "output_type": "display_data"
    }
   ],
   "source": [
    "# 전체 변수 간의 관계 Scatter Matrix 생성\n",
    "# pairplot(데이터): Scatter Plot  그래프 생성\n",
    "sns.pairplot(df_fitness)"
   ]
  },
  {
   "cell_type": "code",
   "execution_count": 53,
   "metadata": {},
   "outputs": [
    {
     "data": {
      "text/plain": [
       "<seaborn.axisgrid.PairGrid at 0x28644c93850>"
      ]
     },
     "execution_count": 53,
     "metadata": {},
     "output_type": "execute_result"
    },
    {
     "data": {
      "image/png": "[encoded data removed]",
      "text/plain": [
       "<Figure size 540x180 with 3 Axes>"
      ]
     },
     "metadata": {
      "needs_background": "light"
     },
     "output_type": "display_data"
    }
   ],
   "source": [
    "# y변수: 혈당산소 요구량, x변수: 맥박(운동), 맥박(최대), 운동시간 Scatter Matrix 생성\n",
    "# pairplot(데이터, y_vars = y축 변수 , x_vars = x축 변수 ): Scatter Plot  그래프 생성\n",
    "sns.pairplot(df_fitness , y_vars=[\"OXY\"] , x_vars=[\"RUNPULSE\",\"MAXPULSE\",\"RUNTIME\"])"
   ]
  },
  {
   "cell_type": "markdown",
   "metadata": {},
   "source": [
    "### 그래프분석_Trend Chart (P 77)"
   ]
  },
  {
   "cell_type": "code",
   "execution_count": 54,
   "metadata": {},
   "outputs": [
    {
     "data": {
      "text/html": [
       "<div>\n",
       "<style scoped>\n",
       "    .dataframe tbody tr th:only-of-type {\n",
       "        vertical-align: middle;\n",
       "    }\n",
       "\n",
       "    .dataframe tbody tr th {\n",
       "        vertical-align: top;\n",
       "    }\n",
       "\n",
       "    .dataframe thead th {\n",
       "        text-align: right;\n",
       "    }\n",
       "</style>\n",
       "<table border=\"1\" class=\"dataframe\">\n",
       "  <thead>\n",
       "    <tr style=\"text-align: right;\">\n",
       "      <th>CURRENCY</th>\n",
       "      <th>CNY</th>\n",
       "      <th>JPY</th>\n",
       "      <th>USD</th>\n",
       "    </tr>\n",
       "    <tr>\n",
       "      <th>APPL_DATE</th>\n",
       "      <th></th>\n",
       "      <th></th>\n",
       "      <th></th>\n",
       "    </tr>\n",
       "  </thead>\n",
       "  <tbody>\n",
       "    <tr>\n",
       "      <th>2016-01-01</th>\n",
       "      <td>181.48</td>\n",
       "      <td>976.99</td>\n",
       "      <td>1178.0</td>\n",
       "    </tr>\n",
       "    <tr>\n",
       "      <th>2016-01-02</th>\n",
       "      <td>181.48</td>\n",
       "      <td>976.99</td>\n",
       "      <td>1178.0</td>\n",
       "    </tr>\n",
       "    <tr>\n",
       "      <th>2016-01-03</th>\n",
       "      <td>181.48</td>\n",
       "      <td>976.99</td>\n",
       "      <td>1178.0</td>\n",
       "    </tr>\n",
       "    <tr>\n",
       "      <th>2016-01-04</th>\n",
       "      <td>181.10</td>\n",
       "      <td>992.62</td>\n",
       "      <td>1184.0</td>\n",
       "    </tr>\n",
       "    <tr>\n",
       "      <th>2016-01-05</th>\n",
       "      <td>181.94</td>\n",
       "      <td>993.00</td>\n",
       "      <td>1185.0</td>\n",
       "    </tr>\n",
       "  </tbody>\n",
       "</table>\n",
       "</div>"
      ],
      "text/plain": [
       "CURRENCY       CNY     JPY     USD\n",
       "APPL_DATE                         \n",
       "2016-01-01  181.48  976.99  1178.0\n",
       "2016-01-02  181.48  976.99  1178.0\n",
       "2016-01-03  181.48  976.99  1178.0\n",
       "2016-01-04  181.10  992.62  1184.0\n",
       "2016-01-05  181.94  993.00  1185.0"
      ]
     },
     "execution_count": 54,
     "metadata": {},
     "output_type": "execute_result"
    }
   ],
   "source": [
    "# Pivot 활용하여 각국 통화별 데이터 생성\n",
    "df_curreny_pivot = df_currency.pivot(index = \"APPL_DATE\", columns=\"CURRENCY\", values = \"STD_RATE\")\n",
    "df_curreny_pivot.head()"
   ]
  },
  {
   "cell_type": "code",
   "execution_count": 55,
   "metadata": {},
   "outputs": [
    {
     "data": {
      "text/plain": [
       "<matplotlib.axes._subplots.AxesSubplot at 0x28646573040>"
      ]
     },
     "execution_count": 55,
     "metadata": {},
     "output_type": "execute_result"
    },
    {
     "data": {
      "image/png": "[encoded data removed]",
      "text/plain": [
       "<Figure size 432x288 with 1 Axes>"
      ]
     },
     "metadata": {
      "needs_background": "light"
     },
     "output_type": "display_data"
    },
    {
     "data": {
      "image/png": "[encoded data removed]",
      "text/plain": [
       "<Figure size 432x288 with 1 Axes>"
      ]
     },
     "metadata": {
      "needs_background": "light"
     },
     "output_type": "display_data"
    }
   ],
   "source": [
    "# 중국 위안화 별도 그림(엔화, 달러와 단위 차이)\n",
    "df_curreny_pivot[\"CNY\"].plot()\n",
    "# 일본 엔화, 미국 달러\n",
    "df_curreny_pivot[[\"JPY\", \"USD\"]].plot()"
   ]
  },
  {
   "cell_type": "markdown",
   "metadata": {},
   "source": [
    "### 그래프분석_Heatmap (P 80)"
   ]
  },
  {
   "cell_type": "code",
   "execution_count": 56,
   "metadata": {},
   "outputs": [
    {
     "data": {
      "text/plain": [
       "<matplotlib.axes._subplots.AxesSubplot at 0x286466deaf0>"
      ]
     },
     "execution_count": 56,
     "metadata": {},
     "output_type": "execute_result"
    },
    {
     "data": {
      "image/png": "[encoded data removed]",
      "text/plain": [
       "<Figure size 432x288 with 2 Axes>"
      ]
     },
     "metadata": {
      "needs_background": "light"
     },
     "output_type": "display_data"
    }
   ],
   "source": [
    "# 성별과 연령대별 혈당 산소 요구량 평균 계산, groupby: (성별, 연령), agg(\"mean\"): 혈당 산소 요구량 평균값\n",
    "df_agg = df_fitness.groupby([\"GENDER\", \"AGEGROUP\"], as_index = False).agg(\"mean\")\n",
    "# pivot(성별, 연령대, 혈당 산소 요구량): x축(연령대), y축(성별), 값(혈당산소요구량의 평균)으로 pivot\n",
    "df_pivot = df_agg.pivot(\"GENDER\", \"AGEGROUP\", \"OXY\")\n",
    "# heatmap(데이터, cmap: 색상)\n",
    "sns.heatmap(df_pivot, cmap=\"Blues\")"
   ]
  },
  {
   "cell_type": "markdown",
   "metadata": {},
   "source": [
    "### 그래프분석_등고선 (P 83)"
   ]
  },
  {
   "cell_type": "code",
   "execution_count": 57,
   "metadata": {},
   "outputs": [
    {
     "data": {
      "text/plain": [
       "<matplotlib.axes._subplots.AxesSubplot at 0x2864675f730>"
      ]
     },
     "execution_count": 57,
     "metadata": {},
     "output_type": "execute_result"
    },
    {
     "data": {
      "image/png": "[encoded data removed]",
      "text/plain": [
       "<Figure size 432x288 with 1 Axes>"
      ]
     },
     "metadata": {
      "needs_background": "light"
     },
     "output_type": "display_data"
    }
   ],
   "source": [
    "# kdeplot(x축, y축 , shade: 음영 선택 여부) \n",
    "sns.kdeplot(df_fitness[\"RUNTIME\"], df_fitness[\"OXY\"], shade = False)"
   ]
  },
  {
   "cell_type": "code",
   "execution_count": 58,
   "metadata": {},
   "outputs": [
    {
     "data": {
      "text/plain": [
       "<matplotlib.axes._subplots.AxesSubplot at 0x286467e4580>"
      ]
     },
     "execution_count": 58,
     "metadata": {},
     "output_type": "execute_result"
    },
    {
     "data": {
      "image/png": "[encoded data removed]",
      "text/plain": [
       "<Figure size 432x288 with 1 Axes>"
      ]
     },
     "metadata": {
      "needs_background": "light"
     },
     "output_type": "display_data"
    }
   ],
   "source": [
    "sns.kdeplot(df_fitness[\"RUNTIME\"], df_fitness[\"OXY\"], shade = True)"
   ]
  },
  {
   "cell_type": "markdown",
   "metadata": {},
   "source": [
    "### 그래프분석_Parallel Plot (P 86)"
   ]
  },
  {
   "cell_type": "code",
   "execution_count": 59,
   "metadata": {},
   "outputs": [
    {
     "data": {
      "text/plain": [
       "<matplotlib.axes._subplots.AxesSubplot at 0x286467e4d90>"
      ]
     },
     "execution_count": 59,
     "metadata": {},
     "output_type": "execute_result"
    },
    {
     "data": {
      "image/png": "[encoded data removed]",
      "text/plain": [
       "<Figure size 432x288 with 1 Axes>"
      ]
     },
     "metadata": {
      "needs_background": "light"
     },
     "output_type": "display_data"
    }
   ],
   "source": [
    "# parallel_coordinates(데이터, 그룹 변수, cols = 변수, colormap= 다양한 colormap지정)\n",
    "pd.plotting.parallel_coordinates(df_fitness,\"GENDER\", cols=[\"OXY\", \"WEIGHT\", \"RSTPULSE\"], colormap=\"Accent\")"
   ]
  },
  {
   "cell_type": "code",
   "execution_count": 60,
   "metadata": {},
   "outputs": [
    {
     "data": {
      "text/plain": [
       "<matplotlib.axes._subplots.AxesSubplot at 0x286468fd430>"
      ]
     },
     "execution_count": 60,
     "metadata": {},
     "output_type": "execute_result"
    },
    {
     "data": {
      "image/png": "[encoded data removed]",
      "text/plain": [
       "<Figure size 432x288 with 1 Axes>"
      ]
     },
     "metadata": {
      "needs_background": "light"
     },
     "output_type": "display_data"
    }
   ],
   "source": [
    "pd.plotting.parallel_coordinates(df_fitness,\"GENDER\", cols=[\"OXY\", \"WEIGHT\", \"RSTPULSE\"], colormap=\"viridis\")"
   ]
  },
  {
   "cell_type": "markdown",
   "metadata": {},
   "source": [
    "### 그래프분석_Customizing (P 89)"
   ]
  },
  {
   "cell_type": "code",
   "execution_count": 61,
   "metadata": {},
   "outputs": [
    {
     "data": {
      "text/plain": [
       "Text(488.4227272727271, 0.5, '혈당 산소 요구량')"
      ]
     },
     "execution_count": 61,
     "metadata": {},
     "output_type": "execute_result"
    },
    {
     "data": {
      "image/png": "[encoded data removed]",
      "text/plain": [
       "<Figure size 936x720 with 4 Axes>"
      ]
     },
     "metadata": {
      "needs_background": "light"
     },
     "output_type": "display_data"
    }
   ],
   "source": [
    "df_count = df_fitness[\"AGEGROUP\"].value_counts() # Pie Chart를 위한 집계 데이터\n",
    "fig, axes = plt.subplots(nrows=2, ncols=2, figsize = (13, 10)) # (2, 2) 4분할, 4개의 그래프 생성\n",
    "plt.tight_layout(w_pad=5, h_pad=5) # w_pad: 열 사이 간격, h_pad: 행 사이 간격\n",
    "\n",
    "# Histogram\n",
    "axes[0,0].hist(df_fitness[\"OXY\"]) # [0,0] 위치에 Histogram 생성\n",
    "axes[0,0].set_title(\"Histogram\", fontsize = 15) # 제목 설정, 글자 크기 15\n",
    "axes[0,0].set_xlabel(\"혈당 산소 요구량\", fontsize = 12) # x축 label 지정\n",
    "\n",
    "# Pie Chart\n",
    "axes[0,1].pie(df_count, labels = df_count.index.tolist(), autopct = \"%.1f%%\") # [0,1] 위치에 Pie Chart 생성\n",
    "axes[0,1].set_title(\"Pie Chart\", fontsize = 15) \n",
    "axes[0,1].set_xlabel(\"연령대\", fontsize = 12)\n",
    "\n",
    "# Trend\n",
    "axes[1,0].plot(\"RUNTIME\", \"RUNPULSE\", data = df_fitness, label = \"맥박(운동)\") # [1, 0]  x축: 운동 시간, y축: 맥박(운동)\n",
    "axes[1,0].plot(\"RUNTIME\", \"OXY\", data = df_fitness, label = \"혈당 산소 요구량\") # x축: 운동 시간, y축: 산소 요구량\n",
    "axes[1,0].set_title(\"Trend\", fontsize = 15)\n",
    "axes[1,0].set_xlabel(\"운동 시간\", fontsize = 12)\n",
    "axes[1,0].legend() # 범례 표시\n",
    "\n",
    "# Scatter\n",
    "axes[1,1].scatter(\"RUNPULSE\", \"OXY\", data = df_fitness) # [1,1] 위치에 산점도 표시, x축: 맥박(운동) , y축: 산소 요구량\n",
    "axes[1,1].set_title(\"Scatter\", fontsize = 15)\n",
    "axes[1,1].set_xlabel(\"맥박(운동)\", fontsize = 12)\n",
    "axes[1,1].set_ylabel(\"혈당 산소 요구량\", fontsize = 12)"
   ]
  },
  {
   "cell_type": "markdown",
   "metadata": {},
   "source": [
    "### 타이타닉 탐색적 분석 (P 92)"
   ]
  },
  {
   "cell_type": "code",
   "execution_count": 62,
   "metadata": {},
   "outputs": [
    {
     "data": {
      "text/html": [
       "<div>\n",
       "<style scoped>\n",
       "    .dataframe tbody tr th:only-of-type {\n",
       "        vertical-align: middle;\n",
       "    }\n",
       "\n",
       "    .dataframe tbody tr th {\n",
       "        vertical-align: top;\n",
       "    }\n",
       "\n",
       "    .dataframe thead th {\n",
       "        text-align: right;\n",
       "    }\n",
       "</style>\n",
       "<table border=\"1\" class=\"dataframe\">\n",
       "  <thead>\n",
       "    <tr style=\"text-align: right;\">\n",
       "      <th></th>\n",
       "      <th>PassengerId</th>\n",
       "      <th>Survived</th>\n",
       "      <th>Pclass</th>\n",
       "      <th>Name</th>\n",
       "      <th>Sex</th>\n",
       "      <th>Age</th>\n",
       "      <th>SibSp</th>\n",
       "      <th>Parch</th>\n",
       "      <th>Ticket</th>\n",
       "      <th>Fare</th>\n",
       "      <th>Cabin</th>\n",
       "      <th>Embarked</th>\n",
       "    </tr>\n",
       "  </thead>\n",
       "  <tbody>\n",
       "    <tr>\n",
       "      <th>0</th>\n",
       "      <td>1</td>\n",
       "      <td>0</td>\n",
       "      <td>3</td>\n",
       "      <td>Braund, Mr. Owen Harris</td>\n",
       "      <td>male</td>\n",
       "      <td>22.0</td>\n",
       "      <td>1</td>\n",
       "      <td>0</td>\n",
       "      <td>A/5 21171</td>\n",
       "      <td>7.2500</td>\n",
       "      <td>NaN</td>\n",
       "      <td>S</td>\n",
       "    </tr>\n",
       "    <tr>\n",
       "      <th>1</th>\n",
       "      <td>2</td>\n",
       "      <td>1</td>\n",
       "      <td>1</td>\n",
       "      <td>Cumings, Mrs. John Bradley (Florence Briggs Th...</td>\n",
       "      <td>female</td>\n",
       "      <td>38.0</td>\n",
       "      <td>1</td>\n",
       "      <td>0</td>\n",
       "      <td>PC 17599</td>\n",
       "      <td>71.2833</td>\n",
       "      <td>C85</td>\n",
       "      <td>C</td>\n",
       "    </tr>\n",
       "    <tr>\n",
       "      <th>2</th>\n",
       "      <td>3</td>\n",
       "      <td>1</td>\n",
       "      <td>3</td>\n",
       "      <td>Heikkinen, Miss. Laina</td>\n",
       "      <td>female</td>\n",
       "      <td>26.0</td>\n",
       "      <td>0</td>\n",
       "      <td>0</td>\n",
       "      <td>STON/O2. 3101282</td>\n",
       "      <td>7.9250</td>\n",
       "      <td>NaN</td>\n",
       "      <td>S</td>\n",
       "    </tr>\n",
       "    <tr>\n",
       "      <th>3</th>\n",
       "      <td>4</td>\n",
       "      <td>1</td>\n",
       "      <td>1</td>\n",
       "      <td>Futrelle, Mrs. Jacques Heath (Lily May Peel)</td>\n",
       "      <td>female</td>\n",
       "      <td>35.0</td>\n",
       "      <td>1</td>\n",
       "      <td>0</td>\n",
       "      <td>113803</td>\n",
       "      <td>53.1000</td>\n",
       "      <td>C123</td>\n",
       "      <td>S</td>\n",
       "    </tr>\n",
       "    <tr>\n",
       "      <th>4</th>\n",
       "      <td>5</td>\n",
       "      <td>0</td>\n",
       "      <td>3</td>\n",
       "      <td>Allen, Mr. William Henry</td>\n",
       "      <td>male</td>\n",
       "      <td>35.0</td>\n",
       "      <td>0</td>\n",
       "      <td>0</td>\n",
       "      <td>373450</td>\n",
       "      <td>8.0500</td>\n",
       "      <td>NaN</td>\n",
       "      <td>S</td>\n",
       "    </tr>\n",
       "  </tbody>\n",
       "</table>\n",
       "</div>"
      ],
      "text/plain": [
       "   PassengerId  Survived  Pclass  \\\n",
       "0            1         0       3   \n",
       "1            2         1       1   \n",
       "2            3         1       3   \n",
       "3            4         1       1   \n",
       "4            5         0       3   \n",
       "\n",
       "                                                Name     Sex   Age  SibSp  \\\n",
       "0                            Braund, Mr. Owen Harris    male  22.0      1   \n",
       "1  Cumings, Mrs. John Bradley (Florence Briggs Th...  female  38.0      1   \n",
       "2                             Heikkinen, Miss. Laina  female  26.0      0   \n",
       "3       Futrelle, Mrs. Jacques Heath (Lily May Peel)  female  35.0      1   \n",
       "4                           Allen, Mr. William Henry    male  35.0      0   \n",
       "\n",
       "   Parch            Ticket     Fare Cabin Embarked  \n",
       "0      0         A/5 21171   7.2500   NaN        S  \n",
       "1      0          PC 17599  71.2833   C85        C  \n",
       "2      0  STON/O2. 3101282   7.9250   NaN        S  \n",
       "3      0            113803  53.1000  C123        S  \n",
       "4      0            373450   8.0500   NaN        S  "
      ]
     },
     "execution_count": 62,
     "metadata": {},
     "output_type": "execute_result"
    }
   ],
   "source": [
    "# 데이터 불러오기\n",
    "df_raw = pd.read_csv(\"C:/청년AI.BigData아카데미/data/titanic.csv\", engine = \"python\")\n",
    "df_raw.head()"
   ]
  },
  {
   "cell_type": "code",
   "execution_count": 63,
   "metadata": {},
   "outputs": [
    {
     "name": "stdout",
     "output_type": "stream",
     "text": [
      "<class 'pandas.core.frame.DataFrame'>\n",
      "RangeIndex: 156 entries, 0 to 155\n",
      "Data columns (total 12 columns):\n",
      " #   Column       Non-Null Count  Dtype  \n",
      "---  ------       --------------  -----  \n",
      " 0   PassengerId  156 non-null    int64  \n",
      " 1   Survived     156 non-null    int64  \n",
      " 2   Pclass       156 non-null    int64  \n",
      " 3   Name         156 non-null    object \n",
      " 4   Sex          156 non-null    object \n",
      " 5   Age          126 non-null    float64\n",
      " 6   SibSp        156 non-null    int64  \n",
      " 7   Parch        156 non-null    int64  \n",
      " 8   Ticket       156 non-null    object \n",
      " 9   Fare         156 non-null    float64\n",
      " 10  Cabin        31 non-null     object \n",
      " 11  Embarked     155 non-null    object \n",
      "dtypes: float64(2), int64(5), object(5)\n",
      "memory usage: 14.8+ KB\n"
     ]
    }
   ],
   "source": [
    "# 데이터속성 및 요약통계량 확인\n",
    "df_raw.info()"
   ]
  },
  {
   "cell_type": "code",
   "execution_count": 64,
   "metadata": {},
   "outputs": [
    {
     "data": {
      "text/plain": [
       "(156, 12)"
      ]
     },
     "execution_count": 64,
     "metadata": {},
     "output_type": "execute_result"
    }
   ],
   "source": [
    "df_raw.shape"
   ]
  },
  {
   "cell_type": "code",
   "execution_count": 65,
   "metadata": {},
   "outputs": [
    {
     "data": {
      "text/html": [
       "<div>\n",
       "<style scoped>\n",
       "    .dataframe tbody tr th:only-of-type {\n",
       "        vertical-align: middle;\n",
       "    }\n",
       "\n",
       "    .dataframe tbody tr th {\n",
       "        vertical-align: top;\n",
       "    }\n",
       "\n",
       "    .dataframe thead th {\n",
       "        text-align: right;\n",
       "    }\n",
       "</style>\n",
       "<table border=\"1\" class=\"dataframe\">\n",
       "  <thead>\n",
       "    <tr style=\"text-align: right;\">\n",
       "      <th></th>\n",
       "      <th>PassengerId</th>\n",
       "      <th>Survived</th>\n",
       "      <th>Pclass</th>\n",
       "      <th>Age</th>\n",
       "      <th>SibSp</th>\n",
       "      <th>Parch</th>\n",
       "      <th>Fare</th>\n",
       "    </tr>\n",
       "  </thead>\n",
       "  <tbody>\n",
       "    <tr>\n",
       "      <th>count</th>\n",
       "      <td>156.000000</td>\n",
       "      <td>156.000000</td>\n",
       "      <td>156.000000</td>\n",
       "      <td>126.000000</td>\n",
       "      <td>156.000000</td>\n",
       "      <td>156.000000</td>\n",
       "      <td>156.000000</td>\n",
       "    </tr>\n",
       "    <tr>\n",
       "      <th>mean</th>\n",
       "      <td>78.500000</td>\n",
       "      <td>0.346154</td>\n",
       "      <td>2.423077</td>\n",
       "      <td>28.141508</td>\n",
       "      <td>0.615385</td>\n",
       "      <td>0.397436</td>\n",
       "      <td>28.109587</td>\n",
       "    </tr>\n",
       "    <tr>\n",
       "      <th>std</th>\n",
       "      <td>45.177428</td>\n",
       "      <td>0.477275</td>\n",
       "      <td>0.795459</td>\n",
       "      <td>14.613880</td>\n",
       "      <td>1.056235</td>\n",
       "      <td>0.870146</td>\n",
       "      <td>39.401047</td>\n",
       "    </tr>\n",
       "    <tr>\n",
       "      <th>min</th>\n",
       "      <td>1.000000</td>\n",
       "      <td>0.000000</td>\n",
       "      <td>1.000000</td>\n",
       "      <td>0.830000</td>\n",
       "      <td>0.000000</td>\n",
       "      <td>0.000000</td>\n",
       "      <td>6.750000</td>\n",
       "    </tr>\n",
       "    <tr>\n",
       "      <th>25%</th>\n",
       "      <td>39.750000</td>\n",
       "      <td>0.000000</td>\n",
       "      <td>2.000000</td>\n",
       "      <td>19.000000</td>\n",
       "      <td>0.000000</td>\n",
       "      <td>0.000000</td>\n",
       "      <td>8.003150</td>\n",
       "    </tr>\n",
       "    <tr>\n",
       "      <th>50%</th>\n",
       "      <td>78.500000</td>\n",
       "      <td>0.000000</td>\n",
       "      <td>3.000000</td>\n",
       "      <td>26.000000</td>\n",
       "      <td>0.000000</td>\n",
       "      <td>0.000000</td>\n",
       "      <td>14.454200</td>\n",
       "    </tr>\n",
       "    <tr>\n",
       "      <th>75%</th>\n",
       "      <td>117.250000</td>\n",
       "      <td>1.000000</td>\n",
       "      <td>3.000000</td>\n",
       "      <td>35.000000</td>\n",
       "      <td>1.000000</td>\n",
       "      <td>0.000000</td>\n",
       "      <td>30.371850</td>\n",
       "    </tr>\n",
       "    <tr>\n",
       "      <th>max</th>\n",
       "      <td>156.000000</td>\n",
       "      <td>1.000000</td>\n",
       "      <td>3.000000</td>\n",
       "      <td>71.000000</td>\n",
       "      <td>5.000000</td>\n",
       "      <td>5.000000</td>\n",
       "      <td>263.000000</td>\n",
       "    </tr>\n",
       "  </tbody>\n",
       "</table>\n",
       "</div>"
      ],
      "text/plain": [
       "       PassengerId    Survived      Pclass         Age       SibSp  \\\n",
       "count   156.000000  156.000000  156.000000  126.000000  156.000000   \n",
       "mean     78.500000    0.346154    2.423077   28.141508    0.615385   \n",
       "std      45.177428    0.477275    0.795459   14.613880    1.056235   \n",
       "min       1.000000    0.000000    1.000000    0.830000    0.000000   \n",
       "25%      39.750000    0.000000    2.000000   19.000000    0.000000   \n",
       "50%      78.500000    0.000000    3.000000   26.000000    0.000000   \n",
       "75%     117.250000    1.000000    3.000000   35.000000    1.000000   \n",
       "max     156.000000    1.000000    3.000000   71.000000    5.000000   \n",
       "\n",
       "            Parch        Fare  \n",
       "count  156.000000  156.000000  \n",
       "mean     0.397436   28.109587  \n",
       "std      0.870146   39.401047  \n",
       "min      0.000000    6.750000  \n",
       "25%      0.000000    8.003150  \n",
       "50%      0.000000   14.454200  \n",
       "75%      0.000000   30.371850  \n",
       "max      5.000000  263.000000  "
      ]
     },
     "execution_count": 65,
     "metadata": {},
     "output_type": "execute_result"
    }
   ],
   "source": [
    "# 요약통계량\n",
    "df_raw.describe()"
   ]
  },
  {
   "cell_type": "code",
   "execution_count": 97,
   "metadata": {},
   "outputs": [
    {
     "data": {
      "text/plain": [
       "<matplotlib.axes._subplots.AxesSubplot at 0x2aafc09b640>"
      ]
     },
     "execution_count": 97,
     "metadata": {},
     "output_type": "execute_result"
    },
    {
     "data": {
      "image/png": "[encoded data removed]",
      "text/plain": [
       "<Figure size 432x288 with 1 Axes>"
      ]
     },
     "metadata": {
      "needs_background": "light"
     },
     "output_type": "display_data"
    }
   ],
   "source": [
    "# 수치형변수의 확인\n",
    "df_raw.boxplot()"
   ]
  },
  {
   "cell_type": "code",
   "execution_count": 66,
   "metadata": {},
   "outputs": [
    {
     "data": {
      "text/plain": [
       "0    102\n",
       "1     54\n",
       "Name: Survived, dtype: int64"
      ]
     },
     "execution_count": 66,
     "metadata": {},
     "output_type": "execute_result"
    }
   ],
   "source": [
    "# 목표변수 현황\n",
    "survived_ratio = df_raw['Survived'].value_counts(sort=False)\n",
    "survived_ratio"
   ]
  },
  {
   "cell_type": "code",
   "execution_count": 67,
   "metadata": {},
   "outputs": [
    {
     "data": {
      "text/plain": [
       "<matplotlib.axes._subplots.AxesSubplot at 0x28646dccfa0>"
      ]
     },
     "execution_count": 67,
     "metadata": {},
     "output_type": "execute_result"
    },
    {
     "data": {
      "image/png": "[encoded data removed]",
      "text/plain": [
       "<Figure size 432x288 with 1 Axes>"
      ]
     },
     "metadata": {},
     "output_type": "display_data"
    }
   ],
   "source": [
    "survived_ratio.plot.pie(y = 'Fare', autopct = '%.1f%%')"
   ]
  },
  {
   "cell_type": "code",
   "execution_count": 68,
   "metadata": {},
   "outputs": [
    {
     "data": {
      "text/plain": [
       "Kink, Mr. Vincenz                  1\n",
       "McGowan, Miss. Anna \"Annie\"        1\n",
       "Moore, Mr. Leonard Charles         1\n",
       "Richard, Mr. Emile                 1\n",
       "Moran, Miss. Bertha                1\n",
       "                                  ..\n",
       "Heikkinen, Miss. Laina             1\n",
       "Connors, Mr. Patrick               1\n",
       "Turpin, Mr. William John Robert    1\n",
       "Jussila, Miss. Katriina            1\n",
       "Stewart, Mr. Albert A              1\n",
       "Name: Name, Length: 156, dtype: int64"
      ]
     },
     "execution_count": 68,
     "metadata": {},
     "output_type": "execute_result"
    }
   ],
   "source": [
    "# 범주형변수별 현황\n",
    "name_ratio = df_raw['Name'].value_counts(sort=False)\n",
    "name_ratio"
   ]
  },
  {
   "cell_type": "code",
   "execution_count": 69,
   "metadata": {},
   "outputs": [
    {
     "data": {
      "text/plain": [
       "female     56\n",
       "male      100\n",
       "Name: Sex, dtype: int64"
      ]
     },
     "execution_count": 69,
     "metadata": {},
     "output_type": "execute_result"
    }
   ],
   "source": [
    "sex_ratio = df_raw['Sex'].value_counts(sort=False)\n",
    "sex_ratio"
   ]
  },
  {
   "cell_type": "code",
   "execution_count": 70,
   "metadata": {},
   "outputs": [
    {
     "data": {
      "text/plain": [
       "<matplotlib.axes._subplots.AxesSubplot at 0x286470c5f10>"
      ]
     },
     "execution_count": 70,
     "metadata": {},
     "output_type": "execute_result"
    },
    {
     "data": {
      "image/png": "[encoded data removed]",
      "text/plain": [
       "<Figure size 432x288 with 1 Axes>"
      ]
     },
     "metadata": {},
     "output_type": "display_data"
    }
   ],
   "source": [
    "sex_ratio.plot.pie(y = 'Fare', autopct = '%.1f%%')"
   ]
  },
  {
   "cell_type": "code",
   "execution_count": 71,
   "metadata": {},
   "outputs": [
    {
     "data": {
      "text/plain": [
       "B30            1\n",
       "E101           1\n",
       "C83            1\n",
       "B86            1\n",
       "G6             1\n",
       "A6             1\n",
       "B28            1\n",
       "D56            1\n",
       "E31            1\n",
       "F2             1\n",
       "B78            1\n",
       "D26            2\n",
       "A5             1\n",
       "B58 B60        1\n",
       "F G73          1\n",
       "C110           1\n",
       "F E69          1\n",
       "C123           2\n",
       "C2             1\n",
       "E46            1\n",
       "D47            1\n",
       "D33            1\n",
       "F33            1\n",
       "C23 C25 C27    2\n",
       "C52            1\n",
       "C85            1\n",
       "D10 D12        1\n",
       "C103           1\n",
       "Name: Cabin, dtype: int64"
      ]
     },
     "execution_count": 71,
     "metadata": {},
     "output_type": "execute_result"
    }
   ],
   "source": [
    "cabin_ratio = df_raw['Cabin'].value_counts(sort=False)\n",
    "cabin_ratio"
   ]
  },
  {
   "cell_type": "code",
   "execution_count": 72,
   "metadata": {},
   "outputs": [
    {
     "data": {
      "text/plain": [
       "C     32\n",
       "Q     13\n",
       "S    110\n",
       "Name: Embarked, dtype: int64"
      ]
     },
     "execution_count": 72,
     "metadata": {},
     "output_type": "execute_result"
    }
   ],
   "source": [
    "embarked_ratio = df_raw['Embarked'].value_counts(sort=False)\n",
    "embarked_ratio"
   ]
  },
  {
   "cell_type": "code",
   "execution_count": 73,
   "metadata": {},
   "outputs": [
    {
     "data": {
      "text/plain": [
       "<matplotlib.axes._subplots.AxesSubplot at 0x28646daebe0>"
      ]
     },
     "execution_count": 73,
     "metadata": {},
     "output_type": "execute_result"
    },
    {
     "data": {
      "image/png": "[encoded data removed]",
      "text/plain": [
       "<Figure size 432x288 with 1 Axes>"
      ]
     },
     "metadata": {},
     "output_type": "display_data"
    }
   ],
   "source": [
    "embarked_ratio.plot.pie(y = 'Fare', autopct = '%.1f%%')"
   ]
  },
  {
   "cell_type": "code",
   "execution_count": 74,
   "metadata": {},
   "outputs": [
    {
     "data": {
      "text/plain": [
       "<matplotlib.axes._subplots.AxesSubplot at 0x2864714f7f0>"
      ]
     },
     "execution_count": 74,
     "metadata": {},
     "output_type": "execute_result"
    },
    {
     "data": {
      "image/png": "[encoded data removed]",
      "text/plain": [
       "<Figure size 432x288 with 1 Axes>"
      ]
     },
     "metadata": {},
     "output_type": "display_data"
    }
   ],
   "source": [
    "pclass = df_raw['Pclass'].value_counts(sort=False)\n",
    "pclass.plot.pie(y = 'Fare', autopct = '%.1f%%')"
   ]
  },
  {
   "cell_type": "code",
   "execution_count": 75,
   "metadata": {},
   "outputs": [
    {
     "data": {
      "text/plain": [
       "PassengerId      0\n",
       "Survived         0\n",
       "Pclass           0\n",
       "Name             0\n",
       "Sex              0\n",
       "Age             30\n",
       "SibSp            0\n",
       "Parch            0\n",
       "Ticket           0\n",
       "Fare             0\n",
       "Cabin          125\n",
       "Embarked         1\n",
       "dtype: int64"
      ]
     },
     "execution_count": 75,
     "metadata": {},
     "output_type": "execute_result"
    }
   ],
   "source": [
    "# 결측치 확인\n",
    "df_raw.isnull().sum()"
   ]
  },
  {
   "cell_type": "code",
   "execution_count": 76,
   "metadata": {},
   "outputs": [],
   "source": [
    "# Embarked 결측치는 빈도수가 많은 S로 대체\n",
    "df_raw['Embarked'] = df_raw['Embarked'].fillna('S')\n",
    "df_raw['Embarked'] = df_raw['Embarked'].astype(str)"
   ]
  },
  {
   "cell_type": "code",
   "execution_count": 77,
   "metadata": {},
   "outputs": [],
   "source": [
    "# Age 결측치는 평균으로 대체\n",
    "df_raw['Age'].fillna(df_raw['Age'].mean(), inplace=True)\n",
    "df_raw['Age'] = df_raw['Age'].astype(int)"
   ]
  },
  {
   "cell_type": "code",
   "execution_count": 78,
   "metadata": {},
   "outputs": [],
   "source": [
    "# Cabin 결측치는 \"Gita\"로 대체\n",
    "df_raw['Cabin'] = df_raw['Cabin'].fillna('Gita')"
   ]
  },
  {
   "cell_type": "code",
   "execution_count": 79,
   "metadata": {},
   "outputs": [
    {
     "data": {
      "text/plain": [
       "PassengerId    0\n",
       "Survived       0\n",
       "Pclass         0\n",
       "Name           0\n",
       "Sex            0\n",
       "Age            0\n",
       "SibSp          0\n",
       "Parch          0\n",
       "Ticket         0\n",
       "Fare           0\n",
       "Cabin          0\n",
       "Embarked       0\n",
       "dtype: int64"
      ]
     },
     "execution_count": 79,
     "metadata": {},
     "output_type": "execute_result"
    }
   ],
   "source": [
    "df_raw.isnull().sum()"
   ]
  },
  {
   "cell_type": "code",
   "execution_count": 80,
   "metadata": {},
   "outputs": [],
   "source": [
    "# 파생변수 생성\n",
    "df_raw[\"Cabin_gb\"] = df_raw['Cabin'].str.get(i=0)\n",
    "df_raw.loc[df_raw['Age'] <= 14.2, 'Age_gb'] = 0\n",
    "df_raw.loc[(df_raw['Age'] > 14.2) & (df_raw['Age'] <= 28.4), 'Age_gb'] = 1\n",
    "df_raw.loc[(df_raw['Age'] > 28.4) & (df_raw['Age'] <= 42.6), 'Age_gb'] = 2\n",
    "df_raw.loc[(df_raw['Age'] > 42.6) & (df_raw['Age'] <= 56.8), 'Age_gb'] = 3\n",
    "df_raw.loc[df_raw['Age'] > 56.8, 'Age_gb'] = 4\n",
    "df_raw['Age_gb'] = df_raw['Age_gb'].map( { 0: 'Child',  1: 'Young', 2: 'Middle', 3: 'Prime', 4: 'Old'} ).astype(str)"
   ]
  },
  {
   "cell_type": "code",
   "execution_count": 81,
   "metadata": {},
   "outputs": [],
   "source": [
    "df_raw.loc[df_raw['Fare'] <= 58, 'Fare_gb'] = 0\n",
    "df_raw.loc[(df_raw['Fare'] > 58) & (df_raw['Fare'] <= 109.25), 'Fare_gb'] = 1\n",
    "df_raw.loc[(df_raw['Fare'] > 109.25) & (df_raw['Fare'] <= 160.5), 'Fare_gb'] = 2\n",
    "df_raw.loc[(df_raw['Fare'] > 160.5) & (df_raw['Fare'] <= 211.75), 'Fare_gb'] = 3\n",
    "df_raw.loc[df_raw['Fare'] > 211.75, 'Fare_gb'] = 4\n",
    "df_raw['Fare_gb'] = df_raw['Fare_gb'].astype(int)"
   ]
  },
  {
   "cell_type": "code",
   "execution_count": 82,
   "metadata": {},
   "outputs": [],
   "source": [
    "df_raw[\"Family\"] = df_raw[\"Parch\"] + df_raw[\"SibSp\"]\n",
    "df_raw['Family'] = df_raw['Family'].astype(int)"
   ]
  },
  {
   "cell_type": "code",
   "execution_count": 83,
   "metadata": {},
   "outputs": [
    {
     "data": {
      "text/html": [
       "<div>\n",
       "<style scoped>\n",
       "    .dataframe tbody tr th:only-of-type {\n",
       "        vertical-align: middle;\n",
       "    }\n",
       "\n",
       "    .dataframe tbody tr th {\n",
       "        vertical-align: top;\n",
       "    }\n",
       "\n",
       "    .dataframe thead th {\n",
       "        text-align: right;\n",
       "    }\n",
       "</style>\n",
       "<table border=\"1\" class=\"dataframe\">\n",
       "  <thead>\n",
       "    <tr style=\"text-align: right;\">\n",
       "      <th></th>\n",
       "      <th>PassengerId</th>\n",
       "      <th>Survived</th>\n",
       "      <th>Pclass</th>\n",
       "      <th>Name</th>\n",
       "      <th>Sex</th>\n",
       "      <th>Age</th>\n",
       "      <th>SibSp</th>\n",
       "      <th>Parch</th>\n",
       "      <th>Ticket</th>\n",
       "      <th>Fare</th>\n",
       "      <th>Cabin</th>\n",
       "      <th>Embarked</th>\n",
       "      <th>Cabin_gb</th>\n",
       "      <th>Age_gb</th>\n",
       "      <th>Fare_gb</th>\n",
       "      <th>Family</th>\n",
       "    </tr>\n",
       "  </thead>\n",
       "  <tbody>\n",
       "    <tr>\n",
       "      <th>0</th>\n",
       "      <td>1</td>\n",
       "      <td>0</td>\n",
       "      <td>3</td>\n",
       "      <td>Braund, Mr. Owen Harris</td>\n",
       "      <td>male</td>\n",
       "      <td>22</td>\n",
       "      <td>1</td>\n",
       "      <td>0</td>\n",
       "      <td>A/5 21171</td>\n",
       "      <td>7.2500</td>\n",
       "      <td>Gita</td>\n",
       "      <td>S</td>\n",
       "      <td>G</td>\n",
       "      <td>Young</td>\n",
       "      <td>0</td>\n",
       "      <td>1</td>\n",
       "    </tr>\n",
       "    <tr>\n",
       "      <th>1</th>\n",
       "      <td>2</td>\n",
       "      <td>1</td>\n",
       "      <td>1</td>\n",
       "      <td>Cumings, Mrs. John Bradley (Florence Briggs Th...</td>\n",
       "      <td>female</td>\n",
       "      <td>38</td>\n",
       "      <td>1</td>\n",
       "      <td>0</td>\n",
       "      <td>PC 17599</td>\n",
       "      <td>71.2833</td>\n",
       "      <td>C85</td>\n",
       "      <td>C</td>\n",
       "      <td>C</td>\n",
       "      <td>Middle</td>\n",
       "      <td>1</td>\n",
       "      <td>1</td>\n",
       "    </tr>\n",
       "    <tr>\n",
       "      <th>2</th>\n",
       "      <td>3</td>\n",
       "      <td>1</td>\n",
       "      <td>3</td>\n",
       "      <td>Heikkinen, Miss. Laina</td>\n",
       "      <td>female</td>\n",
       "      <td>26</td>\n",
       "      <td>0</td>\n",
       "      <td>0</td>\n",
       "      <td>STON/O2. 3101282</td>\n",
       "      <td>7.9250</td>\n",
       "      <td>Gita</td>\n",
       "      <td>S</td>\n",
       "      <td>G</td>\n",
       "      <td>Young</td>\n",
       "      <td>0</td>\n",
       "      <td>0</td>\n",
       "    </tr>\n",
       "    <tr>\n",
       "      <th>3</th>\n",
       "      <td>4</td>\n",
       "      <td>1</td>\n",
       "      <td>1</td>\n",
       "      <td>Futrelle, Mrs. Jacques Heath (Lily May Peel)</td>\n",
       "      <td>female</td>\n",
       "      <td>35</td>\n",
       "      <td>1</td>\n",
       "      <td>0</td>\n",
       "      <td>113803</td>\n",
       "      <td>53.1000</td>\n",
       "      <td>C123</td>\n",
       "      <td>S</td>\n",
       "      <td>C</td>\n",
       "      <td>Middle</td>\n",
       "      <td>0</td>\n",
       "      <td>1</td>\n",
       "    </tr>\n",
       "    <tr>\n",
       "      <th>4</th>\n",
       "      <td>5</td>\n",
       "      <td>0</td>\n",
       "      <td>3</td>\n",
       "      <td>Allen, Mr. William Henry</td>\n",
       "      <td>male</td>\n",
       "      <td>35</td>\n",
       "      <td>0</td>\n",
       "      <td>0</td>\n",
       "      <td>373450</td>\n",
       "      <td>8.0500</td>\n",
       "      <td>Gita</td>\n",
       "      <td>S</td>\n",
       "      <td>G</td>\n",
       "      <td>Middle</td>\n",
       "      <td>0</td>\n",
       "      <td>0</td>\n",
       "    </tr>\n",
       "  </tbody>\n",
       "</table>\n",
       "</div>"
      ],
      "text/plain": [
       "   PassengerId  Survived  Pclass  \\\n",
       "0            1         0       3   \n",
       "1            2         1       1   \n",
       "2            3         1       3   \n",
       "3            4         1       1   \n",
       "4            5         0       3   \n",
       "\n",
       "                                                Name     Sex  Age  SibSp  \\\n",
       "0                            Braund, Mr. Owen Harris    male   22      1   \n",
       "1  Cumings, Mrs. John Bradley (Florence Briggs Th...  female   38      1   \n",
       "2                             Heikkinen, Miss. Laina  female   26      0   \n",
       "3       Futrelle, Mrs. Jacques Heath (Lily May Peel)  female   35      1   \n",
       "4                           Allen, Mr. William Henry    male   35      0   \n",
       "\n",
       "   Parch            Ticket     Fare Cabin Embarked Cabin_gb  Age_gb  Fare_gb  \\\n",
       "0      0         A/5 21171   7.2500  Gita        S        G   Young        0   \n",
       "1      0          PC 17599  71.2833   C85        C        C  Middle        1   \n",
       "2      0  STON/O2. 3101282   7.9250  Gita        S        G   Young        0   \n",
       "3      0            113803  53.1000  C123        S        C  Middle        0   \n",
       "4      0            373450   8.0500  Gita        S        G  Middle        0   \n",
       "\n",
       "   Family  \n",
       "0       1  \n",
       "1       1  \n",
       "2       0  \n",
       "3       1  \n",
       "4       0  "
      ]
     },
     "execution_count": 83,
     "metadata": {},
     "output_type": "execute_result"
    }
   ],
   "source": [
    "df_raw.head()"
   ]
  },
  {
   "cell_type": "code",
   "execution_count": 84,
   "metadata": {},
   "outputs": [
    {
     "data": {
      "text/plain": [
       "<matplotlib.axes._subplots.AxesSubplot at 0x286471acc40>"
      ]
     },
     "execution_count": 84,
     "metadata": {},
     "output_type": "execute_result"
    },
    {
     "data": {
      "image/png": "[encoded data removed]",
      "text/plain": [
       "<Figure size 432x288 with 1 Axes>"
      ]
     },
     "metadata": {},
     "output_type": "display_data"
    }
   ],
   "source": [
    "# 탐색적 분석 \n",
    "survived = df_raw[df_raw['Survived'] == 1]['Sex'].value_counts()\n",
    "dead = df_raw[df_raw['Survived'] == 0]['Sex'].value_counts()\n",
    "survived.plot.pie(y = 'Fare', autopct = '%.1f%%')"
   ]
  },
  {
   "cell_type": "code",
   "execution_count": 85,
   "metadata": {},
   "outputs": [
    {
     "data": {
      "text/plain": [
       "<matplotlib.axes._subplots.AxesSubplot at 0x286471d77c0>"
      ]
     },
     "execution_count": 85,
     "metadata": {},
     "output_type": "execute_result"
    },
    {
     "data": {
      "image/png": "[encoded data removed]",
      "text/plain": [
       "<Figure size 432x288 with 1 Axes>"
      ]
     },
     "metadata": {},
     "output_type": "display_data"
    }
   ],
   "source": [
    "dead.plot.pie(y = 'Fare', autopct = '%.1f%%')"
   ]
  },
  {
   "cell_type": "code",
   "execution_count": 86,
   "metadata": {},
   "outputs": [
    {
     "data": {
      "text/plain": [
       "<matplotlib.axes._subplots.AxesSubplot at 0x2864721ba60>"
      ]
     },
     "execution_count": 86,
     "metadata": {},
     "output_type": "execute_result"
    },
    {
     "data": {
      "image/png": "[encoded data removed]",
      "text/plain": [
       "<Figure size 432x288 with 1 Axes>"
      ]
     },
     "metadata": {},
     "output_type": "display_data"
    }
   ],
   "source": [
    "pclass = df_raw['Pclass'].value_counts(sort=False)\n",
    "pclass.plot.pie(y = 'Fare', autopct = '%.1f%%')"
   ]
  },
  {
   "cell_type": "code",
   "execution_count": 87,
   "metadata": {},
   "outputs": [
    {
     "data": {
      "text/plain": [
       "<matplotlib.axes._subplots.AxesSubplot at 0x28647266220>"
      ]
     },
     "execution_count": 87,
     "metadata": {},
     "output_type": "execute_result"
    },
    {
     "data": {
      "image/png": "[encoded data removed]",
      "text/plain": [
       "<Figure size 432x288 with 1 Axes>"
      ]
     },
     "metadata": {},
     "output_type": "display_data"
    }
   ],
   "source": [
    "pclass1 = df_raw[df_raw['Survived'] == 1]['Pclass'].value_counts()\n",
    "pclass1.plot.pie(y = 'Fare', autopct = '%.1f%%')"
   ]
  },
  {
   "cell_type": "code",
   "execution_count": 88,
   "metadata": {},
   "outputs": [
    {
     "data": {
      "text/plain": [
       "<matplotlib.axes._subplots.AxesSubplot at 0x286472ab7f0>"
      ]
     },
     "execution_count": 88,
     "metadata": {},
     "output_type": "execute_result"
    },
    {
     "data": {
      "image/png": "[encoded data removed]",
      "text/plain": [
       "<Figure size 432x288 with 1 Axes>"
      ]
     },
     "metadata": {},
     "output_type": "display_data"
    }
   ],
   "source": [
    "pclass0 = df_raw[df_raw['Survived'] == 0]['Pclass'].value_counts()\n",
    "pclass0.plot.pie(y = 'Fare', autopct = '%.1f%%')"
   ]
  },
  {
   "cell_type": "code",
   "execution_count": 89,
   "metadata": {},
   "outputs": [
    {
     "data": {
      "text/plain": [
       "<matplotlib.axes._subplots.AxesSubplot at 0x286472e5e50>"
      ]
     },
     "execution_count": 89,
     "metadata": {},
     "output_type": "execute_result"
    },
    {
     "data": {
      "image/png": "[encoded data removed]",
      "text/plain": [
       "<Figure size 432x288 with 1 Axes>"
      ]
     },
     "metadata": {},
     "output_type": "display_data"
    }
   ],
   "source": [
    "pclass1 = df_raw[df_raw['Pclass'] == 1]['Survived'].value_counts()\n",
    "pclass1.plot.pie(y = 'Fare', autopct = '%.1f%%')"
   ]
  },
  {
   "cell_type": "code",
   "execution_count": 90,
   "metadata": {},
   "outputs": [
    {
     "data": {
      "text/plain": [
       "<matplotlib.axes._subplots.AxesSubplot at 0x28647326e20>"
      ]
     },
     "execution_count": 90,
     "metadata": {},
     "output_type": "execute_result"
    },
    {
     "data": {
      "image/png": "[encoded data removed]",
      "text/plain": [
       "<Figure size 432x288 with 1 Axes>"
      ]
     },
     "metadata": {},
     "output_type": "display_data"
    }
   ],
   "source": [
    "pclass2 = df_raw[df_raw['Pclass'] == 2]['Survived'].value_counts()\n",
    "pclass2.plot.pie(y = 'Fare', autopct = '%.1f%%')"
   ]
  },
  {
   "cell_type": "code",
   "execution_count": 91,
   "metadata": {},
   "outputs": [
    {
     "data": {
      "text/plain": [
       "<matplotlib.axes._subplots.AxesSubplot at 0x28647367e50>"
      ]
     },
     "execution_count": 91,
     "metadata": {},
     "output_type": "execute_result"
    },
    {
     "data": {
      "image/png": "[encoded data removed]",
      "text/plain": [
       "<Figure size 432x288 with 1 Axes>"
      ]
     },
     "metadata": {},
     "output_type": "display_data"
    }
   ],
   "source": [
    "pclass3 = df_raw[df_raw['Pclass'] == 3]['Survived'].value_counts()\n",
    "pclass3.plot.pie(y = 'Fare', autopct = '%.1f%%')"
   ]
  },
  {
   "cell_type": "code",
   "execution_count": 92,
   "metadata": {},
   "outputs": [
    {
     "data": {
      "text/plain": [
       "<matplotlib.axes._subplots.AxesSubplot at 0x286473a6d90>"
      ]
     },
     "execution_count": 92,
     "metadata": {},
     "output_type": "execute_result"
    },
    {
     "data": {
      "image/png": "[encoded data removed]",
      "text/plain": [
       "<Figure size 432x288 with 1 Axes>"
      ]
     },
     "metadata": {},
     "output_type": "display_data"
    }
   ],
   "source": [
    "embarked = df_raw['Embarked'].value_counts(sort=False)\n",
    "embarked.plot.pie(y = 'Fare', autopct = '%.1f%%')"
   ]
  },
  {
   "cell_type": "code",
   "execution_count": 93,
   "metadata": {},
   "outputs": [
    {
     "data": {
      "text/plain": [
       "<matplotlib.axes._subplots.AxesSubplot at 0x286473fc550>"
      ]
     },
     "execution_count": 93,
     "metadata": {},
     "output_type": "execute_result"
    },
    {
     "data": {
      "image/png": "[encoded data removed]",
      "text/plain": [
       "<Figure size 432x288 with 1 Axes>"
      ]
     },
     "metadata": {},
     "output_type": "display_data"
    }
   ],
   "source": [
    "embarked1 = df_raw[df_raw['Embarked'] == 'C']['Survived'].value_counts()\n",
    "embarked1.plot.pie(y = 'Fare', autopct = '%.1f%%')"
   ]
  },
  {
   "cell_type": "code",
   "execution_count": 94,
   "metadata": {},
   "outputs": [
    {
     "data": {
      "text/plain": [
       "<matplotlib.axes._subplots.AxesSubplot at 0x2864743b550>"
      ]
     },
     "execution_count": 94,
     "metadata": {},
     "output_type": "execute_result"
    },
    {
     "data": {
      "image/png": "[encoded data removed]",
      "text/plain": [
       "<Figure size 432x288 with 1 Axes>"
      ]
     },
     "metadata": {},
     "output_type": "display_data"
    }
   ],
   "source": [
    "embarked2 = df_raw[df_raw['Embarked'] == 'Q']['Survived'].value_counts()\n",
    "embarked2.plot.pie(y = 'Fare', autopct = '%.1f%%')"
   ]
  },
  {
   "cell_type": "code",
   "execution_count": 95,
   "metadata": {},
   "outputs": [
    {
     "data": {
      "text/plain": [
       "<matplotlib.axes._subplots.AxesSubplot at 0x28646735e80>"
      ]
     },
     "execution_count": 95,
     "metadata": {},
     "output_type": "execute_result"
    },
    {
     "data": {
      "image/png": "[encoded data removed]",
      "text/plain": [
       "<Figure size 432x288 with 1 Axes>"
      ]
     },
     "metadata": {},
     "output_type": "display_data"
    }
   ],
   "source": [
    "embarked3 = df_raw[df_raw['Embarked'] == 'S']['Survived'].value_counts()\n",
    "embarked3.plot.pie(y = 'Fare', autopct = '%.1f%%')"
   ]
  },
  {
   "cell_type": "code",
   "execution_count": 96,
   "metadata": {},
   "outputs": [
    {
     "data": {
      "text/plain": [
       "<matplotlib.axes._subplots.AxesSubplot at 0x28646699b20>"
      ]
     },
     "execution_count": 96,
     "metadata": {},
     "output_type": "execute_result"
    },
    {
     "data": {
      "image/png": "[encoded data removed]",
      "text/plain": [
       "<Figure size 720x360 with 1 Axes>"
      ]
     },
     "metadata": {
      "needs_background": "light"
     },
     "output_type": "display_data"
    }
   ],
   "source": [
    "survived = df_raw[df_raw['Survived']==1]['Family'].value_counts()\n",
    "dead = df_raw[df_raw['Survived']==0]['Family'].value_counts()\n",
    "df = pd.DataFrame([survived,dead])\n",
    "df.index = ['Survived','Dead']\n",
    "df.plot(kind='bar',stacked=True, figsize=(10,5))"
   ]
  },
  {
   "cell_type": "code",
   "execution_count": 97,
   "metadata": {},
   "outputs": [
    {
     "data": {
      "text/plain": [
       "<matplotlib.axes._subplots.AxesSubplot at 0x28646527f40>"
      ]
     },
     "execution_count": 97,
     "metadata": {},
     "output_type": "execute_result"
    },
    {
     "data": {
      "image/png": "[encoded data removed]",
      "text/plain": [
       "<Figure size 720x360 with 1 Axes>"
      ]
     },
     "metadata": {
      "needs_background": "light"
     },
     "output_type": "display_data"
    }
   ],
   "source": [
    "survived = df_raw[df_raw['Survived']==1]['Age_gb'].value_counts()\n",
    "dead = df_raw[df_raw['Survived']==0]['Age_gb'].value_counts()\n",
    "df = pd.DataFrame([survived,dead])\n",
    "df.index = ['Survived','Dead']\n",
    "df.plot(kind='bar',stacked=True, figsize=(10,5))"
   ]
  },
  {
   "cell_type": "code",
   "execution_count": 98,
   "metadata": {},
   "outputs": [
    {
     "data": {
      "text/plain": [
       "<matplotlib.axes._subplots.AxesSubplot at 0x286466400a0>"
      ]
     },
     "execution_count": 98,
     "metadata": {},
     "output_type": "execute_result"
    },
    {
     "data": {
      "image/png": "[encoded data removed]",
      "text/plain": [
       "<Figure size 720x360 with 1 Axes>"
      ]
     },
     "metadata": {
      "needs_background": "light"
     },
     "output_type": "display_data"
    }
   ],
   "source": [
    "survived = df_raw[df_raw['Survived']==1]['Fare_gb'].value_counts()\n",
    "dead = df_raw[df_raw['Survived']==0]['Fare_gb'].value_counts()\n",
    "df = pd.DataFrame([survived,dead])\n",
    "df.index = ['Survived','Dead']\n",
    "df.plot(kind='bar',stacked=True, figsize=(10,5))"
   ]
  },
  {
   "cell_type": "code",
   "execution_count": null,
   "metadata": {},
   "outputs": [],
   "source": []
  }
 ],
 "metadata": {
  "kernelspec": {
   "display_name": "Python 3",
   "language": "python",
   "name": "python3"
  },
  "language_info": {
   "codemirror_mode": {
    "name": "ipython",
    "version": 3
   },
   "file_extension": ".py",
   "mimetype": "text/x-python",
   "name": "python",
   "nbconvert_exporter": "python",
   "pygments_lexer": "ipython3",
   "version": "3.8.3"
  }
 },
 "nbformat": 4,
 "nbformat_minor": 2
}
